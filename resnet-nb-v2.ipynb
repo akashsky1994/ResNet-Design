{
 "cells": [
  {
   "cell_type": "code",
   "execution_count": 14,
   "metadata": {},
   "outputs": [],
   "source": [
    "# !pip install tqdm\n",
    "# !pip install torchsummary"
   ]
  },
  {
   "cell_type": "code",
   "execution_count": 1,
   "metadata": {},
   "outputs": [],
   "source": [
    "# Importing relevant packages\n",
    "import torch\n",
    "import torch.nn as nn\n",
    "import torch.nn.functional as F\n",
    "from torchvision import datasets, models, transforms\n",
    "import matplotlib.pyplot as plt\n",
    "from tqdm import tqdm\n",
    "\n",
    "from project1_model import ResNet, BasicBlock\n"
   ]
  },
  {
   "cell_type": "code",
   "execution_count": 2,
   "metadata": {},
   "outputs": [],
   "source": [
    "# fetching device\n",
    "device = torch.device(\"cuda\" if torch.cuda.is_available() else \"cpu\")\n",
    "\n",
    "# parameters\n",
    "num_workers = 10\n",
    "batch_size = 128\n",
    "learningRate = 0.2\n",
    "weight_decay = 0.0005\n",
    "res_blocks = [2,3,2]\n",
    "num_res_layer = len(res_blocks)\n",
    "kernel=(5,2)\n",
    "skip_kernel=(3,1)\n",
    "channels = 32"
   ]
  },
  {
   "cell_type": "markdown",
   "metadata": {},
   "source": [
    "#### Mean and Standard Deviation for Cifar Dataset -\n",
    "\n",
    "Mean: tensor([0.4914, 0.4822, 0.4465])\n",
    "\n",
    "Standard deviation: tensor([0.2471, 0.2435, 0.2616])"
   ]
  },
  {
   "cell_type": "code",
   "execution_count": 3,
   "metadata": {},
   "outputs": [
    {
     "name": "stdout",
     "output_type": "stream",
     "text": [
      "Files already downloaded and verified\n",
      "Files already downloaded and verified\n"
     ]
    }
   ],
   "source": [
    "data_transforms = {\n",
    "    'train': transforms.Compose([\n",
    "        transforms.RandomHorizontalFlip(),\n",
    "        #transforms.RandomRotation(degrees=(90)),\n",
    "        transforms.RandomCrop(32, padding=4),\n",
    "        #transforms.ColorJitter(brightness=0.5, contrast=0.5, saturation=0.5, hue=0.5),\n",
    "        transforms.ToTensor(),\n",
    "        transforms.Normalize([0.4914, 0.4822, 0.4465], [0.2471, 0.2435, 0.2616]),\n",
    "#         transforms.RandomErasing(),\n",
    "\n",
    "    ]),\n",
    "    'val': transforms.Compose([\n",
    "        # transforms.CenterCrop(224),\n",
    "        transforms.ToTensor(),\n",
    "        transforms.Normalize([0.4914, 0.4822, 0.4465], [0.2471, 0.2435, 0.2616])\n",
    "    ]),\n",
    "}\n",
    "\n",
    "\n",
    "dataloaders = {}\n",
    "for phase in ['train','val']:\n",
    "    dataset = datasets.CIFAR10(root='./data', train=(phase=='train'),download=True, transform=data_transforms[phase])\n",
    "    dataloaders[phase] = torch.utils.data.DataLoader(dataset, batch_size=batch_size,shuffle=(phase=='train'), num_workers=num_workers)"
   ]
  },
  {
   "cell_type": "code",
   "execution_count": 4,
   "metadata": {},
   "outputs": [],
   "source": [
    "model = ResNet(BasicBlock, channels, num_res_layer, res_blocks,kernel=kernel,skip_kernel=skip_kernel)\n",
    "model = model.to(device)"
   ]
  },
  {
   "cell_type": "code",
   "execution_count": 5,
   "metadata": {},
   "outputs": [],
   "source": [
    "LossFunc = torch.nn.CrossEntropyLoss()\n",
    "\n",
    "optimizer = torch.optim.Adadelta(model.parameters(), lr=learningRate, weight_decay=weight_decay)\n",
    "\n",
    "save_loss = {'train':[], 'val':[]}\n",
    "save_acc = {'train':[], 'val':[]}"
   ]
  },
  {
   "cell_type": "code",
   "execution_count": 6,
   "metadata": {},
   "outputs": [
    {
     "name": "stdout",
     "output_type": "stream",
     "text": [
      "----------------------------------------------------------------\n",
      "        Layer (type)               Output Shape         Param #\n",
      "================================================================\n",
      "            Conv2d-1           [-1, 32, 32, 32]           2,432\n",
      "       BatchNorm2d-2           [-1, 32, 32, 32]              64\n",
      "            Conv2d-3           [-1, 32, 32, 32]          25,632\n",
      "       BatchNorm2d-4           [-1, 32, 32, 32]              64\n",
      "            Conv2d-5           [-1, 32, 32, 32]          25,632\n",
      "       BatchNorm2d-6           [-1, 32, 32, 32]              64\n",
      "        BasicBlock-7           [-1, 32, 32, 32]               0\n",
      "            Conv2d-8           [-1, 32, 32, 32]          25,632\n",
      "       BatchNorm2d-9           [-1, 32, 32, 32]              64\n",
      "           Conv2d-10           [-1, 32, 32, 32]          25,632\n",
      "      BatchNorm2d-11           [-1, 32, 32, 32]              64\n",
      "       BasicBlock-12           [-1, 32, 32, 32]               0\n",
      "           Conv2d-13           [-1, 64, 16, 16]          51,264\n",
      "      BatchNorm2d-14           [-1, 64, 16, 16]             128\n",
      "           Conv2d-15           [-1, 64, 16, 16]         102,464\n",
      "      BatchNorm2d-16           [-1, 64, 16, 16]             128\n",
      "           Conv2d-17           [-1, 64, 16, 16]          18,496\n",
      "      BatchNorm2d-18           [-1, 64, 16, 16]             128\n",
      "       BasicBlock-19           [-1, 64, 16, 16]               0\n",
      "           Conv2d-20           [-1, 64, 16, 16]         102,464\n",
      "      BatchNorm2d-21           [-1, 64, 16, 16]             128\n",
      "           Conv2d-22           [-1, 64, 16, 16]         102,464\n",
      "      BatchNorm2d-23           [-1, 64, 16, 16]             128\n",
      "       BasicBlock-24           [-1, 64, 16, 16]               0\n",
      "           Conv2d-25           [-1, 64, 16, 16]         102,464\n",
      "      BatchNorm2d-26           [-1, 64, 16, 16]             128\n",
      "           Conv2d-27           [-1, 64, 16, 16]         102,464\n",
      "      BatchNorm2d-28           [-1, 64, 16, 16]             128\n",
      "       BasicBlock-29           [-1, 64, 16, 16]               0\n",
      "           Conv2d-30            [-1, 128, 8, 8]         204,928\n",
      "      BatchNorm2d-31            [-1, 128, 8, 8]             256\n",
      "           Conv2d-32            [-1, 128, 8, 8]         409,728\n",
      "      BatchNorm2d-33            [-1, 128, 8, 8]             256\n",
      "           Conv2d-34            [-1, 128, 8, 8]          73,856\n",
      "      BatchNorm2d-35            [-1, 128, 8, 8]             256\n",
      "       BasicBlock-36            [-1, 128, 8, 8]               0\n",
      "           Conv2d-37            [-1, 128, 8, 8]         409,728\n",
      "      BatchNorm2d-38            [-1, 128, 8, 8]             256\n",
      "           Conv2d-39            [-1, 128, 8, 8]         409,728\n",
      "      BatchNorm2d-40            [-1, 128, 8, 8]             256\n",
      "       BasicBlock-41            [-1, 128, 8, 8]               0\n",
      "           Linear-42                   [-1, 10]           1,290\n",
      "================================================================\n",
      "Total params: 2,198,794\n",
      "Trainable params: 2,198,794\n",
      "Non-trainable params: 0\n",
      "----------------------------------------------------------------\n",
      "Input size (MB): 0.01\n",
      "Forward/backward pass size (MB): 5.88\n",
      "Params size (MB): 8.39\n",
      "Estimated Total Size (MB): 14.27\n",
      "----------------------------------------------------------------\n",
      "None\n"
     ]
    }
   ],
   "source": [
    "from torchsummary import summary\n",
    "print(summary(model, input_size=(3, 32, 32)))"
   ]
  },
  {
   "cell_type": "code",
   "execution_count": 7,
   "metadata": {},
   "outputs": [
    {
     "name": "stderr",
     "output_type": "stream",
     "text": [
      "  0%|          | 0/100 [00:00<?, ?it/s]"
     ]
    },
    {
     "name": "stdout",
     "output_type": "stream",
     "text": [
      "Epoch:0 -- Phase:train -- Loss:1.48 -- Acc:45.81\n"
     ]
    },
    {
     "name": "stderr",
     "output_type": "stream",
     "text": [
      "  1%|          | 1/100 [00:19<31:52, 19.32s/it]"
     ]
    },
    {
     "name": "stdout",
     "output_type": "stream",
     "text": [
      "Epoch:0 -- Phase:val -- Loss:1.46 -- Acc:51.25\n",
      "Epoch:1 -- Phase:train -- Loss:0.99 -- Acc:64.76\n"
     ]
    },
    {
     "name": "stderr",
     "output_type": "stream",
     "text": [
      "  2%|▏         | 2/100 [00:38<31:33, 19.32s/it]"
     ]
    },
    {
     "name": "stdout",
     "output_type": "stream",
     "text": [
      "Epoch:1 -- Phase:val -- Loss:1.04 -- Acc:64.16\n",
      "Epoch:2 -- Phase:train -- Loss:0.79 -- Acc:72.13\n"
     ]
    },
    {
     "name": "stderr",
     "output_type": "stream",
     "text": [
      "  3%|▎         | 3/100 [00:57<31:11, 19.29s/it]"
     ]
    },
    {
     "name": "stdout",
     "output_type": "stream",
     "text": [
      "Epoch:2 -- Phase:val -- Loss:0.88 -- Acc:70.24\n",
      "Epoch:3 -- Phase:train -- Loss:0.67 -- Acc:76.52\n"
     ]
    },
    {
     "name": "stderr",
     "output_type": "stream",
     "text": [
      "  4%|▍         | 4/100 [01:17<30:49, 19.26s/it]"
     ]
    },
    {
     "name": "stdout",
     "output_type": "stream",
     "text": [
      "Epoch:3 -- Phase:val -- Loss:0.73 -- Acc:75.40\n",
      "Epoch:4 -- Phase:train -- Loss:0.59 -- Acc:79.37\n"
     ]
    },
    {
     "name": "stderr",
     "output_type": "stream",
     "text": [
      "  5%|▌         | 5/100 [01:36<30:28, 19.25s/it]"
     ]
    },
    {
     "name": "stdout",
     "output_type": "stream",
     "text": [
      "Epoch:4 -- Phase:val -- Loss:1.06 -- Acc:68.06\n",
      "Epoch:5 -- Phase:train -- Loss:0.54 -- Acc:81.37\n"
     ]
    },
    {
     "name": "stderr",
     "output_type": "stream",
     "text": [
      "  6%|▌         | 6/100 [01:55<30:05, 19.21s/it]"
     ]
    },
    {
     "name": "stdout",
     "output_type": "stream",
     "text": [
      "Epoch:5 -- Phase:val -- Loss:1.36 -- Acc:63.37\n",
      "Epoch:6 -- Phase:train -- Loss:0.49 -- Acc:83.20\n"
     ]
    },
    {
     "name": "stderr",
     "output_type": "stream",
     "text": [
      "  7%|▋         | 7/100 [02:14<29:48, 19.23s/it]"
     ]
    },
    {
     "name": "stdout",
     "output_type": "stream",
     "text": [
      "Epoch:6 -- Phase:val -- Loss:0.78 -- Acc:73.58\n",
      "Epoch:7 -- Phase:train -- Loss:0.45 -- Acc:84.29\n"
     ]
    },
    {
     "name": "stderr",
     "output_type": "stream",
     "text": [
      "  8%|▊         | 8/100 [02:33<29:28, 19.22s/it]"
     ]
    },
    {
     "name": "stdout",
     "output_type": "stream",
     "text": [
      "Epoch:7 -- Phase:val -- Loss:0.57 -- Acc:80.99\n",
      "Epoch:8 -- Phase:train -- Loss:0.42 -- Acc:85.49\n"
     ]
    },
    {
     "name": "stderr",
     "output_type": "stream",
     "text": [
      "  9%|▉         | 9/100 [02:53<29:05, 19.19s/it]"
     ]
    },
    {
     "name": "stdout",
     "output_type": "stream",
     "text": [
      "Epoch:8 -- Phase:val -- Loss:0.65 -- Acc:78.63\n",
      "Epoch:9 -- Phase:train -- Loss:0.39 -- Acc:86.31\n"
     ]
    },
    {
     "name": "stderr",
     "output_type": "stream",
     "text": [
      " 10%|█         | 10/100 [03:12<28:42, 19.14s/it]"
     ]
    },
    {
     "name": "stdout",
     "output_type": "stream",
     "text": [
      "Epoch:9 -- Phase:val -- Loss:0.57 -- Acc:80.74\n",
      "Epoch:10 -- Phase:train -- Loss:0.37 -- Acc:87.13\n"
     ]
    },
    {
     "name": "stderr",
     "output_type": "stream",
     "text": [
      " 11%|█         | 11/100 [03:31<28:27, 19.19s/it]"
     ]
    },
    {
     "name": "stdout",
     "output_type": "stream",
     "text": [
      "Epoch:10 -- Phase:val -- Loss:0.51 -- Acc:83.23\n",
      "Epoch:11 -- Phase:train -- Loss:0.35 -- Acc:87.86\n"
     ]
    },
    {
     "name": "stderr",
     "output_type": "stream",
     "text": [
      " 12%|█▏        | 12/100 [03:50<28:06, 19.17s/it]"
     ]
    },
    {
     "name": "stdout",
     "output_type": "stream",
     "text": [
      "Epoch:11 -- Phase:val -- Loss:0.52 -- Acc:82.64\n",
      "Epoch:12 -- Phase:train -- Loss:0.33 -- Acc:88.64\n"
     ]
    },
    {
     "name": "stderr",
     "output_type": "stream",
     "text": [
      " 13%|█▎        | 13/100 [04:09<27:49, 19.19s/it]"
     ]
    },
    {
     "name": "stdout",
     "output_type": "stream",
     "text": [
      "Epoch:12 -- Phase:val -- Loss:0.57 -- Acc:82.17\n",
      "Epoch:13 -- Phase:train -- Loss:0.31 -- Acc:89.31\n"
     ]
    },
    {
     "name": "stderr",
     "output_type": "stream",
     "text": [
      " 14%|█▍        | 14/100 [04:29<27:32, 19.21s/it]"
     ]
    },
    {
     "name": "stdout",
     "output_type": "stream",
     "text": [
      "Epoch:13 -- Phase:val -- Loss:0.57 -- Acc:82.47\n",
      "Epoch:14 -- Phase:train -- Loss:0.30 -- Acc:89.68\n"
     ]
    },
    {
     "name": "stderr",
     "output_type": "stream",
     "text": [
      " 15%|█▌        | 15/100 [04:48<27:13, 19.22s/it]"
     ]
    },
    {
     "name": "stdout",
     "output_type": "stream",
     "text": [
      "Epoch:14 -- Phase:val -- Loss:0.49 -- Acc:83.77\n",
      "Epoch:15 -- Phase:train -- Loss:0.29 -- Acc:89.97\n"
     ]
    },
    {
     "name": "stderr",
     "output_type": "stream",
     "text": [
      " 16%|█▌        | 16/100 [05:07<26:55, 19.24s/it]"
     ]
    },
    {
     "name": "stdout",
     "output_type": "stream",
     "text": [
      "Epoch:15 -- Phase:val -- Loss:0.53 -- Acc:83.27\n",
      "Epoch:16 -- Phase:train -- Loss:0.28 -- Acc:90.53\n"
     ]
    },
    {
     "name": "stderr",
     "output_type": "stream",
     "text": [
      " 17%|█▋        | 17/100 [05:26<26:36, 19.24s/it]"
     ]
    },
    {
     "name": "stdout",
     "output_type": "stream",
     "text": [
      "Epoch:16 -- Phase:val -- Loss:0.56 -- Acc:82.83\n",
      "Epoch:17 -- Phase:train -- Loss:0.26 -- Acc:90.80\n"
     ]
    },
    {
     "name": "stderr",
     "output_type": "stream",
     "text": [
      " 18%|█▊        | 18/100 [05:45<26:17, 19.24s/it]"
     ]
    },
    {
     "name": "stdout",
     "output_type": "stream",
     "text": [
      "Epoch:17 -- Phase:val -- Loss:0.71 -- Acc:80.16\n",
      "Epoch:18 -- Phase:train -- Loss:0.25 -- Acc:91.43\n"
     ]
    },
    {
     "name": "stderr",
     "output_type": "stream",
     "text": [
      " 19%|█▉        | 19/100 [06:05<25:58, 19.24s/it]"
     ]
    },
    {
     "name": "stdout",
     "output_type": "stream",
     "text": [
      "Epoch:18 -- Phase:val -- Loss:0.47 -- Acc:85.07\n",
      "Epoch:19 -- Phase:train -- Loss:0.24 -- Acc:91.56\n"
     ]
    },
    {
     "name": "stderr",
     "output_type": "stream",
     "text": [
      " 20%|██        | 20/100 [06:24<25:39, 19.24s/it]"
     ]
    },
    {
     "name": "stdout",
     "output_type": "stream",
     "text": [
      "Epoch:19 -- Phase:val -- Loss:0.45 -- Acc:85.32\n",
      "Epoch:20 -- Phase:train -- Loss:0.23 -- Acc:91.91\n"
     ]
    },
    {
     "name": "stderr",
     "output_type": "stream",
     "text": [
      " 21%|██        | 21/100 [06:43<25:20, 19.25s/it]"
     ]
    },
    {
     "name": "stdout",
     "output_type": "stream",
     "text": [
      "Epoch:20 -- Phase:val -- Loss:0.65 -- Acc:81.61\n",
      "Epoch:21 -- Phase:train -- Loss:0.22 -- Acc:92.31\n"
     ]
    },
    {
     "name": "stderr",
     "output_type": "stream",
     "text": [
      " 22%|██▏       | 22/100 [07:02<25:00, 19.24s/it]"
     ]
    },
    {
     "name": "stdout",
     "output_type": "stream",
     "text": [
      "Epoch:21 -- Phase:val -- Loss:0.57 -- Acc:81.87\n",
      "Epoch:22 -- Phase:train -- Loss:0.21 -- Acc:92.59\n"
     ]
    },
    {
     "name": "stderr",
     "output_type": "stream",
     "text": [
      " 23%|██▎       | 23/100 [07:22<24:40, 19.23s/it]"
     ]
    },
    {
     "name": "stdout",
     "output_type": "stream",
     "text": [
      "Epoch:22 -- Phase:val -- Loss:0.54 -- Acc:83.99\n",
      "Epoch:23 -- Phase:train -- Loss:0.21 -- Acc:92.75\n"
     ]
    },
    {
     "name": "stderr",
     "output_type": "stream",
     "text": [
      " 24%|██▍       | 24/100 [07:41<24:21, 19.23s/it]"
     ]
    },
    {
     "name": "stdout",
     "output_type": "stream",
     "text": [
      "Epoch:23 -- Phase:val -- Loss:0.45 -- Acc:85.71\n",
      "Epoch:24 -- Phase:train -- Loss:0.20 -- Acc:92.92\n"
     ]
    },
    {
     "name": "stderr",
     "output_type": "stream",
     "text": [
      " 25%|██▌       | 25/100 [08:00<24:02, 19.23s/it]"
     ]
    },
    {
     "name": "stdout",
     "output_type": "stream",
     "text": [
      "Epoch:24 -- Phase:val -- Loss:0.88 -- Acc:75.97\n",
      "Epoch:25 -- Phase:train -- Loss:0.19 -- Acc:93.35\n"
     ]
    },
    {
     "name": "stderr",
     "output_type": "stream",
     "text": [
      " 26%|██▌       | 26/100 [08:19<23:42, 19.22s/it]"
     ]
    },
    {
     "name": "stdout",
     "output_type": "stream",
     "text": [
      "Epoch:25 -- Phase:val -- Loss:0.48 -- Acc:85.67\n",
      "Epoch:26 -- Phase:train -- Loss:0.19 -- Acc:93.41\n"
     ]
    },
    {
     "name": "stderr",
     "output_type": "stream",
     "text": [
      " 27%|██▋       | 27/100 [08:39<23:23, 19.23s/it]"
     ]
    },
    {
     "name": "stdout",
     "output_type": "stream",
     "text": [
      "Epoch:26 -- Phase:val -- Loss:0.56 -- Acc:83.33\n",
      "Epoch:27 -- Phase:train -- Loss:0.18 -- Acc:93.80\n"
     ]
    },
    {
     "name": "stderr",
     "output_type": "stream",
     "text": [
      " 28%|██▊       | 28/100 [08:58<23:03, 19.22s/it]"
     ]
    },
    {
     "name": "stdout",
     "output_type": "stream",
     "text": [
      "Epoch:27 -- Phase:val -- Loss:0.73 -- Acc:80.83\n",
      "Epoch:28 -- Phase:train -- Loss:0.18 -- Acc:93.73\n"
     ]
    },
    {
     "name": "stderr",
     "output_type": "stream",
     "text": [
      " 29%|██▉       | 29/100 [09:17<22:44, 19.22s/it]"
     ]
    },
    {
     "name": "stdout",
     "output_type": "stream",
     "text": [
      "Epoch:28 -- Phase:val -- Loss:0.38 -- Acc:88.33\n",
      "Epoch:29 -- Phase:train -- Loss:0.17 -- Acc:94.23\n"
     ]
    },
    {
     "name": "stderr",
     "output_type": "stream",
     "text": [
      " 30%|███       | 30/100 [09:36<22:24, 19.21s/it]"
     ]
    },
    {
     "name": "stdout",
     "output_type": "stream",
     "text": [
      "Epoch:29 -- Phase:val -- Loss:0.39 -- Acc:87.65\n",
      "Epoch:30 -- Phase:train -- Loss:0.17 -- Acc:94.28\n"
     ]
    },
    {
     "name": "stderr",
     "output_type": "stream",
     "text": [
      " 31%|███       | 31/100 [09:55<22:07, 19.24s/it]"
     ]
    },
    {
     "name": "stdout",
     "output_type": "stream",
     "text": [
      "Epoch:30 -- Phase:val -- Loss:0.55 -- Acc:84.73\n",
      "Epoch:31 -- Phase:train -- Loss:0.16 -- Acc:94.43\n"
     ]
    },
    {
     "name": "stderr",
     "output_type": "stream",
     "text": [
      " 32%|███▏      | 32/100 [10:15<21:48, 19.24s/it]"
     ]
    },
    {
     "name": "stdout",
     "output_type": "stream",
     "text": [
      "Epoch:31 -- Phase:val -- Loss:0.50 -- Acc:85.36\n",
      "Epoch:32 -- Phase:train -- Loss:0.16 -- Acc:94.57\n"
     ]
    },
    {
     "name": "stderr",
     "output_type": "stream",
     "text": [
      " 33%|███▎      | 33/100 [10:34<21:30, 19.25s/it]"
     ]
    },
    {
     "name": "stdout",
     "output_type": "stream",
     "text": [
      "Epoch:32 -- Phase:val -- Loss:0.43 -- Acc:87.47\n",
      "Epoch:33 -- Phase:train -- Loss:0.15 -- Acc:94.67\n"
     ]
    },
    {
     "name": "stderr",
     "output_type": "stream",
     "text": [
      " 34%|███▍      | 34/100 [10:53<21:10, 19.26s/it]"
     ]
    },
    {
     "name": "stdout",
     "output_type": "stream",
     "text": [
      "Epoch:33 -- Phase:val -- Loss:0.40 -- Acc:87.96\n",
      "Epoch:34 -- Phase:train -- Loss:0.15 -- Acc:94.72\n"
     ]
    },
    {
     "name": "stderr",
     "output_type": "stream",
     "text": [
      " 35%|███▌      | 35/100 [11:12<20:50, 19.24s/it]"
     ]
    },
    {
     "name": "stdout",
     "output_type": "stream",
     "text": [
      "Epoch:34 -- Phase:val -- Loss:0.43 -- Acc:87.04\n",
      "Epoch:35 -- Phase:train -- Loss:0.14 -- Acc:95.15\n"
     ]
    },
    {
     "name": "stderr",
     "output_type": "stream",
     "text": [
      " 36%|███▌      | 36/100 [11:32<20:31, 19.24s/it]"
     ]
    },
    {
     "name": "stdout",
     "output_type": "stream",
     "text": [
      "Epoch:35 -- Phase:val -- Loss:0.43 -- Acc:87.55\n",
      "Epoch:36 -- Phase:train -- Loss:0.15 -- Acc:94.93\n"
     ]
    },
    {
     "name": "stderr",
     "output_type": "stream",
     "text": [
      " 37%|███▋      | 37/100 [11:51<20:12, 19.25s/it]"
     ]
    },
    {
     "name": "stdout",
     "output_type": "stream",
     "text": [
      "Epoch:36 -- Phase:val -- Loss:0.59 -- Acc:84.26\n",
      "Epoch:37 -- Phase:train -- Loss:0.14 -- Acc:95.24\n"
     ]
    },
    {
     "name": "stderr",
     "output_type": "stream",
     "text": [
      " 38%|███▊      | 38/100 [12:10<19:52, 19.24s/it]"
     ]
    },
    {
     "name": "stdout",
     "output_type": "stream",
     "text": [
      "Epoch:37 -- Phase:val -- Loss:0.72 -- Acc:81.32\n",
      "Epoch:38 -- Phase:train -- Loss:0.14 -- Acc:95.15\n"
     ]
    },
    {
     "name": "stderr",
     "output_type": "stream",
     "text": [
      " 39%|███▉      | 39/100 [12:29<19:33, 19.23s/it]"
     ]
    },
    {
     "name": "stdout",
     "output_type": "stream",
     "text": [
      "Epoch:38 -- Phase:val -- Loss:0.64 -- Acc:83.14\n",
      "Epoch:39 -- Phase:train -- Loss:0.13 -- Acc:95.41\n"
     ]
    },
    {
     "name": "stderr",
     "output_type": "stream",
     "text": [
      " 40%|████      | 40/100 [12:49<19:14, 19.24s/it]"
     ]
    },
    {
     "name": "stdout",
     "output_type": "stream",
     "text": [
      "Epoch:39 -- Phase:val -- Loss:0.46 -- Acc:86.17\n",
      "Epoch:40 -- Phase:train -- Loss:0.13 -- Acc:95.40\n"
     ]
    },
    {
     "name": "stderr",
     "output_type": "stream",
     "text": [
      " 41%|████      | 41/100 [13:08<18:53, 19.22s/it]"
     ]
    },
    {
     "name": "stdout",
     "output_type": "stream",
     "text": [
      "Epoch:40 -- Phase:val -- Loss:0.42 -- Acc:87.57\n",
      "Epoch:41 -- Phase:train -- Loss:0.13 -- Acc:95.63\n"
     ]
    },
    {
     "name": "stderr",
     "output_type": "stream",
     "text": [
      " 42%|████▏     | 42/100 [13:27<18:35, 19.23s/it]"
     ]
    },
    {
     "name": "stdout",
     "output_type": "stream",
     "text": [
      "Epoch:41 -- Phase:val -- Loss:0.50 -- Acc:86.22\n",
      "Epoch:42 -- Phase:train -- Loss:0.12 -- Acc:95.70\n"
     ]
    },
    {
     "name": "stderr",
     "output_type": "stream",
     "text": [
      " 43%|████▎     | 43/100 [13:46<18:15, 19.22s/it]"
     ]
    },
    {
     "name": "stdout",
     "output_type": "stream",
     "text": [
      "Epoch:42 -- Phase:val -- Loss:0.44 -- Acc:87.18\n",
      "Epoch:43 -- Phase:train -- Loss:0.12 -- Acc:95.83\n"
     ]
    },
    {
     "name": "stderr",
     "output_type": "stream",
     "text": [
      " 44%|████▍     | 44/100 [14:06<17:57, 19.24s/it]"
     ]
    },
    {
     "name": "stdout",
     "output_type": "stream",
     "text": [
      "Epoch:43 -- Phase:val -- Loss:0.45 -- Acc:87.49\n",
      "Epoch:44 -- Phase:train -- Loss:0.12 -- Acc:95.90\n"
     ]
    },
    {
     "name": "stderr",
     "output_type": "stream",
     "text": [
      " 45%|████▌     | 45/100 [14:25<17:39, 19.25s/it]"
     ]
    },
    {
     "name": "stdout",
     "output_type": "stream",
     "text": [
      "Epoch:44 -- Phase:val -- Loss:0.37 -- Acc:89.41\n",
      "Epoch:45 -- Phase:train -- Loss:0.11 -- Acc:95.99\n"
     ]
    },
    {
     "name": "stderr",
     "output_type": "stream",
     "text": [
      " 46%|████▌     | 46/100 [14:44<17:20, 19.26s/it]"
     ]
    },
    {
     "name": "stdout",
     "output_type": "stream",
     "text": [
      "Epoch:45 -- Phase:val -- Loss:0.45 -- Acc:87.38\n",
      "Epoch:46 -- Phase:train -- Loss:0.12 -- Acc:95.96\n"
     ]
    },
    {
     "name": "stderr",
     "output_type": "stream",
     "text": [
      " 47%|████▋     | 47/100 [15:03<17:00, 19.25s/it]"
     ]
    },
    {
     "name": "stdout",
     "output_type": "stream",
     "text": [
      "Epoch:46 -- Phase:val -- Loss:0.47 -- Acc:86.95\n",
      "Epoch:47 -- Phase:train -- Loss:0.11 -- Acc:96.13\n"
     ]
    },
    {
     "name": "stderr",
     "output_type": "stream",
     "text": [
      " 48%|████▊     | 48/100 [15:23<16:40, 19.23s/it]"
     ]
    },
    {
     "name": "stdout",
     "output_type": "stream",
     "text": [
      "Epoch:47 -- Phase:val -- Loss:0.54 -- Acc:85.98\n",
      "Epoch:48 -- Phase:train -- Loss:0.12 -- Acc:96.00\n"
     ]
    },
    {
     "name": "stderr",
     "output_type": "stream",
     "text": [
      " 49%|████▉     | 49/100 [15:42<16:20, 19.23s/it]"
     ]
    },
    {
     "name": "stdout",
     "output_type": "stream",
     "text": [
      "Epoch:48 -- Phase:val -- Loss:0.42 -- Acc:88.06\n",
      "Epoch:49 -- Phase:train -- Loss:0.11 -- Acc:96.32\n"
     ]
    },
    {
     "name": "stderr",
     "output_type": "stream",
     "text": [
      " 50%|█████     | 50/100 [16:01<16:00, 19.22s/it]"
     ]
    },
    {
     "name": "stdout",
     "output_type": "stream",
     "text": [
      "Epoch:49 -- Phase:val -- Loss:0.44 -- Acc:87.93\n",
      "Epoch:50 -- Phase:train -- Loss:0.11 -- Acc:96.11\n"
     ]
    },
    {
     "name": "stderr",
     "output_type": "stream",
     "text": [
      " 51%|█████     | 51/100 [16:20<15:42, 19.24s/it]"
     ]
    },
    {
     "name": "stdout",
     "output_type": "stream",
     "text": [
      "Epoch:50 -- Phase:val -- Loss:0.47 -- Acc:86.87\n",
      "Epoch:51 -- Phase:train -- Loss:0.11 -- Acc:96.33\n"
     ]
    },
    {
     "name": "stderr",
     "output_type": "stream",
     "text": [
      " 52%|█████▏    | 52/100 [16:40<15:23, 19.24s/it]"
     ]
    },
    {
     "name": "stdout",
     "output_type": "stream",
     "text": [
      "Epoch:51 -- Phase:val -- Loss:0.46 -- Acc:87.40\n",
      "Epoch:52 -- Phase:train -- Loss:0.11 -- Acc:96.28\n"
     ]
    },
    {
     "name": "stderr",
     "output_type": "stream",
     "text": [
      " 53%|█████▎    | 53/100 [16:59<15:04, 19.25s/it]"
     ]
    },
    {
     "name": "stdout",
     "output_type": "stream",
     "text": [
      "Epoch:52 -- Phase:val -- Loss:0.45 -- Acc:87.62\n",
      "Epoch:53 -- Phase:train -- Loss:0.11 -- Acc:96.48\n"
     ]
    },
    {
     "name": "stderr",
     "output_type": "stream",
     "text": [
      " 54%|█████▍    | 54/100 [17:18<14:45, 19.24s/it]"
     ]
    },
    {
     "name": "stdout",
     "output_type": "stream",
     "text": [
      "Epoch:53 -- Phase:val -- Loss:0.40 -- Acc:89.00\n",
      "Epoch:54 -- Phase:train -- Loss:0.10 -- Acc:96.53\n"
     ]
    },
    {
     "name": "stderr",
     "output_type": "stream",
     "text": [
      " 55%|█████▌    | 55/100 [17:37<14:26, 19.25s/it]"
     ]
    },
    {
     "name": "stdout",
     "output_type": "stream",
     "text": [
      "Epoch:54 -- Phase:val -- Loss:0.50 -- Acc:86.71\n",
      "Epoch:55 -- Phase:train -- Loss:0.10 -- Acc:96.54\n"
     ]
    },
    {
     "name": "stderr",
     "output_type": "stream",
     "text": [
      " 56%|█████▌    | 56/100 [17:57<14:06, 19.24s/it]"
     ]
    },
    {
     "name": "stdout",
     "output_type": "stream",
     "text": [
      "Epoch:55 -- Phase:val -- Loss:0.54 -- Acc:85.85\n",
      "Epoch:56 -- Phase:train -- Loss:0.10 -- Acc:96.43\n"
     ]
    },
    {
     "name": "stderr",
     "output_type": "stream",
     "text": [
      " 57%|█████▋    | 57/100 [18:16<13:47, 19.24s/it]"
     ]
    },
    {
     "name": "stdout",
     "output_type": "stream",
     "text": [
      "Epoch:56 -- Phase:val -- Loss:0.38 -- Acc:89.33\n",
      "Epoch:57 -- Phase:train -- Loss:0.10 -- Acc:96.47\n"
     ]
    },
    {
     "name": "stderr",
     "output_type": "stream",
     "text": [
      " 58%|█████▊    | 58/100 [18:35<13:28, 19.26s/it]"
     ]
    },
    {
     "name": "stdout",
     "output_type": "stream",
     "text": [
      "Epoch:57 -- Phase:val -- Loss:0.40 -- Acc:88.58\n",
      "Epoch:58 -- Phase:train -- Loss:0.10 -- Acc:96.67\n"
     ]
    },
    {
     "name": "stderr",
     "output_type": "stream",
     "text": [
      " 59%|█████▉    | 59/100 [18:54<13:09, 19.26s/it]"
     ]
    },
    {
     "name": "stdout",
     "output_type": "stream",
     "text": [
      "Epoch:58 -- Phase:val -- Loss:0.44 -- Acc:88.01\n",
      "Epoch:59 -- Phase:train -- Loss:0.10 -- Acc:96.76\n"
     ]
    },
    {
     "name": "stderr",
     "output_type": "stream",
     "text": [
      " 60%|██████    | 60/100 [19:14<12:50, 19.25s/it]"
     ]
    },
    {
     "name": "stdout",
     "output_type": "stream",
     "text": [
      "Epoch:59 -- Phase:val -- Loss:0.46 -- Acc:87.63\n",
      "Epoch:60 -- Phase:train -- Loss:0.10 -- Acc:96.72\n"
     ]
    },
    {
     "name": "stderr",
     "output_type": "stream",
     "text": [
      " 61%|██████    | 61/100 [19:33<12:30, 19.25s/it]"
     ]
    },
    {
     "name": "stdout",
     "output_type": "stream",
     "text": [
      "Epoch:60 -- Phase:val -- Loss:0.45 -- Acc:87.30\n",
      "Epoch:61 -- Phase:train -- Loss:0.09 -- Acc:96.84\n"
     ]
    },
    {
     "name": "stderr",
     "output_type": "stream",
     "text": [
      " 62%|██████▏   | 62/100 [19:52<12:10, 19.23s/it]"
     ]
    },
    {
     "name": "stdout",
     "output_type": "stream",
     "text": [
      "Epoch:61 -- Phase:val -- Loss:0.41 -- Acc:88.66\n",
      "Epoch:62 -- Phase:train -- Loss:0.10 -- Acc:96.72\n"
     ]
    },
    {
     "name": "stderr",
     "output_type": "stream",
     "text": [
      " 63%|██████▎   | 63/100 [20:11<11:50, 19.21s/it]"
     ]
    },
    {
     "name": "stdout",
     "output_type": "stream",
     "text": [
      "Epoch:62 -- Phase:val -- Loss:0.52 -- Acc:85.84\n",
      "Epoch:63 -- Phase:train -- Loss:0.10 -- Acc:96.69\n"
     ]
    },
    {
     "name": "stderr",
     "output_type": "stream",
     "text": [
      " 64%|██████▍   | 64/100 [20:30<11:31, 19.22s/it]"
     ]
    },
    {
     "name": "stdout",
     "output_type": "stream",
     "text": [
      "Epoch:63 -- Phase:val -- Loss:0.44 -- Acc:87.99\n",
      "Epoch:64 -- Phase:train -- Loss:0.09 -- Acc:96.81\n"
     ]
    },
    {
     "name": "stderr",
     "output_type": "stream",
     "text": [
      " 65%|██████▌   | 65/100 [20:50<11:13, 19.25s/it]"
     ]
    },
    {
     "name": "stdout",
     "output_type": "stream",
     "text": [
      "Epoch:64 -- Phase:val -- Loss:0.52 -- Acc:86.77\n",
      "Epoch:65 -- Phase:train -- Loss:0.10 -- Acc:96.62\n"
     ]
    },
    {
     "name": "stderr",
     "output_type": "stream",
     "text": [
      " 66%|██████▌   | 66/100 [21:09<10:53, 19.23s/it]"
     ]
    },
    {
     "name": "stdout",
     "output_type": "stream",
     "text": [
      "Epoch:65 -- Phase:val -- Loss:0.38 -- Acc:89.21\n",
      "Epoch:66 -- Phase:train -- Loss:0.09 -- Acc:96.98\n"
     ]
    },
    {
     "name": "stderr",
     "output_type": "stream",
     "text": [
      " 67%|██████▋   | 67/100 [21:28<10:34, 19.22s/it]"
     ]
    },
    {
     "name": "stdout",
     "output_type": "stream",
     "text": [
      "Epoch:66 -- Phase:val -- Loss:0.70 -- Acc:83.60\n",
      "Epoch:67 -- Phase:train -- Loss:0.09 -- Acc:96.99\n"
     ]
    },
    {
     "name": "stderr",
     "output_type": "stream",
     "text": [
      " 68%|██████▊   | 68/100 [21:47<10:14, 19.22s/it]"
     ]
    },
    {
     "name": "stdout",
     "output_type": "stream",
     "text": [
      "Epoch:67 -- Phase:val -- Loss:0.39 -- Acc:89.36\n",
      "Epoch:68 -- Phase:train -- Loss:0.09 -- Acc:96.91\n"
     ]
    },
    {
     "name": "stderr",
     "output_type": "stream",
     "text": [
      " 69%|██████▉   | 69/100 [22:06<09:55, 19.21s/it]"
     ]
    },
    {
     "name": "stdout",
     "output_type": "stream",
     "text": [
      "Epoch:68 -- Phase:val -- Loss:0.37 -- Acc:90.09\n",
      "Epoch:69 -- Phase:train -- Loss:0.09 -- Acc:96.94\n"
     ]
    },
    {
     "name": "stderr",
     "output_type": "stream",
     "text": [
      " 70%|███████   | 70/100 [22:26<09:36, 19.21s/it]"
     ]
    },
    {
     "name": "stdout",
     "output_type": "stream",
     "text": [
      "Epoch:69 -- Phase:val -- Loss:0.41 -- Acc:88.94\n",
      "Epoch:70 -- Phase:train -- Loss:0.09 -- Acc:96.79\n"
     ]
    },
    {
     "name": "stderr",
     "output_type": "stream",
     "text": [
      " 71%|███████   | 71/100 [22:45<09:17, 19.22s/it]"
     ]
    },
    {
     "name": "stdout",
     "output_type": "stream",
     "text": [
      "Epoch:70 -- Phase:val -- Loss:0.45 -- Acc:87.73\n",
      "Epoch:71 -- Phase:train -- Loss:0.09 -- Acc:96.98\n"
     ]
    },
    {
     "name": "stderr",
     "output_type": "stream",
     "text": [
      " 72%|███████▏  | 72/100 [23:04<08:58, 19.23s/it]"
     ]
    },
    {
     "name": "stdout",
     "output_type": "stream",
     "text": [
      "Epoch:71 -- Phase:val -- Loss:0.46 -- Acc:87.52\n",
      "Epoch:72 -- Phase:train -- Loss:0.09 -- Acc:97.00\n"
     ]
    },
    {
     "name": "stderr",
     "output_type": "stream",
     "text": [
      " 73%|███████▎  | 73/100 [23:23<08:39, 19.23s/it]"
     ]
    },
    {
     "name": "stdout",
     "output_type": "stream",
     "text": [
      "Epoch:72 -- Phase:val -- Loss:0.42 -- Acc:88.96\n",
      "Epoch:73 -- Phase:train -- Loss:0.09 -- Acc:96.84\n"
     ]
    },
    {
     "name": "stderr",
     "output_type": "stream",
     "text": [
      " 74%|███████▍  | 74/100 [23:43<08:19, 19.20s/it]"
     ]
    },
    {
     "name": "stdout",
     "output_type": "stream",
     "text": [
      "Epoch:73 -- Phase:val -- Loss:0.48 -- Acc:87.77\n",
      "Epoch:74 -- Phase:train -- Loss:0.09 -- Acc:97.12\n"
     ]
    },
    {
     "name": "stderr",
     "output_type": "stream",
     "text": [
      " 75%|███████▌  | 75/100 [24:02<07:59, 19.17s/it]"
     ]
    },
    {
     "name": "stdout",
     "output_type": "stream",
     "text": [
      "Epoch:74 -- Phase:val -- Loss:0.53 -- Acc:86.60\n",
      "Epoch:75 -- Phase:train -- Loss:0.08 -- Acc:97.18\n"
     ]
    },
    {
     "name": "stderr",
     "output_type": "stream",
     "text": [
      " 76%|███████▌  | 76/100 [24:21<07:38, 19.08s/it]"
     ]
    },
    {
     "name": "stdout",
     "output_type": "stream",
     "text": [
      "Epoch:75 -- Phase:val -- Loss:0.45 -- Acc:87.99\n",
      "Epoch:76 -- Phase:train -- Loss:0.08 -- Acc:97.17\n"
     ]
    },
    {
     "name": "stderr",
     "output_type": "stream",
     "text": [
      " 77%|███████▋  | 77/100 [24:40<07:18, 19.06s/it]"
     ]
    },
    {
     "name": "stdout",
     "output_type": "stream",
     "text": [
      "Epoch:76 -- Phase:val -- Loss:0.39 -- Acc:89.29\n",
      "Epoch:77 -- Phase:train -- Loss:0.09 -- Acc:96.97\n"
     ]
    },
    {
     "name": "stderr",
     "output_type": "stream",
     "text": [
      " 78%|███████▊  | 78/100 [24:58<06:58, 19.02s/it]"
     ]
    },
    {
     "name": "stdout",
     "output_type": "stream",
     "text": [
      "Epoch:77 -- Phase:val -- Loss:0.49 -- Acc:87.64\n",
      "Epoch:78 -- Phase:train -- Loss:0.09 -- Acc:97.10\n"
     ]
    },
    {
     "name": "stderr",
     "output_type": "stream",
     "text": [
      " 79%|███████▉  | 79/100 [25:18<06:39, 19.03s/it]"
     ]
    },
    {
     "name": "stdout",
     "output_type": "stream",
     "text": [
      "Epoch:78 -- Phase:val -- Loss:0.51 -- Acc:86.92\n",
      "Epoch:79 -- Phase:train -- Loss:0.08 -- Acc:97.13\n"
     ]
    },
    {
     "name": "stderr",
     "output_type": "stream",
     "text": [
      " 80%|████████  | 80/100 [25:36<06:19, 18.99s/it]"
     ]
    },
    {
     "name": "stdout",
     "output_type": "stream",
     "text": [
      "Epoch:79 -- Phase:val -- Loss:0.42 -- Acc:89.17\n",
      "Epoch:80 -- Phase:train -- Loss:0.09 -- Acc:97.06\n"
     ]
    },
    {
     "name": "stderr",
     "output_type": "stream",
     "text": [
      " 81%|████████  | 81/100 [25:55<06:00, 18.96s/it]"
     ]
    },
    {
     "name": "stdout",
     "output_type": "stream",
     "text": [
      "Epoch:80 -- Phase:val -- Loss:0.41 -- Acc:89.08\n",
      "Epoch:81 -- Phase:train -- Loss:0.08 -- Acc:97.27\n"
     ]
    },
    {
     "name": "stderr",
     "output_type": "stream",
     "text": [
      " 82%|████████▏ | 82/100 [26:14<05:41, 18.95s/it]"
     ]
    },
    {
     "name": "stdout",
     "output_type": "stream",
     "text": [
      "Epoch:81 -- Phase:val -- Loss:0.38 -- Acc:89.65\n",
      "Epoch:82 -- Phase:train -- Loss:0.08 -- Acc:97.24\n"
     ]
    },
    {
     "name": "stderr",
     "output_type": "stream",
     "text": [
      " 83%|████████▎ | 83/100 [26:33<05:21, 18.94s/it]"
     ]
    },
    {
     "name": "stdout",
     "output_type": "stream",
     "text": [
      "Epoch:82 -- Phase:val -- Loss:0.40 -- Acc:88.99\n",
      "Epoch:83 -- Phase:train -- Loss:0.08 -- Acc:97.17\n"
     ]
    },
    {
     "name": "stderr",
     "output_type": "stream",
     "text": [
      " 84%|████████▍ | 84/100 [26:52<05:02, 18.94s/it]"
     ]
    },
    {
     "name": "stdout",
     "output_type": "stream",
     "text": [
      "Epoch:83 -- Phase:val -- Loss:0.47 -- Acc:87.60\n",
      "Epoch:84 -- Phase:train -- Loss:0.08 -- Acc:97.35\n"
     ]
    },
    {
     "name": "stderr",
     "output_type": "stream",
     "text": [
      " 85%|████████▌ | 85/100 [27:11<04:44, 18.94s/it]"
     ]
    },
    {
     "name": "stdout",
     "output_type": "stream",
     "text": [
      "Epoch:84 -- Phase:val -- Loss:0.48 -- Acc:87.22\n",
      "Epoch:85 -- Phase:train -- Loss:0.08 -- Acc:97.18\n"
     ]
    },
    {
     "name": "stderr",
     "output_type": "stream",
     "text": [
      " 86%|████████▌ | 86/100 [27:30<04:25, 18.93s/it]"
     ]
    },
    {
     "name": "stdout",
     "output_type": "stream",
     "text": [
      "Epoch:85 -- Phase:val -- Loss:0.47 -- Acc:87.59\n",
      "Epoch:86 -- Phase:train -- Loss:0.09 -- Acc:97.03\n"
     ]
    },
    {
     "name": "stderr",
     "output_type": "stream",
     "text": [
      " 87%|████████▋ | 87/100 [27:49<04:05, 18.91s/it]"
     ]
    },
    {
     "name": "stdout",
     "output_type": "stream",
     "text": [
      "Epoch:86 -- Phase:val -- Loss:0.45 -- Acc:88.35\n",
      "Epoch:87 -- Phase:train -- Loss:0.08 -- Acc:97.22\n"
     ]
    },
    {
     "name": "stderr",
     "output_type": "stream",
     "text": [
      " 88%|████████▊ | 88/100 [28:08<03:47, 18.93s/it]"
     ]
    },
    {
     "name": "stdout",
     "output_type": "stream",
     "text": [
      "Epoch:87 -- Phase:val -- Loss:0.46 -- Acc:87.98\n",
      "Epoch:88 -- Phase:train -- Loss:0.08 -- Acc:97.30\n"
     ]
    },
    {
     "name": "stderr",
     "output_type": "stream",
     "text": [
      " 89%|████████▉ | 89/100 [28:27<03:28, 18.93s/it]"
     ]
    },
    {
     "name": "stdout",
     "output_type": "stream",
     "text": [
      "Epoch:88 -- Phase:val -- Loss:0.45 -- Acc:88.49\n",
      "Epoch:89 -- Phase:train -- Loss:0.08 -- Acc:97.17\n"
     ]
    },
    {
     "name": "stderr",
     "output_type": "stream",
     "text": [
      " 90%|█████████ | 90/100 [28:46<03:09, 18.96s/it]"
     ]
    },
    {
     "name": "stdout",
     "output_type": "stream",
     "text": [
      "Epoch:89 -- Phase:val -- Loss:0.44 -- Acc:88.60\n",
      "Epoch:90 -- Phase:train -- Loss:0.08 -- Acc:97.24\n"
     ]
    },
    {
     "name": "stderr",
     "output_type": "stream",
     "text": [
      " 91%|█████████ | 91/100 [29:05<02:50, 19.00s/it]"
     ]
    },
    {
     "name": "stdout",
     "output_type": "stream",
     "text": [
      "Epoch:90 -- Phase:val -- Loss:0.42 -- Acc:88.69\n",
      "Epoch:91 -- Phase:train -- Loss:0.08 -- Acc:97.32\n"
     ]
    },
    {
     "name": "stderr",
     "output_type": "stream",
     "text": [
      " 92%|█████████▏| 92/100 [29:24<02:32, 19.01s/it]"
     ]
    },
    {
     "name": "stdout",
     "output_type": "stream",
     "text": [
      "Epoch:91 -- Phase:val -- Loss:0.39 -- Acc:89.28\n",
      "Epoch:92 -- Phase:train -- Loss:0.08 -- Acc:97.42\n"
     ]
    },
    {
     "name": "stderr",
     "output_type": "stream",
     "text": [
      " 93%|█████████▎| 93/100 [29:43<02:12, 18.97s/it]"
     ]
    },
    {
     "name": "stdout",
     "output_type": "stream",
     "text": [
      "Epoch:92 -- Phase:val -- Loss:0.46 -- Acc:87.74\n",
      "Epoch:93 -- Phase:train -- Loss:0.08 -- Acc:97.44\n"
     ]
    },
    {
     "name": "stderr",
     "output_type": "stream",
     "text": [
      " 94%|█████████▍| 94/100 [30:02<01:53, 18.95s/it]"
     ]
    },
    {
     "name": "stdout",
     "output_type": "stream",
     "text": [
      "Epoch:93 -- Phase:val -- Loss:0.41 -- Acc:89.97\n",
      "Epoch:94 -- Phase:train -- Loss:0.08 -- Acc:97.31\n"
     ]
    },
    {
     "name": "stderr",
     "output_type": "stream",
     "text": [
      " 95%|█████████▌| 95/100 [30:21<01:34, 18.97s/it]"
     ]
    },
    {
     "name": "stdout",
     "output_type": "stream",
     "text": [
      "Epoch:94 -- Phase:val -- Loss:0.49 -- Acc:87.12\n",
      "Epoch:95 -- Phase:train -- Loss:0.08 -- Acc:97.21\n"
     ]
    },
    {
     "name": "stderr",
     "output_type": "stream",
     "text": [
      " 96%|█████████▌| 96/100 [30:40<01:15, 18.97s/it]"
     ]
    },
    {
     "name": "stdout",
     "output_type": "stream",
     "text": [
      "Epoch:95 -- Phase:val -- Loss:0.40 -- Acc:89.67\n",
      "Epoch:96 -- Phase:train -- Loss:0.08 -- Acc:97.10\n"
     ]
    },
    {
     "name": "stderr",
     "output_type": "stream",
     "text": [
      " 97%|█████████▋| 97/100 [30:59<00:56, 18.95s/it]"
     ]
    },
    {
     "name": "stdout",
     "output_type": "stream",
     "text": [
      "Epoch:96 -- Phase:val -- Loss:0.47 -- Acc:87.73\n",
      "Epoch:97 -- Phase:train -- Loss:0.08 -- Acc:97.33\n"
     ]
    },
    {
     "name": "stderr",
     "output_type": "stream",
     "text": [
      " 98%|█████████▊| 98/100 [31:17<00:37, 18.95s/it]"
     ]
    },
    {
     "name": "stdout",
     "output_type": "stream",
     "text": [
      "Epoch:97 -- Phase:val -- Loss:0.47 -- Acc:87.87\n",
      "Epoch:98 -- Phase:train -- Loss:0.08 -- Acc:97.38\n"
     ]
    },
    {
     "name": "stderr",
     "output_type": "stream",
     "text": [
      " 99%|█████████▉| 99/100 [31:36<00:18, 18.95s/it]"
     ]
    },
    {
     "name": "stdout",
     "output_type": "stream",
     "text": [
      "Epoch:98 -- Phase:val -- Loss:0.57 -- Acc:85.24\n",
      "Epoch:99 -- Phase:train -- Loss:0.08 -- Acc:97.43\n"
     ]
    },
    {
     "name": "stderr",
     "output_type": "stream",
     "text": [
      "100%|██████████| 100/100 [31:55<00:00, 19.16s/it]"
     ]
    },
    {
     "name": "stdout",
     "output_type": "stream",
     "text": [
      "Epoch:99 -- Phase:val -- Loss:0.40 -- Acc:89.60\n"
     ]
    },
    {
     "name": "stderr",
     "output_type": "stream",
     "text": [
      "\n"
     ]
    }
   ],
   "source": [
    "for epoch in tqdm(range(100)):\n",
    "    # Each epoch has a training and validation phase\n",
    "    for phase in ['train', 'val']:\n",
    "        if phase == 'train':\n",
    "            model.train()  # Set model to training mode\n",
    "        else:\n",
    "            model.eval()   # Set model to evaluate mode\n",
    "\n",
    "        current_loss = 0.0\n",
    "        current_corrects = 0\n",
    "\n",
    "        for batch_idx, (inputs, labels) in enumerate(dataloaders[phase], 1):\n",
    "            inputs,labels = inputs.to(device), labels.to(device)\n",
    "            optimizer.zero_grad()\n",
    "\n",
    "            # Time to carry out the forward training poss\n",
    "            with torch.set_grad_enabled(phase == 'train'):\n",
    "                outputs = model(inputs)\n",
    "                _, preds = torch.max(outputs, 1)\n",
    "                loss = LossFunc(outputs, labels)\n",
    "\n",
    "                # backward + optimize only if in training phase\n",
    "                if phase == 'train':\n",
    "                    loss.backward()\n",
    "                    optimizer.step()\n",
    "\n",
    "            # We want variables to hold the loss/acc statistics\n",
    "            current_loss += loss.item() * inputs.size(0)\n",
    "            current_corrects += torch.sum(preds == labels.data)\n",
    "        # saving variable for plottin\n",
    "        save_loss[phase] += [current_loss / len(dataloaders[phase].dataset)]\n",
    "        save_acc[phase] += [current_corrects.float() / len(dataloaders[phase].dataset)]\n",
    "        # train_loss = train_loss/len(trainloader)\n",
    "        # test_loss = test_loss/len(testloader)\n",
    "        # train_loss_history.append(train_loss)\n",
    "        # test_loss_history.append(test_loss)\n",
    "        # print('Train loss %s, Test loss %s'%(train_loss, test_loss))\n",
    "        # pretty print\n",
    "        print(f\"Epoch:{epoch} -- Phase:{phase} -- Loss:{save_loss[phase][-1]:.2f} -- Acc:{save_acc[phase][-1]*100:.2f}\")\n"
   ]
  },
  {
   "cell_type": "code",
   "execution_count": 8,
   "metadata": {},
   "outputs": [
    {
     "name": "stdout",
     "output_type": "stream",
     "text": [
      "tensor(0.9009, device='cuda:0') 0.36526497249603274\n"
     ]
    }
   ],
   "source": [
    "print(max(save_acc['val']),min(save_loss['val']))"
   ]
  },
  {
   "cell_type": "code",
   "execution_count": 10,
   "metadata": {},
   "outputs": [
    {
     "data": {
      "text/plain": [
       "Text(0.5, 1.0, 'Accuracy')"
      ]
     },
     "execution_count": 10,
     "metadata": {},
     "output_type": "execute_result"
    },
    {
     "data": {
      "image/png": "[encoded data removed]",
      "text/plain": [
       "<Figure size 432x288 with 1 Axes>"
      ]
     },
     "metadata": {
      "needs_background": "light"
     },
     "output_type": "display_data"
    }
   ],
   "source": [
    "plt.plot(save_acc['train'])\n",
    "plt.plot(save_acc['val'])\n",
    "plt.legend([\"train\", \"val\"])\n",
    "plt.title(\"Accuracy\")\n"
   ]
  },
  {
   "cell_type": "code",
   "execution_count": 18,
   "metadata": {},
   "outputs": [
    {
     "data": {
      "text/plain": [
       "Text(0.5, 1.0, 'Loss')"
      ]
     },
     "execution_count": 18,
     "metadata": {},
     "output_type": "execute_result"
    },
    {
     "data": {
      "image/png": "[encoded data removed]",
      "text/plain": [
       "<Figure size 432x288 with 1 Axes>"
      ]
     },
     "metadata": {
      "needs_background": "light"
     },
     "output_type": "display_data"
    }
   ],
   "source": [
    "plt.plot(save_loss['train'])\n",
    "plt.plot(save_loss['val'])\n",
    "plt.legend([\"train\", \"val\"])\n",
    "plt.title(\"Loss\")"
   ]
  },
  {
   "cell_type": "code",
   "execution_count": 24,
   "metadata": {},
   "outputs": [],
   "source": [
    "# save resnet model\n",
    "PATH = './project1_model.pt'\n",
    "torch.save(model.state_dict(), PATH)"
   ]
  },
  {
   "cell_type": "code",
   "execution_count": 26,
   "metadata": {},
   "outputs": [
    {
     "data": {
      "text/plain": [
       "device(type='cuda')"
      ]
     },
     "execution_count": 26,
     "metadata": {},
     "output_type": "execute_result"
    }
   ],
   "source": [
    "device"
   ]
  },
  {
   "cell_type": "code",
   "execution_count": 14,
   "metadata": {},
   "outputs": [
    {
     "name": "stdout",
     "output_type": "stream",
     "text": [
      "tensor(0.8506, device='cuda:0') 0.5760338544845581\n"
     ]
    }
   ],
   "source": [
    "print(max(save_acc['val']),min(save_loss['val']))"
   ]
  },
  {
   "cell_type": "code",
   "execution_count": null,
   "metadata": {},
   "outputs": [],
   "source": []
  }
 ],
 "metadata": {
  "kernelspec": {
   "display_name": "Python 3",
   "language": "python",
   "name": "python3"
  },
  "language_info": {
   "codemirror_mode": {
    "name": "ipython",
    "version": 3
   },
   "file_extension": ".py",
   "mimetype": "text/x-python",
   "name": "python",
   "nbconvert_exporter": "python",
   "pygments_lexer": "ipython3",
   "version": "3.8.6"
  }
 },
 "nbformat": 4,
 "nbformat_minor": 4
}
