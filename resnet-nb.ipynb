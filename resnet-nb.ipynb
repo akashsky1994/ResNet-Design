{
 "cells": [
  {
   "cell_type": "code",
   "execution_count": 1,
   "metadata": {},
   "outputs": [
    {
     "name": "stdout",
     "output_type": "stream",
     "text": [
      "Defaulting to user installation because normal site-packages is not writeable\n",
      "Requirement already satisfied: tqdm in /home/am11533/.local/lib/python3.8/site-packages (4.63.0)\n",
      "\u001b[33mWARNING: You are using pip version 20.2.3; however, version 22.0.4 is available.\n",
      "You should consider upgrading via the '/share/apps/python/3.8.6/intel/bin/python -m pip install --upgrade pip' command.\u001b[0m\n",
      "Defaulting to user installation because normal site-packages is not writeable\n",
      "Requirement already satisfied: torchsummary in /home/am11533/.local/lib/python3.8/site-packages (1.5.1)\n",
      "\u001b[33mWARNING: You are using pip version 20.2.3; however, version 22.0.4 is available.\n",
      "You should consider upgrading via the '/share/apps/python/3.8.6/intel/bin/python -m pip install --upgrade pip' command.\u001b[0m\n"
     ]
    }
   ],
   "source": [
    "!pip install tqdm\n",
    "# !pip install optuna\n",
    "!pip install torchsummary"
   ]
  },
  {
   "cell_type": "code",
   "execution_count": 2,
   "metadata": {},
   "outputs": [],
   "source": [
    "# Importing relevant packages\n",
    "import torch\n",
    "import torch.nn as nn\n",
    "import torch.nn.functional as F\n",
    "from torchvision import datasets, models, transforms\n",
    "import matplotlib.pyplot as plt\n",
    "from tqdm import tqdm\n",
    "\n",
    "from project1_model import ResNet, BasicBlock\n"
   ]
  },
  {
   "cell_type": "code",
   "execution_count": 3,
   "metadata": {},
   "outputs": [],
   "source": [
    "# fetching device\n",
    "device = torch.device(\"cuda\" if torch.cuda.is_available() else \"cpu\")\n",
    "\n",
    "# parameters\n",
    "num_workers = 10\n",
    "batch_size = 128\n",
    "learningRate = 0.3\n",
    "weight_decay = 0.0001\n",
    "res_blocks = [3,3]\n",
    "num_res_layer = len(res_blocks)\n",
    "kernel=(3,1)\n",
    "skip_kernel=(3,1)\n",
    "channels = 128"
   ]
  },
  {
   "cell_type": "markdown",
   "metadata": {},
   "source": [
    "#### Mean and Standard Deviation for Cifar Dataset -\n",
    "\n",
    "Mean: tensor([0.4914, 0.4822, 0.4465])\n",
    "\n",
    "Standard deviation: tensor([0.2471, 0.2435, 0.2616])"
   ]
  },
  {
   "cell_type": "code",
   "execution_count": 4,
   "metadata": {},
   "outputs": [
    {
     "name": "stdout",
     "output_type": "stream",
     "text": [
      "Files already downloaded and verified\n",
      "Files already downloaded and verified\n"
     ]
    }
   ],
   "source": [
    "data_transforms = {\n",
    "    'train': transforms.Compose([\n",
    "        transforms.RandomHorizontalFlip(),\n",
    "        #transforms.RandomRotation(degrees=(90)),\n",
    "        transforms.RandomCrop(32, padding=4),\n",
    "        #transforms.ColorJitter(brightness=0.5, contrast=0.5, saturation=0.5, hue=0.5),\n",
    "        transforms.ToTensor(),\n",
    "        transforms.Normalize([0.4914, 0.4822, 0.4465], [0.2471, 0.2435, 0.2616]),\n",
    "#         transforms.RandomErasing(),\n",
    "\n",
    "    ]),\n",
    "    'val': transforms.Compose([\n",
    "        # transforms.CenterCrop(224),\n",
    "        transforms.ToTensor(),\n",
    "        transforms.Normalize([0.4914, 0.4822, 0.4465], [0.2471, 0.2435, 0.2616])\n",
    "    ]),\n",
    "}\n",
    "\n",
    "\n",
    "dataloaders = {}\n",
    "for phase in ['train','val']:\n",
    "    dataset = datasets.CIFAR10(root='./data', train=(phase=='train'),download=True, transform=data_transforms[phase])\n",
    "    dataloaders[phase] = torch.utils.data.DataLoader(dataset, batch_size=batch_size,shuffle=(phase=='train'), num_workers=num_workers)"
   ]
  },
  {
   "cell_type": "code",
   "execution_count": 5,
   "metadata": {},
   "outputs": [],
   "source": [
    "model = ResNet(BasicBlock, channels, num_res_layer, res_blocks,kernel=kernel,skip_kernel=skip_kernel)\n",
    "model = model.to(device)"
   ]
  },
  {
   "cell_type": "code",
   "execution_count": 6,
   "metadata": {},
   "outputs": [],
   "source": [
    "LossFunc = torch.nn.CrossEntropyLoss()\n",
    "\n",
    "optimizer = torch.optim.Adadelta(model.parameters(), lr=learningRate, weight_decay=weight_decay)\n",
    "\n",
    "save_loss = {'train':[], 'val':[]}\n",
    "save_acc = {'train':[], 'val':[]}"
   ]
  },
  {
   "cell_type": "code",
   "execution_count": 7,
   "metadata": {},
   "outputs": [
    {
     "name": "stdout",
     "output_type": "stream",
     "text": [
      "----------------------------------------------------------------\n",
      "        Layer (type)               Output Shape         Param #\n",
      "================================================================\n",
      "            Conv2d-1          [-1, 128, 32, 32]           3,584\n",
      "       BatchNorm2d-2          [-1, 128, 32, 32]             256\n",
      "            Conv2d-3          [-1, 128, 32, 32]         147,584\n",
      "       BatchNorm2d-4          [-1, 128, 32, 32]             256\n",
      "            Conv2d-5          [-1, 128, 32, 32]         147,584\n",
      "       BatchNorm2d-6          [-1, 128, 32, 32]             256\n",
      "        BasicBlock-7          [-1, 128, 32, 32]               0\n",
      "            Conv2d-8          [-1, 128, 32, 32]         147,584\n",
      "       BatchNorm2d-9          [-1, 128, 32, 32]             256\n",
      "           Conv2d-10          [-1, 128, 32, 32]         147,584\n",
      "      BatchNorm2d-11          [-1, 128, 32, 32]             256\n",
      "       BasicBlock-12          [-1, 128, 32, 32]               0\n",
      "           Conv2d-13          [-1, 128, 32, 32]         147,584\n",
      "      BatchNorm2d-14          [-1, 128, 32, 32]             256\n",
      "           Conv2d-15          [-1, 128, 32, 32]         147,584\n",
      "      BatchNorm2d-16          [-1, 128, 32, 32]             256\n",
      "       BasicBlock-17          [-1, 128, 32, 32]               0\n",
      "           Conv2d-18          [-1, 256, 16, 16]         295,168\n",
      "      BatchNorm2d-19          [-1, 256, 16, 16]             512\n",
      "           Conv2d-20          [-1, 256, 16, 16]         590,080\n",
      "      BatchNorm2d-21          [-1, 256, 16, 16]             512\n",
      "           Conv2d-22          [-1, 256, 16, 16]         295,168\n",
      "      BatchNorm2d-23          [-1, 256, 16, 16]             512\n",
      "       BasicBlock-24          [-1, 256, 16, 16]               0\n",
      "           Conv2d-25          [-1, 256, 16, 16]         590,080\n",
      "      BatchNorm2d-26          [-1, 256, 16, 16]             512\n",
      "           Conv2d-27          [-1, 256, 16, 16]         590,080\n",
      "      BatchNorm2d-28          [-1, 256, 16, 16]             512\n",
      "       BasicBlock-29          [-1, 256, 16, 16]               0\n",
      "           Conv2d-30          [-1, 256, 16, 16]         590,080\n",
      "      BatchNorm2d-31          [-1, 256, 16, 16]             512\n",
      "           Conv2d-32          [-1, 256, 16, 16]         590,080\n",
      "      BatchNorm2d-33          [-1, 256, 16, 16]             512\n",
      "       BasicBlock-34          [-1, 256, 16, 16]               0\n",
      "           Linear-35                   [-1, 10]           2,570\n",
      "================================================================\n",
      "Total params: 4,437,770\n",
      "Trainable params: 4,437,770\n",
      "Non-trainable params: 0\n",
      "----------------------------------------------------------------\n",
      "Input size (MB): 0.01\n",
      "Forward/backward pass size (MB): 25.50\n",
      "Params size (MB): 16.93\n",
      "Estimated Total Size (MB): 42.44\n",
      "----------------------------------------------------------------\n",
      "None\n"
     ]
    }
   ],
   "source": [
    "from torchsummary import summary\n",
    "print(summary(model, input_size=(3, 32, 32)))"
   ]
  },
  {
   "cell_type": "code",
   "execution_count": 8,
   "metadata": {},
   "outputs": [
    {
     "name": "stderr",
     "output_type": "stream",
     "text": [
      "  0%|          | 0/200 [00:00<?, ?it/s]"
     ]
    },
    {
     "name": "stdout",
     "output_type": "stream",
     "text": [
      "Epoch:0 -- Phase:train -- Loss:1.45 -- Acc:46.57\n"
     ]
    },
    {
     "name": "stderr",
     "output_type": "stream",
     "text": [
      "  0%|          | 1/200 [00:52<2:53:07, 52.20s/it]"
     ]
    },
    {
     "name": "stdout",
     "output_type": "stream",
     "text": [
      "Epoch:0 -- Phase:val -- Loss:2.09 -- Acc:42.03\n",
      "Epoch:1 -- Phase:train -- Loss:0.96 -- Acc:65.64\n"
     ]
    },
    {
     "name": "stderr",
     "output_type": "stream",
     "text": [
      "  1%|          | 2/200 [01:44<2:52:44, 52.35s/it]"
     ]
    },
    {
     "name": "stdout",
     "output_type": "stream",
     "text": [
      "Epoch:1 -- Phase:val -- Loss:1.94 -- Acc:49.96\n",
      "Epoch:2 -- Phase:train -- Loss:0.77 -- Acc:73.06\n"
     ]
    },
    {
     "name": "stderr",
     "output_type": "stream",
     "text": [
      "  2%|▏         | 3/200 [02:37<2:52:14, 52.46s/it]"
     ]
    },
    {
     "name": "stdout",
     "output_type": "stream",
     "text": [
      "Epoch:2 -- Phase:val -- Loss:1.59 -- Acc:56.25\n",
      "Epoch:3 -- Phase:train -- Loss:0.65 -- Acc:77.23\n"
     ]
    },
    {
     "name": "stderr",
     "output_type": "stream",
     "text": [
      "  2%|▏         | 4/200 [03:30<2:52:27, 52.80s/it]"
     ]
    },
    {
     "name": "stdout",
     "output_type": "stream",
     "text": [
      "Epoch:3 -- Phase:val -- Loss:0.97 -- Acc:68.98\n",
      "Epoch:4 -- Phase:train -- Loss:0.56 -- Acc:80.60\n"
     ]
    },
    {
     "name": "stderr",
     "output_type": "stream",
     "text": [
      "  2%|▎         | 5/200 [04:24<2:53:08, 53.28s/it]"
     ]
    },
    {
     "name": "stdout",
     "output_type": "stream",
     "text": [
      "Epoch:4 -- Phase:val -- Loss:0.87 -- Acc:71.16\n",
      "Epoch:5 -- Phase:train -- Loss:0.50 -- Acc:82.59\n"
     ]
    },
    {
     "name": "stderr",
     "output_type": "stream",
     "text": [
      "  3%|▎         | 6/200 [05:19<2:53:27, 53.65s/it]"
     ]
    },
    {
     "name": "stdout",
     "output_type": "stream",
     "text": [
      "Epoch:5 -- Phase:val -- Loss:1.75 -- Acc:61.12\n",
      "Epoch:6 -- Phase:train -- Loss:0.45 -- Acc:84.40\n"
     ]
    },
    {
     "name": "stderr",
     "output_type": "stream",
     "text": [
      "  4%|▎         | 7/200 [06:12<2:52:21, 53.58s/it]"
     ]
    },
    {
     "name": "stdout",
     "output_type": "stream",
     "text": [
      "Epoch:6 -- Phase:val -- Loss:1.25 -- Acc:66.07\n",
      "Epoch:7 -- Phase:train -- Loss:0.42 -- Acc:85.65\n"
     ]
    },
    {
     "name": "stderr",
     "output_type": "stream",
     "text": [
      "  4%|▍         | 8/200 [07:06<2:52:10, 53.80s/it]"
     ]
    },
    {
     "name": "stdout",
     "output_type": "stream",
     "text": [
      "Epoch:7 -- Phase:val -- Loss:1.38 -- Acc:64.25\n",
      "Epoch:8 -- Phase:train -- Loss:0.38 -- Acc:86.88\n"
     ]
    },
    {
     "name": "stderr",
     "output_type": "stream",
     "text": [
      "  4%|▍         | 9/200 [08:01<2:51:53, 54.00s/it]"
     ]
    },
    {
     "name": "stdout",
     "output_type": "stream",
     "text": [
      "Epoch:8 -- Phase:val -- Loss:0.55 -- Acc:81.13\n",
      "Epoch:9 -- Phase:train -- Loss:0.35 -- Acc:87.75\n"
     ]
    },
    {
     "name": "stderr",
     "output_type": "stream",
     "text": [
      "  5%|▌         | 10/200 [08:54<2:50:45, 53.92s/it]"
     ]
    },
    {
     "name": "stdout",
     "output_type": "stream",
     "text": [
      "Epoch:9 -- Phase:val -- Loss:0.51 -- Acc:83.94\n",
      "Epoch:10 -- Phase:train -- Loss:0.32 -- Acc:88.76\n"
     ]
    },
    {
     "name": "stderr",
     "output_type": "stream",
     "text": [
      "  6%|▌         | 11/200 [09:47<2:48:58, 53.64s/it]"
     ]
    },
    {
     "name": "stdout",
     "output_type": "stream",
     "text": [
      "Epoch:10 -- Phase:val -- Loss:1.29 -- Acc:69.75\n",
      "Epoch:11 -- Phase:train -- Loss:0.30 -- Acc:89.66\n"
     ]
    },
    {
     "name": "stderr",
     "output_type": "stream",
     "text": [
      "  6%|▌         | 12/200 [10:40<2:47:19, 53.40s/it]"
     ]
    },
    {
     "name": "stdout",
     "output_type": "stream",
     "text": [
      "Epoch:11 -- Phase:val -- Loss:0.70 -- Acc:79.36\n",
      "Epoch:12 -- Phase:train -- Loss:0.28 -- Acc:90.23\n"
     ]
    },
    {
     "name": "stderr",
     "output_type": "stream",
     "text": [
      "  6%|▋         | 13/200 [11:33<2:45:50, 53.21s/it]"
     ]
    },
    {
     "name": "stdout",
     "output_type": "stream",
     "text": [
      "Epoch:12 -- Phase:val -- Loss:0.74 -- Acc:78.54\n",
      "Epoch:13 -- Phase:train -- Loss:0.27 -- Acc:90.79\n"
     ]
    },
    {
     "name": "stderr",
     "output_type": "stream",
     "text": [
      "  7%|▋         | 14/200 [12:26<2:44:36, 53.10s/it]"
     ]
    },
    {
     "name": "stdout",
     "output_type": "stream",
     "text": [
      "Epoch:13 -- Phase:val -- Loss:0.81 -- Acc:77.79\n",
      "Epoch:14 -- Phase:train -- Loss:0.25 -- Acc:91.46\n"
     ]
    },
    {
     "name": "stderr",
     "output_type": "stream",
     "text": [
      "  8%|▊         | 15/200 [13:19<2:43:35, 53.06s/it]"
     ]
    },
    {
     "name": "stdout",
     "output_type": "stream",
     "text": [
      "Epoch:14 -- Phase:val -- Loss:0.59 -- Acc:82.26\n",
      "Epoch:15 -- Phase:train -- Loss:0.23 -- Acc:91.94\n"
     ]
    },
    {
     "name": "stderr",
     "output_type": "stream",
     "text": [
      "  8%|▊         | 16/200 [14:12<2:42:40, 53.05s/it]"
     ]
    },
    {
     "name": "stdout",
     "output_type": "stream",
     "text": [
      "Epoch:15 -- Phase:val -- Loss:0.59 -- Acc:83.04\n",
      "Epoch:16 -- Phase:train -- Loss:0.22 -- Acc:92.37\n"
     ]
    },
    {
     "name": "stderr",
     "output_type": "stream",
     "text": [
      "  8%|▊         | 17/200 [15:05<2:41:36, 52.99s/it]"
     ]
    },
    {
     "name": "stdout",
     "output_type": "stream",
     "text": [
      "Epoch:16 -- Phase:val -- Loss:0.71 -- Acc:81.78\n",
      "Epoch:17 -- Phase:train -- Loss:0.21 -- Acc:92.88\n"
     ]
    },
    {
     "name": "stderr",
     "output_type": "stream",
     "text": [
      "  9%|▉         | 18/200 [15:58<2:40:46, 53.00s/it]"
     ]
    },
    {
     "name": "stdout",
     "output_type": "stream",
     "text": [
      "Epoch:17 -- Phase:val -- Loss:0.73 -- Acc:80.54\n",
      "Epoch:18 -- Phase:train -- Loss:0.19 -- Acc:93.18\n"
     ]
    },
    {
     "name": "stderr",
     "output_type": "stream",
     "text": [
      " 10%|▉         | 19/200 [16:51<2:39:39, 52.93s/it]"
     ]
    },
    {
     "name": "stdout",
     "output_type": "stream",
     "text": [
      "Epoch:18 -- Phase:val -- Loss:0.58 -- Acc:84.02\n",
      "Epoch:19 -- Phase:train -- Loss:0.18 -- Acc:93.70\n"
     ]
    },
    {
     "name": "stderr",
     "output_type": "stream",
     "text": [
      " 10%|█         | 20/200 [17:45<2:39:59, 53.33s/it]"
     ]
    },
    {
     "name": "stdout",
     "output_type": "stream",
     "text": [
      "Epoch:19 -- Phase:val -- Loss:0.75 -- Acc:81.58\n",
      "Epoch:20 -- Phase:train -- Loss:0.17 -- Acc:93.98\n"
     ]
    },
    {
     "name": "stderr",
     "output_type": "stream",
     "text": [
      " 10%|█         | 21/200 [18:39<2:40:03, 53.65s/it]"
     ]
    },
    {
     "name": "stdout",
     "output_type": "stream",
     "text": [
      "Epoch:20 -- Phase:val -- Loss:0.58 -- Acc:83.15\n",
      "Epoch:21 -- Phase:train -- Loss:0.16 -- Acc:94.49\n"
     ]
    },
    {
     "name": "stderr",
     "output_type": "stream",
     "text": [
      " 11%|█         | 22/200 [19:33<2:39:23, 53.73s/it]"
     ]
    },
    {
     "name": "stdout",
     "output_type": "stream",
     "text": [
      "Epoch:21 -- Phase:val -- Loss:0.67 -- Acc:83.03\n",
      "Epoch:22 -- Phase:train -- Loss:0.15 -- Acc:94.73\n"
     ]
    },
    {
     "name": "stderr",
     "output_type": "stream",
     "text": [
      " 12%|█▏        | 23/200 [20:28<2:39:06, 53.93s/it]"
     ]
    },
    {
     "name": "stdout",
     "output_type": "stream",
     "text": [
      "Epoch:22 -- Phase:val -- Loss:0.52 -- Acc:85.81\n",
      "Epoch:23 -- Phase:train -- Loss:0.14 -- Acc:95.12\n"
     ]
    },
    {
     "name": "stderr",
     "output_type": "stream",
     "text": [
      " 12%|█▏        | 24/200 [21:22<2:38:45, 54.12s/it]"
     ]
    },
    {
     "name": "stdout",
     "output_type": "stream",
     "text": [
      "Epoch:23 -- Phase:val -- Loss:0.50 -- Acc:86.56\n",
      "Epoch:24 -- Phase:train -- Loss:0.14 -- Acc:95.27\n"
     ]
    },
    {
     "name": "stderr",
     "output_type": "stream",
     "text": [
      " 12%|█▎        | 25/200 [22:17<2:38:28, 54.34s/it]"
     ]
    },
    {
     "name": "stdout",
     "output_type": "stream",
     "text": [
      "Epoch:24 -- Phase:val -- Loss:0.80 -- Acc:79.82\n",
      "Epoch:25 -- Phase:train -- Loss:0.13 -- Acc:95.56\n"
     ]
    },
    {
     "name": "stderr",
     "output_type": "stream",
     "text": [
      " 13%|█▎        | 26/200 [23:11<2:37:38, 54.36s/it]"
     ]
    },
    {
     "name": "stdout",
     "output_type": "stream",
     "text": [
      "Epoch:25 -- Phase:val -- Loss:0.52 -- Acc:86.01\n",
      "Epoch:26 -- Phase:train -- Loss:0.12 -- Acc:95.93\n"
     ]
    },
    {
     "name": "stderr",
     "output_type": "stream",
     "text": [
      " 14%|█▎        | 27/200 [24:06<2:37:07, 54.49s/it]"
     ]
    },
    {
     "name": "stdout",
     "output_type": "stream",
     "text": [
      "Epoch:26 -- Phase:val -- Loss:0.60 -- Acc:83.97\n",
      "Epoch:27 -- Phase:train -- Loss:0.12 -- Acc:95.89\n"
     ]
    },
    {
     "name": "stderr",
     "output_type": "stream",
     "text": [
      " 14%|█▍        | 28/200 [25:01<2:36:11, 54.49s/it]"
     ]
    },
    {
     "name": "stdout",
     "output_type": "stream",
     "text": [
      "Epoch:27 -- Phase:val -- Loss:0.36 -- Acc:89.82\n",
      "Epoch:28 -- Phase:train -- Loss:0.10 -- Acc:96.34\n"
     ]
    },
    {
     "name": "stderr",
     "output_type": "stream",
     "text": [
      " 14%|█▍        | 29/200 [25:55<2:35:28, 54.55s/it]"
     ]
    },
    {
     "name": "stdout",
     "output_type": "stream",
     "text": [
      "Epoch:28 -- Phase:val -- Loss:0.50 -- Acc:86.58\n",
      "Epoch:29 -- Phase:train -- Loss:0.10 -- Acc:96.34\n"
     ]
    },
    {
     "name": "stderr",
     "output_type": "stream",
     "text": [
      " 15%|█▌        | 30/200 [26:50<2:34:36, 54.57s/it]"
     ]
    },
    {
     "name": "stdout",
     "output_type": "stream",
     "text": [
      "Epoch:29 -- Phase:val -- Loss:0.66 -- Acc:84.87\n",
      "Epoch:30 -- Phase:train -- Loss:0.10 -- Acc:96.43\n"
     ]
    },
    {
     "name": "stderr",
     "output_type": "stream",
     "text": [
      " 16%|█▌        | 31/200 [27:45<2:33:48, 54.61s/it]"
     ]
    },
    {
     "name": "stdout",
     "output_type": "stream",
     "text": [
      "Epoch:30 -- Phase:val -- Loss:0.72 -- Acc:83.95\n",
      "Epoch:31 -- Phase:train -- Loss:0.09 -- Acc:96.88\n"
     ]
    },
    {
     "name": "stderr",
     "output_type": "stream",
     "text": [
      " 16%|█▌        | 32/200 [28:39<2:32:55, 54.61s/it]"
     ]
    },
    {
     "name": "stdout",
     "output_type": "stream",
     "text": [
      "Epoch:31 -- Phase:val -- Loss:0.63 -- Acc:85.83\n",
      "Epoch:32 -- Phase:train -- Loss:0.09 -- Acc:96.92\n"
     ]
    },
    {
     "name": "stderr",
     "output_type": "stream",
     "text": [
      " 16%|█▋        | 33/200 [29:34<2:32:01, 54.62s/it]"
     ]
    },
    {
     "name": "stdout",
     "output_type": "stream",
     "text": [
      "Epoch:32 -- Phase:val -- Loss:0.54 -- Acc:86.63\n",
      "Epoch:33 -- Phase:train -- Loss:0.08 -- Acc:97.08\n"
     ]
    },
    {
     "name": "stderr",
     "output_type": "stream",
     "text": [
      " 17%|█▋        | 34/200 [30:28<2:31:05, 54.61s/it]"
     ]
    },
    {
     "name": "stdout",
     "output_type": "stream",
     "text": [
      "Epoch:33 -- Phase:val -- Loss:0.41 -- Acc:89.82\n",
      "Epoch:34 -- Phase:train -- Loss:0.08 -- Acc:97.40\n"
     ]
    },
    {
     "name": "stderr",
     "output_type": "stream",
     "text": [
      " 18%|█▊        | 35/200 [31:23<2:30:11, 54.62s/it]"
     ]
    },
    {
     "name": "stdout",
     "output_type": "stream",
     "text": [
      "Epoch:34 -- Phase:val -- Loss:0.60 -- Acc:86.99\n",
      "Epoch:35 -- Phase:train -- Loss:0.07 -- Acc:97.40\n"
     ]
    },
    {
     "name": "stderr",
     "output_type": "stream",
     "text": [
      " 18%|█▊        | 36/200 [32:18<2:29:21, 54.64s/it]"
     ]
    },
    {
     "name": "stdout",
     "output_type": "stream",
     "text": [
      "Epoch:35 -- Phase:val -- Loss:0.75 -- Acc:83.46\n",
      "Epoch:36 -- Phase:train -- Loss:0.07 -- Acc:97.47\n"
     ]
    },
    {
     "name": "stderr",
     "output_type": "stream",
     "text": [
      " 18%|█▊        | 37/200 [33:12<2:28:24, 54.63s/it]"
     ]
    },
    {
     "name": "stdout",
     "output_type": "stream",
     "text": [
      "Epoch:36 -- Phase:val -- Loss:0.58 -- Acc:86.72\n",
      "Epoch:37 -- Phase:train -- Loss:0.07 -- Acc:97.74\n"
     ]
    },
    {
     "name": "stderr",
     "output_type": "stream",
     "text": [
      " 19%|█▉        | 38/200 [34:07<2:27:28, 54.62s/it]"
     ]
    },
    {
     "name": "stdout",
     "output_type": "stream",
     "text": [
      "Epoch:37 -- Phase:val -- Loss:0.73 -- Acc:85.46\n",
      "Epoch:38 -- Phase:train -- Loss:0.07 -- Acc:97.67\n"
     ]
    },
    {
     "name": "stderr",
     "output_type": "stream",
     "text": [
      " 20%|█▉        | 39/200 [35:02<2:26:35, 54.63s/it]"
     ]
    },
    {
     "name": "stdout",
     "output_type": "stream",
     "text": [
      "Epoch:38 -- Phase:val -- Loss:0.61 -- Acc:86.64\n",
      "Epoch:39 -- Phase:train -- Loss:0.06 -- Acc:97.83\n"
     ]
    },
    {
     "name": "stderr",
     "output_type": "stream",
     "text": [
      " 20%|██        | 40/200 [35:56<2:25:40, 54.63s/it]"
     ]
    },
    {
     "name": "stdout",
     "output_type": "stream",
     "text": [
      "Epoch:39 -- Phase:val -- Loss:0.82 -- Acc:83.70\n",
      "Epoch:40 -- Phase:train -- Loss:0.06 -- Acc:97.92\n"
     ]
    },
    {
     "name": "stderr",
     "output_type": "stream",
     "text": [
      " 20%|██        | 41/200 [36:51<2:24:50, 54.66s/it]"
     ]
    },
    {
     "name": "stdout",
     "output_type": "stream",
     "text": [
      "Epoch:40 -- Phase:val -- Loss:0.57 -- Acc:87.89\n",
      "Epoch:41 -- Phase:train -- Loss:0.06 -- Acc:97.93\n"
     ]
    },
    {
     "name": "stderr",
     "output_type": "stream",
     "text": [
      " 21%|██        | 42/200 [37:46<2:23:49, 54.62s/it]"
     ]
    },
    {
     "name": "stdout",
     "output_type": "stream",
     "text": [
      "Epoch:41 -- Phase:val -- Loss:0.49 -- Acc:88.89\n",
      "Epoch:42 -- Phase:train -- Loss:0.06 -- Acc:98.07\n"
     ]
    },
    {
     "name": "stderr",
     "output_type": "stream",
     "text": [
      " 22%|██▏       | 43/200 [38:40<2:22:52, 54.60s/it]"
     ]
    },
    {
     "name": "stdout",
     "output_type": "stream",
     "text": [
      "Epoch:42 -- Phase:val -- Loss:0.45 -- Acc:88.96\n",
      "Epoch:43 -- Phase:train -- Loss:0.05 -- Acc:98.16\n"
     ]
    },
    {
     "name": "stderr",
     "output_type": "stream",
     "text": [
      " 22%|██▏       | 44/200 [39:35<2:21:55, 54.59s/it]"
     ]
    },
    {
     "name": "stdout",
     "output_type": "stream",
     "text": [
      "Epoch:43 -- Phase:val -- Loss:0.92 -- Acc:82.94\n",
      "Epoch:44 -- Phase:train -- Loss:0.05 -- Acc:98.16\n"
     ]
    },
    {
     "name": "stderr",
     "output_type": "stream",
     "text": [
      " 22%|██▎       | 45/200 [40:29<2:21:04, 54.61s/it]"
     ]
    },
    {
     "name": "stdout",
     "output_type": "stream",
     "text": [
      "Epoch:44 -- Phase:val -- Loss:0.67 -- Acc:84.53\n",
      "Epoch:45 -- Phase:train -- Loss:0.05 -- Acc:98.34\n"
     ]
    },
    {
     "name": "stderr",
     "output_type": "stream",
     "text": [
      " 23%|██▎       | 46/200 [41:24<2:20:11, 54.62s/it]"
     ]
    },
    {
     "name": "stdout",
     "output_type": "stream",
     "text": [
      "Epoch:45 -- Phase:val -- Loss:0.46 -- Acc:89.32\n",
      "Epoch:46 -- Phase:train -- Loss:0.05 -- Acc:98.45\n"
     ]
    },
    {
     "name": "stderr",
     "output_type": "stream",
     "text": [
      " 24%|██▎       | 47/200 [42:19<2:19:20, 54.64s/it]"
     ]
    },
    {
     "name": "stdout",
     "output_type": "stream",
     "text": [
      "Epoch:46 -- Phase:val -- Loss:0.80 -- Acc:84.88\n",
      "Epoch:47 -- Phase:train -- Loss:0.05 -- Acc:98.21\n"
     ]
    },
    {
     "name": "stderr",
     "output_type": "stream",
     "text": [
      " 24%|██▍       | 48/200 [43:13<2:18:27, 54.65s/it]"
     ]
    },
    {
     "name": "stdout",
     "output_type": "stream",
     "text": [
      "Epoch:47 -- Phase:val -- Loss:0.54 -- Acc:87.62\n",
      "Epoch:48 -- Phase:train -- Loss:0.04 -- Acc:98.52\n"
     ]
    },
    {
     "name": "stderr",
     "output_type": "stream",
     "text": [
      " 24%|██▍       | 49/200 [44:08<2:17:27, 54.62s/it]"
     ]
    },
    {
     "name": "stdout",
     "output_type": "stream",
     "text": [
      "Epoch:48 -- Phase:val -- Loss:0.40 -- Acc:90.60\n",
      "Epoch:49 -- Phase:train -- Loss:0.05 -- Acc:98.44\n"
     ]
    },
    {
     "name": "stderr",
     "output_type": "stream",
     "text": [
      " 25%|██▌       | 50/200 [45:03<2:16:36, 54.64s/it]"
     ]
    },
    {
     "name": "stdout",
     "output_type": "stream",
     "text": [
      "Epoch:49 -- Phase:val -- Loss:0.46 -- Acc:89.82\n",
      "Epoch:50 -- Phase:train -- Loss:0.04 -- Acc:98.45\n"
     ]
    },
    {
     "name": "stderr",
     "output_type": "stream",
     "text": [
      " 26%|██▌       | 51/200 [45:57<2:15:36, 54.61s/it]"
     ]
    },
    {
     "name": "stdout",
     "output_type": "stream",
     "text": [
      "Epoch:50 -- Phase:val -- Loss:0.56 -- Acc:88.36\n",
      "Epoch:51 -- Phase:train -- Loss:0.04 -- Acc:98.53\n"
     ]
    },
    {
     "name": "stderr",
     "output_type": "stream",
     "text": [
      " 26%|██▌       | 52/200 [46:52<2:14:42, 54.61s/it]"
     ]
    },
    {
     "name": "stdout",
     "output_type": "stream",
     "text": [
      "Epoch:51 -- Phase:val -- Loss:0.44 -- Acc:89.91\n",
      "Epoch:52 -- Phase:train -- Loss:0.04 -- Acc:98.70\n"
     ]
    },
    {
     "name": "stderr",
     "output_type": "stream",
     "text": [
      " 26%|██▋       | 53/200 [47:46<2:13:48, 54.62s/it]"
     ]
    },
    {
     "name": "stdout",
     "output_type": "stream",
     "text": [
      "Epoch:52 -- Phase:val -- Loss:0.76 -- Acc:85.56\n",
      "Epoch:53 -- Phase:train -- Loss:0.04 -- Acc:98.55\n"
     ]
    },
    {
     "name": "stderr",
     "output_type": "stream",
     "text": [
      " 27%|██▋       | 54/200 [48:41<2:12:51, 54.60s/it]"
     ]
    },
    {
     "name": "stdout",
     "output_type": "stream",
     "text": [
      "Epoch:53 -- Phase:val -- Loss:0.46 -- Acc:89.41\n",
      "Epoch:54 -- Phase:train -- Loss:0.04 -- Acc:98.74\n"
     ]
    },
    {
     "name": "stderr",
     "output_type": "stream",
     "text": [
      " 28%|██▊       | 55/200 [49:36<2:11:58, 54.61s/it]"
     ]
    },
    {
     "name": "stdout",
     "output_type": "stream",
     "text": [
      "Epoch:54 -- Phase:val -- Loss:0.46 -- Acc:89.78\n",
      "Epoch:55 -- Phase:train -- Loss:0.03 -- Acc:98.91\n"
     ]
    },
    {
     "name": "stderr",
     "output_type": "stream",
     "text": [
      " 28%|██▊       | 56/200 [50:30<2:11:04, 54.61s/it]"
     ]
    },
    {
     "name": "stdout",
     "output_type": "stream",
     "text": [
      "Epoch:55 -- Phase:val -- Loss:0.46 -- Acc:89.77\n",
      "Epoch:56 -- Phase:train -- Loss:0.04 -- Acc:98.78\n"
     ]
    },
    {
     "name": "stderr",
     "output_type": "stream",
     "text": [
      " 28%|██▊       | 57/200 [51:25<2:10:11, 54.62s/it]"
     ]
    },
    {
     "name": "stdout",
     "output_type": "stream",
     "text": [
      "Epoch:56 -- Phase:val -- Loss:0.74 -- Acc:85.42\n",
      "Epoch:57 -- Phase:train -- Loss:0.04 -- Acc:98.64\n"
     ]
    },
    {
     "name": "stderr",
     "output_type": "stream",
     "text": [
      " 29%|██▉       | 58/200 [52:19<2:09:09, 54.58s/it]"
     ]
    },
    {
     "name": "stdout",
     "output_type": "stream",
     "text": [
      "Epoch:57 -- Phase:val -- Loss:0.77 -- Acc:84.28\n",
      "Epoch:58 -- Phase:train -- Loss:0.04 -- Acc:98.65\n"
     ]
    },
    {
     "name": "stderr",
     "output_type": "stream",
     "text": [
      " 30%|██▉       | 59/200 [53:14<2:08:22, 54.63s/it]"
     ]
    },
    {
     "name": "stdout",
     "output_type": "stream",
     "text": [
      "Epoch:58 -- Phase:val -- Loss:0.49 -- Acc:89.71\n",
      "Epoch:59 -- Phase:train -- Loss:0.03 -- Acc:98.96\n"
     ]
    },
    {
     "name": "stderr",
     "output_type": "stream",
     "text": [
      " 30%|███       | 60/200 [54:09<2:07:27, 54.63s/it]"
     ]
    },
    {
     "name": "stdout",
     "output_type": "stream",
     "text": [
      "Epoch:59 -- Phase:val -- Loss:0.52 -- Acc:88.60\n",
      "Epoch:60 -- Phase:train -- Loss:0.04 -- Acc:98.77\n"
     ]
    },
    {
     "name": "stderr",
     "output_type": "stream",
     "text": [
      " 30%|███       | 61/200 [55:03<2:06:32, 54.62s/it]"
     ]
    },
    {
     "name": "stdout",
     "output_type": "stream",
     "text": [
      "Epoch:60 -- Phase:val -- Loss:0.50 -- Acc:89.35\n",
      "Epoch:61 -- Phase:train -- Loss:0.03 -- Acc:98.85\n"
     ]
    },
    {
     "name": "stderr",
     "output_type": "stream",
     "text": [
      " 31%|███       | 62/200 [55:58<2:05:36, 54.61s/it]"
     ]
    },
    {
     "name": "stdout",
     "output_type": "stream",
     "text": [
      "Epoch:61 -- Phase:val -- Loss:0.50 -- Acc:89.06\n",
      "Epoch:62 -- Phase:train -- Loss:0.03 -- Acc:98.95\n"
     ]
    },
    {
     "name": "stderr",
     "output_type": "stream",
     "text": [
      " 32%|███▏      | 63/200 [56:52<2:04:41, 54.61s/it]"
     ]
    },
    {
     "name": "stdout",
     "output_type": "stream",
     "text": [
      "Epoch:62 -- Phase:val -- Loss:0.50 -- Acc:90.16\n",
      "Epoch:63 -- Phase:train -- Loss:0.03 -- Acc:98.88\n"
     ]
    },
    {
     "name": "stderr",
     "output_type": "stream",
     "text": [
      " 32%|███▏      | 64/200 [57:47<2:03:48, 54.62s/it]"
     ]
    },
    {
     "name": "stdout",
     "output_type": "stream",
     "text": [
      "Epoch:63 -- Phase:val -- Loss:0.43 -- Acc:89.91\n",
      "Epoch:64 -- Phase:train -- Loss:0.03 -- Acc:98.95\n"
     ]
    },
    {
     "name": "stderr",
     "output_type": "stream",
     "text": [
      " 32%|███▎      | 65/200 [58:42<2:02:55, 54.63s/it]"
     ]
    },
    {
     "name": "stdout",
     "output_type": "stream",
     "text": [
      "Epoch:64 -- Phase:val -- Loss:0.49 -- Acc:89.20\n",
      "Epoch:65 -- Phase:train -- Loss:0.03 -- Acc:98.97\n"
     ]
    },
    {
     "name": "stderr",
     "output_type": "stream",
     "text": [
      " 33%|███▎      | 66/200 [59:36<2:01:56, 54.60s/it]"
     ]
    },
    {
     "name": "stdout",
     "output_type": "stream",
     "text": [
      "Epoch:65 -- Phase:val -- Loss:0.55 -- Acc:89.25\n",
      "Epoch:66 -- Phase:train -- Loss:0.03 -- Acc:98.91\n"
     ]
    },
    {
     "name": "stderr",
     "output_type": "stream",
     "text": [
      " 34%|███▎      | 67/200 [1:00:31<2:01:01, 54.60s/it]"
     ]
    },
    {
     "name": "stdout",
     "output_type": "stream",
     "text": [
      "Epoch:66 -- Phase:val -- Loss:0.77 -- Acc:85.61\n",
      "Epoch:67 -- Phase:train -- Loss:0.03 -- Acc:98.92\n"
     ]
    },
    {
     "name": "stderr",
     "output_type": "stream",
     "text": [
      " 34%|███▍      | 68/200 [1:01:25<2:00:03, 54.57s/it]"
     ]
    },
    {
     "name": "stdout",
     "output_type": "stream",
     "text": [
      "Epoch:67 -- Phase:val -- Loss:0.44 -- Acc:90.11\n",
      "Epoch:68 -- Phase:train -- Loss:0.03 -- Acc:99.02\n"
     ]
    },
    {
     "name": "stderr",
     "output_type": "stream",
     "text": [
      " 34%|███▍      | 69/200 [1:02:20<1:59:15, 54.62s/it]"
     ]
    },
    {
     "name": "stdout",
     "output_type": "stream",
     "text": [
      "Epoch:68 -- Phase:val -- Loss:0.50 -- Acc:88.74\n",
      "Epoch:69 -- Phase:train -- Loss:0.03 -- Acc:98.95\n"
     ]
    },
    {
     "name": "stderr",
     "output_type": "stream",
     "text": [
      " 35%|███▌      | 70/200 [1:03:15<1:58:18, 54.60s/it]"
     ]
    },
    {
     "name": "stdout",
     "output_type": "stream",
     "text": [
      "Epoch:69 -- Phase:val -- Loss:0.37 -- Acc:91.24\n",
      "Epoch:70 -- Phase:train -- Loss:0.03 -- Acc:99.05\n"
     ]
    },
    {
     "name": "stderr",
     "output_type": "stream",
     "text": [
      " 36%|███▌      | 71/200 [1:04:09<1:57:23, 54.60s/it]"
     ]
    },
    {
     "name": "stdout",
     "output_type": "stream",
     "text": [
      "Epoch:70 -- Phase:val -- Loss:0.52 -- Acc:88.57\n",
      "Epoch:71 -- Phase:train -- Loss:0.03 -- Acc:99.02\n"
     ]
    },
    {
     "name": "stderr",
     "output_type": "stream",
     "text": [
      " 36%|███▌      | 72/200 [1:05:04<1:56:28, 54.60s/it]"
     ]
    },
    {
     "name": "stdout",
     "output_type": "stream",
     "text": [
      "Epoch:71 -- Phase:val -- Loss:0.53 -- Acc:89.16\n",
      "Epoch:72 -- Phase:train -- Loss:0.03 -- Acc:98.91\n"
     ]
    },
    {
     "name": "stderr",
     "output_type": "stream",
     "text": [
      " 36%|███▋      | 73/200 [1:05:59<1:55:36, 54.62s/it]"
     ]
    },
    {
     "name": "stdout",
     "output_type": "stream",
     "text": [
      "Epoch:72 -- Phase:val -- Loss:0.52 -- Acc:88.65\n",
      "Epoch:73 -- Phase:train -- Loss:0.03 -- Acc:98.89\n"
     ]
    },
    {
     "name": "stderr",
     "output_type": "stream",
     "text": [
      " 37%|███▋      | 74/200 [1:06:53<1:54:39, 54.60s/it]"
     ]
    },
    {
     "name": "stdout",
     "output_type": "stream",
     "text": [
      "Epoch:73 -- Phase:val -- Loss:0.56 -- Acc:88.37\n",
      "Epoch:74 -- Phase:train -- Loss:0.03 -- Acc:99.17\n"
     ]
    },
    {
     "name": "stderr",
     "output_type": "stream",
     "text": [
      " 38%|███▊      | 75/200 [1:07:48<1:53:47, 54.62s/it]"
     ]
    },
    {
     "name": "stdout",
     "output_type": "stream",
     "text": [
      "Epoch:74 -- Phase:val -- Loss:0.52 -- Acc:89.00\n",
      "Epoch:75 -- Phase:train -- Loss:0.03 -- Acc:99.08\n"
     ]
    },
    {
     "name": "stderr",
     "output_type": "stream",
     "text": [
      " 38%|███▊      | 76/200 [1:08:42<1:52:48, 54.58s/it]"
     ]
    },
    {
     "name": "stdout",
     "output_type": "stream",
     "text": [
      "Epoch:75 -- Phase:val -- Loss:0.57 -- Acc:87.85\n",
      "Epoch:76 -- Phase:train -- Loss:0.03 -- Acc:99.05\n"
     ]
    },
    {
     "name": "stderr",
     "output_type": "stream",
     "text": [
      " 38%|███▊      | 77/200 [1:09:37<1:51:56, 54.61s/it]"
     ]
    },
    {
     "name": "stdout",
     "output_type": "stream",
     "text": [
      "Epoch:76 -- Phase:val -- Loss:0.41 -- Acc:90.30\n",
      "Epoch:77 -- Phase:train -- Loss:0.03 -- Acc:99.21\n"
     ]
    },
    {
     "name": "stderr",
     "output_type": "stream",
     "text": [
      " 39%|███▉      | 78/200 [1:10:32<1:51:00, 54.60s/it]"
     ]
    },
    {
     "name": "stdout",
     "output_type": "stream",
     "text": [
      "Epoch:77 -- Phase:val -- Loss:0.41 -- Acc:90.71\n",
      "Epoch:78 -- Phase:train -- Loss:0.02 -- Acc:99.34\n"
     ]
    },
    {
     "name": "stderr",
     "output_type": "stream",
     "text": [
      " 40%|███▉      | 79/200 [1:11:26<1:50:08, 54.61s/it]"
     ]
    },
    {
     "name": "stdout",
     "output_type": "stream",
     "text": [
      "Epoch:78 -- Phase:val -- Loss:0.42 -- Acc:90.75\n",
      "Epoch:79 -- Phase:train -- Loss:0.03 -- Acc:99.08\n"
     ]
    },
    {
     "name": "stderr",
     "output_type": "stream",
     "text": [
      " 40%|████      | 80/200 [1:12:21<1:49:12, 54.60s/it]"
     ]
    },
    {
     "name": "stdout",
     "output_type": "stream",
     "text": [
      "Epoch:79 -- Phase:val -- Loss:0.60 -- Acc:88.01\n",
      "Epoch:80 -- Phase:train -- Loss:0.03 -- Acc:98.87\n"
     ]
    },
    {
     "name": "stderr",
     "output_type": "stream",
     "text": [
      " 40%|████      | 81/200 [1:13:15<1:48:20, 54.63s/it]"
     ]
    },
    {
     "name": "stdout",
     "output_type": "stream",
     "text": [
      "Epoch:80 -- Phase:val -- Loss:0.58 -- Acc:88.17\n",
      "Epoch:81 -- Phase:train -- Loss:0.03 -- Acc:98.99\n"
     ]
    },
    {
     "name": "stderr",
     "output_type": "stream",
     "text": [
      " 41%|████      | 82/200 [1:14:10<1:47:22, 54.60s/it]"
     ]
    },
    {
     "name": "stdout",
     "output_type": "stream",
     "text": [
      "Epoch:81 -- Phase:val -- Loss:0.42 -- Acc:90.72\n",
      "Epoch:82 -- Phase:train -- Loss:0.02 -- Acc:99.29\n"
     ]
    },
    {
     "name": "stderr",
     "output_type": "stream",
     "text": [
      " 42%|████▏     | 83/200 [1:15:05<1:46:27, 54.60s/it]"
     ]
    },
    {
     "name": "stdout",
     "output_type": "stream",
     "text": [
      "Epoch:82 -- Phase:val -- Loss:0.40 -- Acc:90.90\n",
      "Epoch:83 -- Phase:train -- Loss:0.02 -- Acc:99.24\n"
     ]
    },
    {
     "name": "stderr",
     "output_type": "stream",
     "text": [
      " 42%|████▏     | 84/200 [1:15:59<1:45:33, 54.60s/it]"
     ]
    },
    {
     "name": "stdout",
     "output_type": "stream",
     "text": [
      "Epoch:83 -- Phase:val -- Loss:0.72 -- Acc:87.06\n",
      "Epoch:84 -- Phase:train -- Loss:0.03 -- Acc:99.09\n"
     ]
    },
    {
     "name": "stderr",
     "output_type": "stream",
     "text": [
      " 42%|████▎     | 85/200 [1:16:54<1:44:39, 54.60s/it]"
     ]
    },
    {
     "name": "stdout",
     "output_type": "stream",
     "text": [
      "Epoch:84 -- Phase:val -- Loss:0.43 -- Acc:90.71\n",
      "Epoch:85 -- Phase:train -- Loss:0.03 -- Acc:99.14\n"
     ]
    },
    {
     "name": "stderr",
     "output_type": "stream",
     "text": [
      " 43%|████▎     | 86/200 [1:17:48<1:43:47, 54.63s/it]"
     ]
    },
    {
     "name": "stdout",
     "output_type": "stream",
     "text": [
      "Epoch:85 -- Phase:val -- Loss:0.44 -- Acc:90.25\n",
      "Epoch:86 -- Phase:train -- Loss:0.03 -- Acc:99.02\n"
     ]
    },
    {
     "name": "stderr",
     "output_type": "stream",
     "text": [
      " 44%|████▎     | 87/200 [1:18:43<1:42:51, 54.62s/it]"
     ]
    },
    {
     "name": "stdout",
     "output_type": "stream",
     "text": [
      "Epoch:86 -- Phase:val -- Loss:0.52 -- Acc:89.67\n",
      "Epoch:87 -- Phase:train -- Loss:0.02 -- Acc:99.16\n"
     ]
    },
    {
     "name": "stderr",
     "output_type": "stream",
     "text": [
      " 44%|████▍     | 88/200 [1:19:38<1:41:53, 54.59s/it]"
     ]
    },
    {
     "name": "stdout",
     "output_type": "stream",
     "text": [
      "Epoch:87 -- Phase:val -- Loss:0.41 -- Acc:90.53\n",
      "Epoch:88 -- Phase:train -- Loss:0.03 -- Acc:99.12\n"
     ]
    },
    {
     "name": "stderr",
     "output_type": "stream",
     "text": [
      " 44%|████▍     | 89/200 [1:20:32<1:40:58, 54.58s/it]"
     ]
    },
    {
     "name": "stdout",
     "output_type": "stream",
     "text": [
      "Epoch:88 -- Phase:val -- Loss:0.51 -- Acc:89.37\n",
      "Epoch:89 -- Phase:train -- Loss:0.03 -- Acc:99.14\n"
     ]
    },
    {
     "name": "stderr",
     "output_type": "stream",
     "text": [
      " 45%|████▌     | 90/200 [1:21:27<1:40:04, 54.59s/it]"
     ]
    },
    {
     "name": "stdout",
     "output_type": "stream",
     "text": [
      "Epoch:89 -- Phase:val -- Loss:0.54 -- Acc:88.81\n",
      "Epoch:90 -- Phase:train -- Loss:0.02 -- Acc:99.26\n"
     ]
    },
    {
     "name": "stderr",
     "output_type": "stream",
     "text": [
      " 46%|████▌     | 91/200 [1:22:21<1:39:15, 54.64s/it]"
     ]
    },
    {
     "name": "stdout",
     "output_type": "stream",
     "text": [
      "Epoch:90 -- Phase:val -- Loss:0.44 -- Acc:90.44\n",
      "Epoch:91 -- Phase:train -- Loss:0.02 -- Acc:99.30\n"
     ]
    },
    {
     "name": "stderr",
     "output_type": "stream",
     "text": [
      " 46%|████▌     | 92/200 [1:23:16<1:38:20, 54.64s/it]"
     ]
    },
    {
     "name": "stdout",
     "output_type": "stream",
     "text": [
      "Epoch:91 -- Phase:val -- Loss:0.42 -- Acc:90.52\n",
      "Epoch:92 -- Phase:train -- Loss:0.02 -- Acc:99.45\n"
     ]
    },
    {
     "name": "stderr",
     "output_type": "stream",
     "text": [
      " 46%|████▋     | 93/200 [1:24:11<1:37:26, 54.64s/it]"
     ]
    },
    {
     "name": "stdout",
     "output_type": "stream",
     "text": [
      "Epoch:92 -- Phase:val -- Loss:0.57 -- Acc:88.76\n",
      "Epoch:93 -- Phase:train -- Loss:0.02 -- Acc:99.25\n"
     ]
    },
    {
     "name": "stderr",
     "output_type": "stream",
     "text": [
      " 47%|████▋     | 94/200 [1:25:05<1:36:31, 54.64s/it]"
     ]
    },
    {
     "name": "stdout",
     "output_type": "stream",
     "text": [
      "Epoch:93 -- Phase:val -- Loss:0.40 -- Acc:90.98\n",
      "Epoch:94 -- Phase:train -- Loss:0.03 -- Acc:99.20\n"
     ]
    },
    {
     "name": "stderr",
     "output_type": "stream",
     "text": [
      " 48%|████▊     | 95/200 [1:26:00<1:35:38, 54.66s/it]"
     ]
    },
    {
     "name": "stdout",
     "output_type": "stream",
     "text": [
      "Epoch:94 -- Phase:val -- Loss:0.47 -- Acc:90.29\n",
      "Epoch:95 -- Phase:train -- Loss:0.03 -- Acc:99.09\n"
     ]
    },
    {
     "name": "stderr",
     "output_type": "stream",
     "text": [
      " 48%|████▊     | 96/200 [1:26:55<1:34:45, 54.67s/it]"
     ]
    },
    {
     "name": "stdout",
     "output_type": "stream",
     "text": [
      "Epoch:95 -- Phase:val -- Loss:0.44 -- Acc:90.30\n",
      "Epoch:96 -- Phase:train -- Loss:0.02 -- Acc:99.34\n"
     ]
    },
    {
     "name": "stderr",
     "output_type": "stream",
     "text": [
      " 48%|████▊     | 97/200 [1:27:50<1:33:59, 54.75s/it]"
     ]
    },
    {
     "name": "stdout",
     "output_type": "stream",
     "text": [
      "Epoch:96 -- Phase:val -- Loss:0.39 -- Acc:91.05\n",
      "Epoch:97 -- Phase:train -- Loss:0.02 -- Acc:99.23\n"
     ]
    },
    {
     "name": "stderr",
     "output_type": "stream",
     "text": [
      " 49%|████▉     | 98/200 [1:28:45<1:33:24, 54.95s/it]"
     ]
    },
    {
     "name": "stdout",
     "output_type": "stream",
     "text": [
      "Epoch:97 -- Phase:val -- Loss:0.55 -- Acc:88.60\n",
      "Epoch:98 -- Phase:train -- Loss:0.02 -- Acc:99.16\n"
     ]
    },
    {
     "name": "stderr",
     "output_type": "stream",
     "text": [
      " 50%|████▉     | 99/200 [1:29:40<1:32:30, 54.96s/it]"
     ]
    },
    {
     "name": "stdout",
     "output_type": "stream",
     "text": [
      "Epoch:98 -- Phase:val -- Loss:0.44 -- Acc:90.42\n",
      "Epoch:99 -- Phase:train -- Loss:0.03 -- Acc:99.06\n"
     ]
    },
    {
     "name": "stderr",
     "output_type": "stream",
     "text": [
      " 50%|█████     | 100/200 [1:30:35<1:31:39, 55.00s/it]"
     ]
    },
    {
     "name": "stdout",
     "output_type": "stream",
     "text": [
      "Epoch:99 -- Phase:val -- Loss:0.39 -- Acc:90.85\n",
      "Epoch:100 -- Phase:train -- Loss:0.03 -- Acc:99.14\n"
     ]
    },
    {
     "name": "stderr",
     "output_type": "stream",
     "text": [
      " 50%|█████     | 101/200 [1:31:30<1:30:48, 55.03s/it]"
     ]
    },
    {
     "name": "stdout",
     "output_type": "stream",
     "text": [
      "Epoch:100 -- Phase:val -- Loss:0.64 -- Acc:87.98\n",
      "Epoch:101 -- Phase:train -- Loss:0.03 -- Acc:99.12\n"
     ]
    },
    {
     "name": "stderr",
     "output_type": "stream",
     "text": [
      " 51%|█████     | 102/200 [1:32:25<1:29:53, 55.03s/it]"
     ]
    },
    {
     "name": "stdout",
     "output_type": "stream",
     "text": [
      "Epoch:101 -- Phase:val -- Loss:0.62 -- Acc:87.47\n",
      "Epoch:102 -- Phase:train -- Loss:0.02 -- Acc:99.27\n"
     ]
    },
    {
     "name": "stderr",
     "output_type": "stream",
     "text": [
      " 52%|█████▏    | 103/200 [1:33:20<1:28:53, 54.98s/it]"
     ]
    },
    {
     "name": "stdout",
     "output_type": "stream",
     "text": [
      "Epoch:102 -- Phase:val -- Loss:0.48 -- Acc:89.57\n",
      "Epoch:103 -- Phase:train -- Loss:0.02 -- Acc:99.32\n"
     ]
    },
    {
     "name": "stderr",
     "output_type": "stream",
     "text": [
      " 52%|█████▏    | 104/200 [1:34:15<1:27:59, 54.99s/it]"
     ]
    },
    {
     "name": "stdout",
     "output_type": "stream",
     "text": [
      "Epoch:103 -- Phase:val -- Loss:0.68 -- Acc:86.71\n",
      "Epoch:104 -- Phase:train -- Loss:0.02 -- Acc:99.35\n"
     ]
    },
    {
     "name": "stderr",
     "output_type": "stream",
     "text": [
      " 52%|█████▎    | 105/200 [1:35:10<1:27:09, 55.05s/it]"
     ]
    },
    {
     "name": "stdout",
     "output_type": "stream",
     "text": [
      "Epoch:104 -- Phase:val -- Loss:0.51 -- Acc:89.36\n",
      "Epoch:105 -- Phase:train -- Loss:0.03 -- Acc:99.11\n"
     ]
    },
    {
     "name": "stderr",
     "output_type": "stream",
     "text": [
      " 53%|█████▎    | 106/200 [1:36:06<1:26:19, 55.10s/it]"
     ]
    },
    {
     "name": "stdout",
     "output_type": "stream",
     "text": [
      "Epoch:105 -- Phase:val -- Loss:0.42 -- Acc:90.47\n",
      "Epoch:106 -- Phase:train -- Loss:0.02 -- Acc:99.35\n"
     ]
    },
    {
     "name": "stderr",
     "output_type": "stream",
     "text": [
      " 54%|█████▎    | 107/200 [1:37:01<1:25:25, 55.11s/it]"
     ]
    },
    {
     "name": "stdout",
     "output_type": "stream",
     "text": [
      "Epoch:106 -- Phase:val -- Loss:0.41 -- Acc:91.11\n",
      "Epoch:107 -- Phase:train -- Loss:0.02 -- Acc:99.29\n"
     ]
    },
    {
     "name": "stderr",
     "output_type": "stream",
     "text": [
      " 54%|█████▍    | 108/200 [1:37:56<1:24:22, 55.02s/it]"
     ]
    },
    {
     "name": "stdout",
     "output_type": "stream",
     "text": [
      "Epoch:107 -- Phase:val -- Loss:0.47 -- Acc:90.01\n",
      "Epoch:108 -- Phase:train -- Loss:0.02 -- Acc:99.27\n"
     ]
    },
    {
     "name": "stderr",
     "output_type": "stream",
     "text": [
      " 55%|█████▍    | 109/200 [1:38:51<1:23:27, 55.02s/it]"
     ]
    },
    {
     "name": "stdout",
     "output_type": "stream",
     "text": [
      "Epoch:108 -- Phase:val -- Loss:0.40 -- Acc:90.89\n",
      "Epoch:109 -- Phase:train -- Loss:0.02 -- Acc:99.46\n"
     ]
    },
    {
     "name": "stderr",
     "output_type": "stream",
     "text": [
      " 55%|█████▌    | 110/200 [1:39:47<1:22:57, 55.31s/it]"
     ]
    },
    {
     "name": "stdout",
     "output_type": "stream",
     "text": [
      "Epoch:109 -- Phase:val -- Loss:0.44 -- Acc:90.53\n",
      "Epoch:110 -- Phase:train -- Loss:0.02 -- Acc:99.41\n"
     ]
    },
    {
     "name": "stderr",
     "output_type": "stream",
     "text": [
      " 56%|█████▌    | 111/200 [1:40:42<1:21:53, 55.20s/it]"
     ]
    },
    {
     "name": "stdout",
     "output_type": "stream",
     "text": [
      "Epoch:110 -- Phase:val -- Loss:0.47 -- Acc:90.15\n",
      "Epoch:111 -- Phase:train -- Loss:0.02 -- Acc:99.19\n"
     ]
    },
    {
     "name": "stderr",
     "output_type": "stream",
     "text": [
      " 56%|█████▌    | 112/200 [1:41:37<1:21:03, 55.27s/it]"
     ]
    },
    {
     "name": "stdout",
     "output_type": "stream",
     "text": [
      "Epoch:111 -- Phase:val -- Loss:0.44 -- Acc:90.61\n",
      "Epoch:112 -- Phase:train -- Loss:0.02 -- Acc:99.24\n"
     ]
    },
    {
     "name": "stderr",
     "output_type": "stream",
     "text": [
      " 56%|█████▋    | 113/200 [1:42:34<1:20:44, 55.68s/it]"
     ]
    },
    {
     "name": "stdout",
     "output_type": "stream",
     "text": [
      "Epoch:112 -- Phase:val -- Loss:0.49 -- Acc:89.01\n",
      "Epoch:113 -- Phase:train -- Loss:0.02 -- Acc:99.36\n"
     ]
    },
    {
     "name": "stderr",
     "output_type": "stream",
     "text": [
      " 57%|█████▋    | 114/200 [1:43:29<1:19:44, 55.63s/it]"
     ]
    },
    {
     "name": "stdout",
     "output_type": "stream",
     "text": [
      "Epoch:113 -- Phase:val -- Loss:0.37 -- Acc:91.63\n",
      "Epoch:114 -- Phase:train -- Loss:0.03 -- Acc:99.17\n"
     ]
    },
    {
     "name": "stderr",
     "output_type": "stream",
     "text": [
      " 57%|█████▊    | 115/200 [1:44:24<1:18:36, 55.49s/it]"
     ]
    },
    {
     "name": "stdout",
     "output_type": "stream",
     "text": [
      "Epoch:114 -- Phase:val -- Loss:0.42 -- Acc:90.35\n",
      "Epoch:115 -- Phase:train -- Loss:0.02 -- Acc:99.28\n"
     ]
    },
    {
     "name": "stderr",
     "output_type": "stream",
     "text": [
      " 58%|█████▊    | 116/200 [1:45:19<1:17:26, 55.32s/it]"
     ]
    },
    {
     "name": "stdout",
     "output_type": "stream",
     "text": [
      "Epoch:115 -- Phase:val -- Loss:0.50 -- Acc:88.99\n",
      "Epoch:116 -- Phase:train -- Loss:0.02 -- Acc:99.22\n"
     ]
    },
    {
     "name": "stderr",
     "output_type": "stream",
     "text": [
      " 58%|█████▊    | 117/200 [1:46:14<1:16:22, 55.21s/it]"
     ]
    },
    {
     "name": "stdout",
     "output_type": "stream",
     "text": [
      "Epoch:116 -- Phase:val -- Loss:0.87 -- Acc:84.14\n",
      "Epoch:117 -- Phase:train -- Loss:0.03 -- Acc:99.16\n"
     ]
    },
    {
     "name": "stderr",
     "output_type": "stream",
     "text": [
      " 59%|█████▉    | 118/200 [1:47:09<1:15:24, 55.18s/it]"
     ]
    },
    {
     "name": "stdout",
     "output_type": "stream",
     "text": [
      "Epoch:117 -- Phase:val -- Loss:0.39 -- Acc:91.37\n",
      "Epoch:118 -- Phase:train -- Loss:0.02 -- Acc:99.26\n"
     ]
    },
    {
     "name": "stderr",
     "output_type": "stream",
     "text": [
      " 60%|█████▉    | 119/200 [1:48:04<1:14:23, 55.10s/it]"
     ]
    },
    {
     "name": "stdout",
     "output_type": "stream",
     "text": [
      "Epoch:118 -- Phase:val -- Loss:0.43 -- Acc:90.46\n",
      "Epoch:119 -- Phase:train -- Loss:0.02 -- Acc:99.36\n"
     ]
    },
    {
     "name": "stderr",
     "output_type": "stream",
     "text": [
      " 60%|██████    | 120/200 [1:48:59<1:13:24, 55.05s/it]"
     ]
    },
    {
     "name": "stdout",
     "output_type": "stream",
     "text": [
      "Epoch:119 -- Phase:val -- Loss:0.46 -- Acc:90.34\n",
      "Epoch:120 -- Phase:train -- Loss:0.02 -- Acc:99.23\n"
     ]
    },
    {
     "name": "stderr",
     "output_type": "stream",
     "text": [
      " 60%|██████    | 121/200 [1:49:54<1:12:20, 54.94s/it]"
     ]
    },
    {
     "name": "stdout",
     "output_type": "stream",
     "text": [
      "Epoch:120 -- Phase:val -- Loss:0.59 -- Acc:87.84\n",
      "Epoch:121 -- Phase:train -- Loss:0.02 -- Acc:99.35\n"
     ]
    },
    {
     "name": "stderr",
     "output_type": "stream",
     "text": [
      " 61%|██████    | 122/200 [1:50:48<1:10:56, 54.57s/it]"
     ]
    },
    {
     "name": "stdout",
     "output_type": "stream",
     "text": [
      "Epoch:121 -- Phase:val -- Loss:0.49 -- Acc:88.71\n",
      "Epoch:122 -- Phase:train -- Loss:0.02 -- Acc:99.21\n"
     ]
    },
    {
     "name": "stderr",
     "output_type": "stream",
     "text": [
      " 62%|██████▏   | 123/200 [1:51:41<1:09:29, 54.15s/it]"
     ]
    },
    {
     "name": "stdout",
     "output_type": "stream",
     "text": [
      "Epoch:122 -- Phase:val -- Loss:0.68 -- Acc:87.15\n",
      "Epoch:123 -- Phase:train -- Loss:0.03 -- Acc:99.12\n"
     ]
    },
    {
     "name": "stderr",
     "output_type": "stream",
     "text": [
      " 62%|██████▏   | 124/200 [1:52:34<1:08:16, 53.90s/it]"
     ]
    },
    {
     "name": "stdout",
     "output_type": "stream",
     "text": [
      "Epoch:123 -- Phase:val -- Loss:0.49 -- Acc:90.30\n",
      "Epoch:124 -- Phase:train -- Loss:0.02 -- Acc:99.39\n"
     ]
    },
    {
     "name": "stderr",
     "output_type": "stream",
     "text": [
      " 62%|██████▎   | 125/200 [1:53:27<1:07:07, 53.70s/it]"
     ]
    },
    {
     "name": "stdout",
     "output_type": "stream",
     "text": [
      "Epoch:124 -- Phase:val -- Loss:0.43 -- Acc:90.41\n",
      "Epoch:125 -- Phase:train -- Loss:0.02 -- Acc:99.46\n"
     ]
    },
    {
     "name": "stderr",
     "output_type": "stream",
     "text": [
      " 63%|██████▎   | 126/200 [1:54:21<1:06:07, 53.62s/it]"
     ]
    },
    {
     "name": "stdout",
     "output_type": "stream",
     "text": [
      "Epoch:125 -- Phase:val -- Loss:0.41 -- Acc:91.11\n",
      "Epoch:126 -- Phase:train -- Loss:0.02 -- Acc:99.33\n"
     ]
    },
    {
     "name": "stderr",
     "output_type": "stream",
     "text": [
      " 64%|██████▎   | 127/200 [1:55:14<1:05:07, 53.52s/it]"
     ]
    },
    {
     "name": "stdout",
     "output_type": "stream",
     "text": [
      "Epoch:126 -- Phase:val -- Loss:0.46 -- Acc:90.35\n",
      "Epoch:127 -- Phase:train -- Loss:0.02 -- Acc:99.24\n"
     ]
    },
    {
     "name": "stderr",
     "output_type": "stream",
     "text": [
      " 64%|██████▍   | 128/200 [1:56:07<1:04:06, 53.43s/it]"
     ]
    },
    {
     "name": "stdout",
     "output_type": "stream",
     "text": [
      "Epoch:127 -- Phase:val -- Loss:0.43 -- Acc:91.12\n",
      "Epoch:128 -- Phase:train -- Loss:0.02 -- Acc:99.37\n"
     ]
    },
    {
     "name": "stderr",
     "output_type": "stream",
     "text": [
      " 64%|██████▍   | 129/200 [1:57:00<1:03:07, 53.35s/it]"
     ]
    },
    {
     "name": "stdout",
     "output_type": "stream",
     "text": [
      "Epoch:128 -- Phase:val -- Loss:0.53 -- Acc:88.19\n",
      "Epoch:129 -- Phase:train -- Loss:0.02 -- Acc:99.29\n"
     ]
    },
    {
     "name": "stderr",
     "output_type": "stream",
     "text": [
      " 65%|██████▌   | 130/200 [1:57:54<1:02:10, 53.29s/it]"
     ]
    },
    {
     "name": "stdout",
     "output_type": "stream",
     "text": [
      "Epoch:129 -- Phase:val -- Loss:0.47 -- Acc:89.61\n",
      "Epoch:130 -- Phase:train -- Loss:0.02 -- Acc:99.30\n"
     ]
    },
    {
     "name": "stderr",
     "output_type": "stream",
     "text": [
      " 66%|██████▌   | 131/200 [1:58:47<1:01:15, 53.26s/it]"
     ]
    },
    {
     "name": "stdout",
     "output_type": "stream",
     "text": [
      "Epoch:130 -- Phase:val -- Loss:0.49 -- Acc:89.65\n",
      "Epoch:131 -- Phase:train -- Loss:0.03 -- Acc:99.07\n"
     ]
    },
    {
     "name": "stderr",
     "output_type": "stream",
     "text": [
      " 66%|██████▌   | 132/200 [1:59:40<1:00:21, 53.26s/it]"
     ]
    },
    {
     "name": "stdout",
     "output_type": "stream",
     "text": [
      "Epoch:131 -- Phase:val -- Loss:0.47 -- Acc:89.79\n",
      "Epoch:132 -- Phase:train -- Loss:0.02 -- Acc:99.21\n"
     ]
    },
    {
     "name": "stderr",
     "output_type": "stream",
     "text": [
      " 66%|██████▋   | 133/200 [2:00:33<59:26, 53.23s/it]  "
     ]
    },
    {
     "name": "stdout",
     "output_type": "stream",
     "text": [
      "Epoch:132 -- Phase:val -- Loss:0.41 -- Acc:90.85\n",
      "Epoch:133 -- Phase:train -- Loss:0.02 -- Acc:99.26\n"
     ]
    },
    {
     "name": "stderr",
     "output_type": "stream",
     "text": [
      " 67%|██████▋   | 134/200 [2:01:26<58:31, 53.20s/it]"
     ]
    },
    {
     "name": "stdout",
     "output_type": "stream",
     "text": [
      "Epoch:133 -- Phase:val -- Loss:0.48 -- Acc:90.11\n",
      "Epoch:134 -- Phase:train -- Loss:0.02 -- Acc:99.45\n"
     ]
    },
    {
     "name": "stderr",
     "output_type": "stream",
     "text": [
      " 68%|██████▊   | 135/200 [2:02:19<57:39, 53.22s/it]"
     ]
    },
    {
     "name": "stdout",
     "output_type": "stream",
     "text": [
      "Epoch:134 -- Phase:val -- Loss:0.44 -- Acc:90.47\n",
      "Epoch:135 -- Phase:train -- Loss:0.02 -- Acc:99.27\n"
     ]
    },
    {
     "name": "stderr",
     "output_type": "stream",
     "text": [
      " 68%|██████▊   | 136/200 [2:03:13<56:45, 53.21s/it]"
     ]
    },
    {
     "name": "stdout",
     "output_type": "stream",
     "text": [
      "Epoch:135 -- Phase:val -- Loss:0.56 -- Acc:88.63\n",
      "Epoch:136 -- Phase:train -- Loss:0.02 -- Acc:99.22\n"
     ]
    },
    {
     "name": "stderr",
     "output_type": "stream",
     "text": [
      " 68%|██████▊   | 137/200 [2:04:06<55:54, 53.24s/it]"
     ]
    },
    {
     "name": "stdout",
     "output_type": "stream",
     "text": [
      "Epoch:136 -- Phase:val -- Loss:0.52 -- Acc:88.54\n",
      "Epoch:137 -- Phase:train -- Loss:0.02 -- Acc:99.28\n"
     ]
    },
    {
     "name": "stderr",
     "output_type": "stream",
     "text": [
      " 69%|██████▉   | 138/200 [2:04:59<55:02, 53.26s/it]"
     ]
    },
    {
     "name": "stdout",
     "output_type": "stream",
     "text": [
      "Epoch:137 -- Phase:val -- Loss:0.49 -- Acc:89.67\n",
      "Epoch:138 -- Phase:train -- Loss:0.02 -- Acc:99.36\n"
     ]
    },
    {
     "name": "stderr",
     "output_type": "stream",
     "text": [
      " 70%|██████▉   | 139/200 [2:05:52<54:06, 53.22s/it]"
     ]
    },
    {
     "name": "stdout",
     "output_type": "stream",
     "text": [
      "Epoch:138 -- Phase:val -- Loss:0.60 -- Acc:88.09\n",
      "Epoch:139 -- Phase:train -- Loss:0.02 -- Acc:99.37\n"
     ]
    },
    {
     "name": "stderr",
     "output_type": "stream",
     "text": [
      " 70%|███████   | 140/200 [2:06:46<53:12, 53.21s/it]"
     ]
    },
    {
     "name": "stdout",
     "output_type": "stream",
     "text": [
      "Epoch:139 -- Phase:val -- Loss:0.43 -- Acc:90.58\n",
      "Epoch:140 -- Phase:train -- Loss:0.02 -- Acc:99.36\n"
     ]
    },
    {
     "name": "stderr",
     "output_type": "stream",
     "text": [
      " 70%|███████   | 141/200 [2:07:39<52:19, 53.22s/it]"
     ]
    },
    {
     "name": "stdout",
     "output_type": "stream",
     "text": [
      "Epoch:140 -- Phase:val -- Loss:0.39 -- Acc:91.25\n",
      "Epoch:141 -- Phase:train -- Loss:0.02 -- Acc:99.27\n"
     ]
    },
    {
     "name": "stderr",
     "output_type": "stream",
     "text": [
      " 71%|███████   | 142/200 [2:08:32<51:27, 53.23s/it]"
     ]
    },
    {
     "name": "stdout",
     "output_type": "stream",
     "text": [
      "Epoch:141 -- Phase:val -- Loss:0.48 -- Acc:89.50\n",
      "Epoch:142 -- Phase:train -- Loss:0.02 -- Acc:99.38\n"
     ]
    },
    {
     "name": "stderr",
     "output_type": "stream",
     "text": [
      " 72%|███████▏  | 143/200 [2:09:25<50:32, 53.20s/it]"
     ]
    },
    {
     "name": "stdout",
     "output_type": "stream",
     "text": [
      "Epoch:142 -- Phase:val -- Loss:0.41 -- Acc:91.05\n",
      "Epoch:143 -- Phase:train -- Loss:0.02 -- Acc:99.40\n"
     ]
    },
    {
     "name": "stderr",
     "output_type": "stream",
     "text": [
      " 72%|███████▏  | 144/200 [2:10:19<49:40, 53.22s/it]"
     ]
    },
    {
     "name": "stdout",
     "output_type": "stream",
     "text": [
      "Epoch:143 -- Phase:val -- Loss:0.44 -- Acc:90.47\n",
      "Epoch:144 -- Phase:train -- Loss:0.02 -- Acc:99.51\n"
     ]
    },
    {
     "name": "stderr",
     "output_type": "stream",
     "text": [
      " 72%|███████▎  | 145/200 [2:11:12<48:45, 53.18s/it]"
     ]
    },
    {
     "name": "stdout",
     "output_type": "stream",
     "text": [
      "Epoch:144 -- Phase:val -- Loss:0.47 -- Acc:89.82\n",
      "Epoch:145 -- Phase:train -- Loss:0.02 -- Acc:99.30\n"
     ]
    },
    {
     "name": "stderr",
     "output_type": "stream",
     "text": [
      " 73%|███████▎  | 146/200 [2:12:05<47:48, 53.13s/it]"
     ]
    },
    {
     "name": "stdout",
     "output_type": "stream",
     "text": [
      "Epoch:145 -- Phase:val -- Loss:0.55 -- Acc:89.09\n",
      "Epoch:146 -- Phase:train -- Loss:0.02 -- Acc:99.19\n"
     ]
    },
    {
     "name": "stderr",
     "output_type": "stream",
     "text": [
      " 74%|███████▎  | 147/200 [2:12:58<46:57, 53.16s/it]"
     ]
    },
    {
     "name": "stdout",
     "output_type": "stream",
     "text": [
      "Epoch:146 -- Phase:val -- Loss:0.42 -- Acc:90.83\n",
      "Epoch:147 -- Phase:train -- Loss:0.02 -- Acc:99.45\n"
     ]
    },
    {
     "name": "stderr",
     "output_type": "stream",
     "text": [
      " 74%|███████▍  | 148/200 [2:13:51<46:03, 53.15s/it]"
     ]
    },
    {
     "name": "stdout",
     "output_type": "stream",
     "text": [
      "Epoch:147 -- Phase:val -- Loss:0.41 -- Acc:90.85\n",
      "Epoch:148 -- Phase:train -- Loss:0.02 -- Acc:99.41\n"
     ]
    },
    {
     "name": "stderr",
     "output_type": "stream",
     "text": [
      " 74%|███████▍  | 149/200 [2:14:44<45:11, 53.18s/it]"
     ]
    },
    {
     "name": "stdout",
     "output_type": "stream",
     "text": [
      "Epoch:148 -- Phase:val -- Loss:0.48 -- Acc:89.32\n",
      "Epoch:149 -- Phase:train -- Loss:0.02 -- Acc:99.24\n"
     ]
    },
    {
     "name": "stderr",
     "output_type": "stream",
     "text": [
      " 75%|███████▌  | 150/200 [2:15:37<44:18, 53.16s/it]"
     ]
    },
    {
     "name": "stdout",
     "output_type": "stream",
     "text": [
      "Epoch:149 -- Phase:val -- Loss:0.56 -- Acc:88.78\n",
      "Epoch:150 -- Phase:train -- Loss:0.02 -- Acc:99.42\n"
     ]
    },
    {
     "name": "stderr",
     "output_type": "stream",
     "text": [
      " 76%|███████▌  | 151/200 [2:16:31<43:25, 53.17s/it]"
     ]
    },
    {
     "name": "stdout",
     "output_type": "stream",
     "text": [
      "Epoch:150 -- Phase:val -- Loss:0.68 -- Acc:87.59\n",
      "Epoch:151 -- Phase:train -- Loss:0.02 -- Acc:99.31\n"
     ]
    },
    {
     "name": "stderr",
     "output_type": "stream",
     "text": [
      " 76%|███████▌  | 152/200 [2:17:24<42:32, 53.17s/it]"
     ]
    },
    {
     "name": "stdout",
     "output_type": "stream",
     "text": [
      "Epoch:151 -- Phase:val -- Loss:0.61 -- Acc:88.52\n",
      "Epoch:152 -- Phase:train -- Loss:0.02 -- Acc:99.30\n"
     ]
    },
    {
     "name": "stderr",
     "output_type": "stream",
     "text": [
      " 76%|███████▋  | 153/200 [2:18:17<41:37, 53.14s/it]"
     ]
    },
    {
     "name": "stdout",
     "output_type": "stream",
     "text": [
      "Epoch:152 -- Phase:val -- Loss:0.45 -- Acc:90.50\n",
      "Epoch:153 -- Phase:train -- Loss:0.02 -- Acc:99.30\n"
     ]
    },
    {
     "name": "stderr",
     "output_type": "stream",
     "text": [
      " 77%|███████▋  | 154/200 [2:19:10<40:43, 53.11s/it]"
     ]
    },
    {
     "name": "stdout",
     "output_type": "stream",
     "text": [
      "Epoch:153 -- Phase:val -- Loss:0.42 -- Acc:90.89\n",
      "Epoch:154 -- Phase:train -- Loss:0.02 -- Acc:99.50\n"
     ]
    },
    {
     "name": "stderr",
     "output_type": "stream",
     "text": [
      " 78%|███████▊  | 155/200 [2:20:03<39:50, 53.12s/it]"
     ]
    },
    {
     "name": "stdout",
     "output_type": "stream",
     "text": [
      "Epoch:154 -- Phase:val -- Loss:0.45 -- Acc:90.50\n",
      "Epoch:155 -- Phase:train -- Loss:0.02 -- Acc:99.35\n"
     ]
    },
    {
     "name": "stderr",
     "output_type": "stream",
     "text": [
      " 78%|███████▊  | 156/200 [2:20:56<38:57, 53.13s/it]"
     ]
    },
    {
     "name": "stdout",
     "output_type": "stream",
     "text": [
      "Epoch:155 -- Phase:val -- Loss:0.49 -- Acc:89.17\n",
      "Epoch:156 -- Phase:train -- Loss:0.02 -- Acc:99.34\n"
     ]
    },
    {
     "name": "stderr",
     "output_type": "stream",
     "text": [
      " 78%|███████▊  | 157/200 [2:21:49<38:03, 53.11s/it]"
     ]
    },
    {
     "name": "stdout",
     "output_type": "stream",
     "text": [
      "Epoch:156 -- Phase:val -- Loss:0.39 -- Acc:90.79\n",
      "Epoch:157 -- Phase:train -- Loss:0.02 -- Acc:99.32\n"
     ]
    },
    {
     "name": "stderr",
     "output_type": "stream",
     "text": [
      " 79%|███████▉  | 158/200 [2:22:42<37:09, 53.09s/it]"
     ]
    },
    {
     "name": "stdout",
     "output_type": "stream",
     "text": [
      "Epoch:157 -- Phase:val -- Loss:0.42 -- Acc:90.79\n",
      "Epoch:158 -- Phase:train -- Loss:0.01 -- Acc:99.57\n"
     ]
    },
    {
     "name": "stderr",
     "output_type": "stream",
     "text": [
      " 80%|███████▉  | 159/200 [2:23:35<36:18, 53.13s/it]"
     ]
    },
    {
     "name": "stdout",
     "output_type": "stream",
     "text": [
      "Epoch:158 -- Phase:val -- Loss:0.38 -- Acc:91.46\n",
      "Epoch:159 -- Phase:train -- Loss:0.02 -- Acc:99.34\n"
     ]
    },
    {
     "name": "stderr",
     "output_type": "stream",
     "text": [
      " 80%|████████  | 160/200 [2:24:29<35:26, 53.16s/it]"
     ]
    },
    {
     "name": "stdout",
     "output_type": "stream",
     "text": [
      "Epoch:159 -- Phase:val -- Loss:0.45 -- Acc:90.27\n",
      "Epoch:160 -- Phase:train -- Loss:0.02 -- Acc:99.52\n"
     ]
    },
    {
     "name": "stderr",
     "output_type": "stream",
     "text": [
      " 80%|████████  | 161/200 [2:25:22<34:33, 53.18s/it]"
     ]
    },
    {
     "name": "stdout",
     "output_type": "stream",
     "text": [
      "Epoch:160 -- Phase:val -- Loss:0.41 -- Acc:90.85\n",
      "Epoch:161 -- Phase:train -- Loss:0.02 -- Acc:99.25\n"
     ]
    },
    {
     "name": "stderr",
     "output_type": "stream",
     "text": [
      " 81%|████████  | 162/200 [2:26:15<33:40, 53.17s/it]"
     ]
    },
    {
     "name": "stdout",
     "output_type": "stream",
     "text": [
      "Epoch:161 -- Phase:val -- Loss:0.44 -- Acc:90.41\n",
      "Epoch:162 -- Phase:train -- Loss:0.02 -- Acc:99.47\n"
     ]
    },
    {
     "name": "stderr",
     "output_type": "stream",
     "text": [
      " 82%|████████▏ | 163/200 [2:27:08<32:46, 53.14s/it]"
     ]
    },
    {
     "name": "stdout",
     "output_type": "stream",
     "text": [
      "Epoch:162 -- Phase:val -- Loss:0.48 -- Acc:90.05\n",
      "Epoch:163 -- Phase:train -- Loss:0.02 -- Acc:99.35\n"
     ]
    },
    {
     "name": "stderr",
     "output_type": "stream",
     "text": [
      " 82%|████████▏ | 164/200 [2:28:01<31:54, 53.17s/it]"
     ]
    },
    {
     "name": "stdout",
     "output_type": "stream",
     "text": [
      "Epoch:163 -- Phase:val -- Loss:0.56 -- Acc:88.83\n",
      "Epoch:164 -- Phase:train -- Loss:0.02 -- Acc:99.34\n"
     ]
    },
    {
     "name": "stderr",
     "output_type": "stream",
     "text": [
      " 82%|████████▎ | 165/200 [2:28:55<31:04, 53.27s/it]"
     ]
    },
    {
     "name": "stdout",
     "output_type": "stream",
     "text": [
      "Epoch:164 -- Phase:val -- Loss:0.43 -- Acc:90.44\n",
      "Epoch:165 -- Phase:train -- Loss:0.02 -- Acc:99.27\n"
     ]
    },
    {
     "name": "stderr",
     "output_type": "stream",
     "text": [
      " 83%|████████▎ | 166/200 [2:29:48<30:11, 53.28s/it]"
     ]
    },
    {
     "name": "stdout",
     "output_type": "stream",
     "text": [
      "Epoch:165 -- Phase:val -- Loss:0.45 -- Acc:90.03\n",
      "Epoch:166 -- Phase:train -- Loss:0.02 -- Acc:99.22\n"
     ]
    },
    {
     "name": "stderr",
     "output_type": "stream",
     "text": [
      " 84%|████████▎ | 167/200 [2:30:41<29:16, 53.22s/it]"
     ]
    },
    {
     "name": "stdout",
     "output_type": "stream",
     "text": [
      "Epoch:166 -- Phase:val -- Loss:0.59 -- Acc:87.58\n",
      "Epoch:167 -- Phase:train -- Loss:0.02 -- Acc:99.53\n"
     ]
    },
    {
     "name": "stderr",
     "output_type": "stream",
     "text": [
      " 84%|████████▍ | 168/200 [2:31:34<28:21, 53.17s/it]"
     ]
    },
    {
     "name": "stdout",
     "output_type": "stream",
     "text": [
      "Epoch:167 -- Phase:val -- Loss:0.37 -- Acc:91.47\n",
      "Epoch:168 -- Phase:train -- Loss:0.01 -- Acc:99.57\n"
     ]
    },
    {
     "name": "stderr",
     "output_type": "stream",
     "text": [
      " 84%|████████▍ | 169/200 [2:32:27<27:28, 53.18s/it]"
     ]
    },
    {
     "name": "stdout",
     "output_type": "stream",
     "text": [
      "Epoch:168 -- Phase:val -- Loss:0.38 -- Acc:91.65\n",
      "Epoch:169 -- Phase:train -- Loss:0.02 -- Acc:99.51\n"
     ]
    },
    {
     "name": "stderr",
     "output_type": "stream",
     "text": [
      " 85%|████████▌ | 170/200 [2:33:21<26:35, 53.20s/it]"
     ]
    },
    {
     "name": "stdout",
     "output_type": "stream",
     "text": [
      "Epoch:169 -- Phase:val -- Loss:0.48 -- Acc:88.88\n",
      "Epoch:170 -- Phase:train -- Loss:0.02 -- Acc:99.46\n"
     ]
    },
    {
     "name": "stderr",
     "output_type": "stream",
     "text": [
      " 86%|████████▌ | 171/200 [2:34:14<25:42, 53.19s/it]"
     ]
    },
    {
     "name": "stdout",
     "output_type": "stream",
     "text": [
      "Epoch:170 -- Phase:val -- Loss:0.50 -- Acc:89.66\n",
      "Epoch:171 -- Phase:train -- Loss:0.02 -- Acc:99.46\n"
     ]
    },
    {
     "name": "stderr",
     "output_type": "stream",
     "text": [
      " 86%|████████▌ | 172/200 [2:35:07<24:49, 53.20s/it]"
     ]
    },
    {
     "name": "stdout",
     "output_type": "stream",
     "text": [
      "Epoch:171 -- Phase:val -- Loss:0.41 -- Acc:91.06\n",
      "Epoch:172 -- Phase:train -- Loss:0.02 -- Acc:99.19\n"
     ]
    },
    {
     "name": "stderr",
     "output_type": "stream",
     "text": [
      " 86%|████████▋ | 173/200 [2:36:00<23:57, 53.23s/it]"
     ]
    },
    {
     "name": "stdout",
     "output_type": "stream",
     "text": [
      "Epoch:172 -- Phase:val -- Loss:1.14 -- Acc:81.79\n",
      "Epoch:173 -- Phase:train -- Loss:0.03 -- Acc:99.19\n"
     ]
    },
    {
     "name": "stderr",
     "output_type": "stream",
     "text": [
      " 87%|████████▋ | 174/200 [2:36:54<23:05, 53.30s/it]"
     ]
    },
    {
     "name": "stdout",
     "output_type": "stream",
     "text": [
      "Epoch:173 -- Phase:val -- Loss:0.51 -- Acc:89.36\n",
      "Epoch:174 -- Phase:train -- Loss:0.02 -- Acc:99.24\n"
     ]
    },
    {
     "name": "stderr",
     "output_type": "stream",
     "text": [
      " 88%|████████▊ | 175/200 [2:37:47<22:11, 53.27s/it]"
     ]
    },
    {
     "name": "stdout",
     "output_type": "stream",
     "text": [
      "Epoch:174 -- Phase:val -- Loss:0.48 -- Acc:89.95\n",
      "Epoch:175 -- Phase:train -- Loss:0.02 -- Acc:99.29\n"
     ]
    },
    {
     "name": "stderr",
     "output_type": "stream",
     "text": [
      " 88%|████████▊ | 176/200 [2:38:40<21:16, 53.19s/it]"
     ]
    },
    {
     "name": "stdout",
     "output_type": "stream",
     "text": [
      "Epoch:175 -- Phase:val -- Loss:0.56 -- Acc:89.02\n",
      "Epoch:176 -- Phase:train -- Loss:0.02 -- Acc:99.44\n"
     ]
    },
    {
     "name": "stderr",
     "output_type": "stream",
     "text": [
      " 88%|████████▊ | 177/200 [2:39:33<20:22, 53.14s/it]"
     ]
    },
    {
     "name": "stdout",
     "output_type": "stream",
     "text": [
      "Epoch:176 -- Phase:val -- Loss:0.45 -- Acc:90.59\n",
      "Epoch:177 -- Phase:train -- Loss:0.02 -- Acc:99.33\n"
     ]
    },
    {
     "name": "stderr",
     "output_type": "stream",
     "text": [
      " 89%|████████▉ | 178/200 [2:40:26<19:28, 53.11s/it]"
     ]
    },
    {
     "name": "stdout",
     "output_type": "stream",
     "text": [
      "Epoch:177 -- Phase:val -- Loss:0.40 -- Acc:90.91\n",
      "Epoch:178 -- Phase:train -- Loss:0.02 -- Acc:99.46\n"
     ]
    },
    {
     "name": "stderr",
     "output_type": "stream",
     "text": [
      " 90%|████████▉ | 179/200 [2:41:19<18:33, 53.04s/it]"
     ]
    },
    {
     "name": "stdout",
     "output_type": "stream",
     "text": [
      "Epoch:178 -- Phase:val -- Loss:0.43 -- Acc:90.52\n",
      "Epoch:179 -- Phase:train -- Loss:0.02 -- Acc:99.51\n"
     ]
    },
    {
     "name": "stderr",
     "output_type": "stream",
     "text": [
      " 90%|█████████ | 180/200 [2:42:12<17:40, 53.01s/it]"
     ]
    },
    {
     "name": "stdout",
     "output_type": "stream",
     "text": [
      "Epoch:179 -- Phase:val -- Loss:0.50 -- Acc:90.09\n",
      "Epoch:180 -- Phase:train -- Loss:0.02 -- Acc:99.38\n"
     ]
    },
    {
     "name": "stderr",
     "output_type": "stream",
     "text": [
      " 90%|█████████ | 181/200 [2:43:05<16:47, 53.02s/it]"
     ]
    },
    {
     "name": "stdout",
     "output_type": "stream",
     "text": [
      "Epoch:180 -- Phase:val -- Loss:0.50 -- Acc:88.98\n",
      "Epoch:181 -- Phase:train -- Loss:0.02 -- Acc:99.22\n"
     ]
    },
    {
     "name": "stderr",
     "output_type": "stream",
     "text": [
      " 91%|█████████ | 182/200 [2:43:58<15:56, 53.13s/it]"
     ]
    },
    {
     "name": "stdout",
     "output_type": "stream",
     "text": [
      "Epoch:181 -- Phase:val -- Loss:0.53 -- Acc:88.65\n",
      "Epoch:182 -- Phase:train -- Loss:0.03 -- Acc:99.14\n"
     ]
    },
    {
     "name": "stderr",
     "output_type": "stream",
     "text": [
      " 92%|█████████▏| 183/200 [2:44:52<15:03, 53.14s/it]"
     ]
    },
    {
     "name": "stdout",
     "output_type": "stream",
     "text": [
      "Epoch:182 -- Phase:val -- Loss:0.42 -- Acc:90.34\n",
      "Epoch:183 -- Phase:train -- Loss:0.02 -- Acc:99.29\n"
     ]
    },
    {
     "name": "stderr",
     "output_type": "stream",
     "text": [
      " 92%|█████████▏| 184/200 [2:45:45<14:10, 53.15s/it]"
     ]
    },
    {
     "name": "stdout",
     "output_type": "stream",
     "text": [
      "Epoch:183 -- Phase:val -- Loss:0.53 -- Acc:88.54\n",
      "Epoch:184 -- Phase:train -- Loss:0.02 -- Acc:99.50\n"
     ]
    },
    {
     "name": "stderr",
     "output_type": "stream",
     "text": [
      " 92%|█████████▎| 185/200 [2:46:38<13:18, 53.24s/it]"
     ]
    },
    {
     "name": "stdout",
     "output_type": "stream",
     "text": [
      "Epoch:184 -- Phase:val -- Loss:0.42 -- Acc:91.18\n",
      "Epoch:185 -- Phase:train -- Loss:0.02 -- Acc:99.43\n"
     ]
    },
    {
     "name": "stderr",
     "output_type": "stream",
     "text": [
      " 93%|█████████▎| 186/200 [2:47:31<12:25, 53.23s/it]"
     ]
    },
    {
     "name": "stdout",
     "output_type": "stream",
     "text": [
      "Epoch:185 -- Phase:val -- Loss:0.49 -- Acc:89.99\n",
      "Epoch:186 -- Phase:train -- Loss:0.02 -- Acc:99.20\n"
     ]
    },
    {
     "name": "stderr",
     "output_type": "stream",
     "text": [
      " 94%|█████████▎| 187/200 [2:48:24<11:31, 53.19s/it]"
     ]
    },
    {
     "name": "stdout",
     "output_type": "stream",
     "text": [
      "Epoch:186 -- Phase:val -- Loss:0.46 -- Acc:89.68\n",
      "Epoch:187 -- Phase:train -- Loss:0.02 -- Acc:99.39\n"
     ]
    },
    {
     "name": "stderr",
     "output_type": "stream",
     "text": [
      " 94%|█████████▍| 188/200 [2:49:18<10:38, 53.19s/it]"
     ]
    },
    {
     "name": "stdout",
     "output_type": "stream",
     "text": [
      "Epoch:187 -- Phase:val -- Loss:0.38 -- Acc:91.54\n",
      "Epoch:188 -- Phase:train -- Loss:0.02 -- Acc:99.49\n"
     ]
    },
    {
     "name": "stderr",
     "output_type": "stream",
     "text": [
      " 94%|█████████▍| 189/200 [2:50:11<09:44, 53.17s/it]"
     ]
    },
    {
     "name": "stdout",
     "output_type": "stream",
     "text": [
      "Epoch:188 -- Phase:val -- Loss:0.36 -- Acc:91.69\n",
      "Epoch:189 -- Phase:train -- Loss:0.02 -- Acc:99.20\n"
     ]
    },
    {
     "name": "stderr",
     "output_type": "stream",
     "text": [
      " 95%|█████████▌| 190/200 [2:51:04<08:51, 53.16s/it]"
     ]
    },
    {
     "name": "stdout",
     "output_type": "stream",
     "text": [
      "Epoch:189 -- Phase:val -- Loss:0.45 -- Acc:89.57\n",
      "Epoch:190 -- Phase:train -- Loss:0.02 -- Acc:99.36\n"
     ]
    },
    {
     "name": "stderr",
     "output_type": "stream",
     "text": [
      " 96%|█████████▌| 191/200 [2:51:57<07:58, 53.14s/it]"
     ]
    },
    {
     "name": "stdout",
     "output_type": "stream",
     "text": [
      "Epoch:190 -- Phase:val -- Loss:0.47 -- Acc:90.11\n",
      "Epoch:191 -- Phase:train -- Loss:0.02 -- Acc:99.47\n"
     ]
    },
    {
     "name": "stderr",
     "output_type": "stream",
     "text": [
      " 96%|█████████▌| 192/200 [2:52:50<07:05, 53.13s/it]"
     ]
    },
    {
     "name": "stdout",
     "output_type": "stream",
     "text": [
      "Epoch:191 -- Phase:val -- Loss:0.47 -- Acc:89.59\n",
      "Epoch:192 -- Phase:train -- Loss:0.02 -- Acc:99.52\n"
     ]
    },
    {
     "name": "stderr",
     "output_type": "stream",
     "text": [
      " 96%|█████████▋| 193/200 [2:53:43<06:11, 53.12s/it]"
     ]
    },
    {
     "name": "stdout",
     "output_type": "stream",
     "text": [
      "Epoch:192 -- Phase:val -- Loss:0.41 -- Acc:91.14\n",
      "Epoch:193 -- Phase:train -- Loss:0.02 -- Acc:99.37\n"
     ]
    },
    {
     "name": "stderr",
     "output_type": "stream",
     "text": [
      " 97%|█████████▋| 194/200 [2:54:36<05:18, 53.11s/it]"
     ]
    },
    {
     "name": "stdout",
     "output_type": "stream",
     "text": [
      "Epoch:193 -- Phase:val -- Loss:0.39 -- Acc:91.16\n",
      "Epoch:194 -- Phase:train -- Loss:0.02 -- Acc:99.42\n"
     ]
    },
    {
     "name": "stderr",
     "output_type": "stream",
     "text": [
      " 98%|█████████▊| 195/200 [2:55:29<04:25, 53.14s/it]"
     ]
    },
    {
     "name": "stdout",
     "output_type": "stream",
     "text": [
      "Epoch:194 -- Phase:val -- Loss:0.42 -- Acc:90.49\n",
      "Epoch:195 -- Phase:train -- Loss:0.02 -- Acc:99.50\n"
     ]
    },
    {
     "name": "stderr",
     "output_type": "stream",
     "text": [
      " 98%|█████████▊| 196/200 [2:56:23<03:32, 53.16s/it]"
     ]
    },
    {
     "name": "stdout",
     "output_type": "stream",
     "text": [
      "Epoch:195 -- Phase:val -- Loss:0.39 -- Acc:90.90\n",
      "Epoch:196 -- Phase:train -- Loss:0.02 -- Acc:99.48\n"
     ]
    },
    {
     "name": "stderr",
     "output_type": "stream",
     "text": [
      " 98%|█████████▊| 197/200 [2:57:16<02:39, 53.20s/it]"
     ]
    },
    {
     "name": "stdout",
     "output_type": "stream",
     "text": [
      "Epoch:196 -- Phase:val -- Loss:0.54 -- Acc:89.00\n",
      "Epoch:197 -- Phase:train -- Loss:0.02 -- Acc:99.34\n"
     ]
    },
    {
     "name": "stderr",
     "output_type": "stream",
     "text": [
      " 99%|█████████▉| 198/200 [2:58:09<01:46, 53.25s/it]"
     ]
    },
    {
     "name": "stdout",
     "output_type": "stream",
     "text": [
      "Epoch:197 -- Phase:val -- Loss:0.41 -- Acc:90.84\n",
      "Epoch:198 -- Phase:train -- Loss:0.02 -- Acc:99.32\n"
     ]
    },
    {
     "name": "stderr",
     "output_type": "stream",
     "text": [
      "100%|█████████▉| 199/200 [2:59:03<00:53, 53.22s/it]"
     ]
    },
    {
     "name": "stdout",
     "output_type": "stream",
     "text": [
      "Epoch:198 -- Phase:val -- Loss:0.60 -- Acc:87.49\n",
      "Epoch:199 -- Phase:train -- Loss:0.03 -- Acc:99.10\n"
     ]
    },
    {
     "name": "stderr",
     "output_type": "stream",
     "text": [
      "100%|██████████| 200/200 [2:59:56<00:00, 53.98s/it]"
     ]
    },
    {
     "name": "stdout",
     "output_type": "stream",
     "text": [
      "Epoch:199 -- Phase:val -- Loss:0.51 -- Acc:88.98\n"
     ]
    },
    {
     "name": "stderr",
     "output_type": "stream",
     "text": [
      "\n"
     ]
    }
   ],
   "source": [
    "for epoch in tqdm(range(200)):\n",
    "    # Each epoch has a training and validation phase\n",
    "    for phase in ['train', 'val']:\n",
    "        if phase == 'train':\n",
    "            model.train()  # Set model to training mode\n",
    "        else:\n",
    "            model.eval()   # Set model to evaluate mode\n",
    "\n",
    "        current_loss = 0.0\n",
    "        current_corrects = 0\n",
    "\n",
    "        for batch_idx, (inputs, labels) in enumerate(dataloaders[phase], 1):\n",
    "            inputs,labels = inputs.to(device), labels.to(device)\n",
    "            optimizer.zero_grad()\n",
    "\n",
    "            # Time to carry out the forward training poss\n",
    "            with torch.set_grad_enabled(phase == 'train'):\n",
    "                outputs = model(inputs)\n",
    "                _, preds = torch.max(outputs, 1)\n",
    "                loss = LossFunc(outputs, labels)\n",
    "\n",
    "                # backward + optimize only if in training phase\n",
    "                if phase == 'train':\n",
    "                    loss.backward()\n",
    "                    optimizer.step()\n",
    "\n",
    "            # We want variables to hold the loss/acc statistics\n",
    "            current_loss += loss.item() * inputs.size(0)\n",
    "            current_corrects += torch.sum(preds == labels.data)\n",
    "        # saving variable for plottin\n",
    "        save_loss[phase] += [current_loss / len(dataloaders[phase].dataset)]\n",
    "        save_acc[phase] += [current_corrects.float() / len(dataloaders[phase].dataset)]\n",
    "        print(f\"Epoch:{epoch} -- Phase:{phase} -- Loss:{save_loss[phase][-1]:.2f} -- Acc:{save_acc[phase][-1]*100:.2f}\")\n"
   ]
  },
  {
   "cell_type": "code",
   "execution_count": 9,
   "metadata": {},
   "outputs": [
    {
     "data": {
      "text/plain": [
       "Text(0.5, 1.0, 'Accuracy')"
      ]
     },
     "execution_count": 9,
     "metadata": {},
     "output_type": "execute_result"
    },
    {
     "data": {
      "image/png": "[encoded data removed]",
      "text/plain": [
       "<Figure size 432x288 with 1 Axes>"
      ]
     },
     "metadata": {
      "needs_background": "light"
     },
     "output_type": "display_data"
    }
   ],
   "source": [
    "plt.plot(save_acc['train'])\n",
    "plt.plot(save_acc['val'])\n",
    "plt.legend([\"train\", \"val\"])\n",
    "plt.title(\"Accuracy\")\n"
   ]
  },
  {
   "cell_type": "code",
   "execution_count": 10,
   "metadata": {},
   "outputs": [
    {
     "name": "stdout",
     "output_type": "stream",
     "text": [
      "tensor(0.9169, device='cuda:0') 0.36108125419430437\n"
     ]
    }
   ],
   "source": [
    "print(max(save_acc['val']),min(save_loss['val']))"
   ]
  },
  {
   "cell_type": "code",
   "execution_count": 11,
   "metadata": {},
   "outputs": [
    {
     "data": {
      "text/plain": [
       "Text(0.5, 1.0, 'Loss')"
      ]
     },
     "execution_count": 11,
     "metadata": {},
     "output_type": "execute_result"
    },
    {
     "data": {
      "image/png": "[encoded data removed]",
      "text/plain": [
       "<Figure size 432x288 with 1 Axes>"
      ]
     },
     "metadata": {
      "needs_background": "light"
     },
     "output_type": "display_data"
    }
   ],
   "source": [
    "plt.plot(save_loss['train'])\n",
    "plt.plot(save_loss['val'])\n",
    "plt.legend([\"train\", \"val\"])\n",
    "plt.title(\"Loss\")"
   ]
  },
  {
   "cell_type": "code",
   "execution_count": 12,
   "metadata": {},
   "outputs": [],
   "source": [
    "# save resnet model\n",
    "PATH = './project1_model.pt'\n",
    "torch.save(model.state_dict(), PATH)"
   ]
  },
  {
   "cell_type": "code",
   "execution_count": null,
   "metadata": {},
   "outputs": [],
   "source": []
  }
 ],
 "metadata": {
  "kernelspec": {
   "display_name": "Python 3",
   "language": "python",
   "name": "python3"
  },
  "language_info": {
   "codemirror_mode": {
    "name": "ipython",
    "version": 3
   },
   "file_extension": ".py",
   "mimetype": "text/x-python",
   "name": "python",
   "nbconvert_exporter": "python",
   "pygments_lexer": "ipython3",
   "version": "3.8.6"
  }
 },
 "nbformat": 4,
 "nbformat_minor": 4
}
