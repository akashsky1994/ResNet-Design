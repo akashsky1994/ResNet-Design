{
 "cells": [
  {
   "cell_type": "code",
   "execution_count": 1,
   "metadata": {
    "gradient": {
     "editing": false,
     "id": "44fe1094-620b-4e2f-8435-b0c6ef312e0e",
     "kernelId": "3ef28027-d2b7-4830-8fe4-836029ef52bd",
     "source_hidden": false
    }
   },
   "outputs": [],
   "source": [
    "# !pip install optuna\n",
    "# !pip install torchsummary"
   ]
  },
  {
   "cell_type": "code",
   "execution_count": 1,
   "metadata": {
    "gradient": {
     "editing": false,
     "id": "8aad48e3-05ea-4dd4-990a-6a663f72cc72",
     "kernelId": "3ef28027-d2b7-4830-8fe4-836029ef52bd"
    }
   },
   "outputs": [],
   "source": [
    "# Importing relevant packages\n",
    "import torch\n",
    "import torch.nn as nn\n",
    "import torch.nn.functional as F\n",
    "from torchvision import datasets, models, transforms\n",
    "import matplotlib.pyplot as plt\n",
    "import optuna\n",
    "\n",
    "from project1_model_optuna import ResNet, BasicBlock\n"
   ]
  },
  {
   "cell_type": "code",
   "execution_count": 2,
   "metadata": {
    "gradient": {
     "editing": false,
     "id": "8d648120-556f-4243-8720-016a4c3bc63f",
     "kernelId": "3ef28027-d2b7-4830-8fe4-836029ef52bd",
     "source_hidden": false
    }
   },
   "outputs": [],
   "source": [
    "# fetching device\n",
    "device = torch.device(\"cuda\" if torch.cuda.is_available() else \"cpu\")\n",
    "\n",
    "# worker and batch size init\n",
    "num_workers = 10\n",
    "batch_size = 128\n",
    "pin_memory = True"
   ]
  },
  {
   "cell_type": "code",
   "execution_count": 3,
   "metadata": {
    "gradient": {
     "editing": false,
     "id": "3e5a41c8-2002-4d77-bb1c-412cb29c5e01",
     "kernelId": "3ef28027-d2b7-4830-8fe4-836029ef52bd",
     "source_hidden": false
    }
   },
   "outputs": [
    {
     "name": "stdout",
     "output_type": "stream",
     "text": [
      "Files already downloaded and verified\n",
      "Files already downloaded and verified\n"
     ]
    }
   ],
   "source": [
    "data_transforms = {\n",
    "    'train': transforms.Compose([\n",
    "        transforms.RandomHorizontalFlip(),\n",
    "        # transforms.RandomVerticalFlip(),\n",
    "        # transforms.RandomPerspective(distortion_scale=0.5, p=0.5, interpolation='bilinear', fill=0),\n",
    "        transforms.RandomRotation(degrees=(90)),\n",
    "        transforms.RandomCrop(32, padding=4),\n",
    "        #transforms.ColorJitter(brightness=0.5, contrast=0.5, saturation=0.5, hue=0.5),\n",
    "        transforms.ToTensor(),\n",
    "        transforms.Normalize([0.4914, 0.4822, 0.4465], [0.2471, 0.2435, 0.2616]),\n",
    "        #transforms.RandomErasing(),\n",
    "\n",
    "    ]),\n",
    "    'val': transforms.Compose([\n",
    "        # transforms.CenterCrop(224),\n",
    "        transforms.ToTensor(),\n",
    "        transforms.Normalize([0.4914, 0.4822, 0.4465], [0.2471, 0.2435, 0.2616])\n",
    "    ]),\n",
    "}\n",
    "\n",
    "\n",
    "dataloaders = {}\n",
    "for phase in ['train','val']:\n",
    "    dataset = datasets.CIFAR10(root='./data', train=(phase=='train'),download=True, transform=data_transforms[phase])\n",
    "    dataloaders[phase] = torch.utils.data.DataLoader(dataset, batch_size=batch_size,shuffle=(phase=='train'), num_workers=num_workers,pin_memory=pin_memory)"
   ]
  },
  {
   "cell_type": "code",
   "execution_count": 4,
   "metadata": {
    "gradient": {
     "editing": false,
     "id": "1a126383-76df-4754-b0c7-8ba4483491db",
     "kernelId": "3ef28027-d2b7-4830-8fe4-836029ef52bd",
     "source_hidden": false
    }
   },
   "outputs": [],
   "source": [
    "save_loss = {'train':[], 'val':[]}\n",
    "save_acc = {'train':[], 'val':[]}"
   ]
  },
  {
   "cell_type": "code",
   "execution_count": 5,
   "metadata": {
    "gradient": {
     "editing": false,
     "id": "daa03820-0d8d-4e6a-bb4e-5a4c94255bb1",
     "kernelId": "3ef28027-d2b7-4830-8fe4-836029ef52bd",
     "source_hidden": false
    }
   },
   "outputs": [],
   "source": [
    "def train_and_evaluate(trial,model,criterion,optimizer,num_epochs=20):\n",
    "    for epoch in range(num_epochs):\n",
    "    # Each epoch has a training and validation phase\n",
    "        for phase in ['train', 'val']:\n",
    "            if phase == 'train':\n",
    "                model.train()  # Set model to training mode\n",
    "            else:\n",
    "                model.eval()   # Set model to evaluate mode\n",
    "\n",
    "            current_loss = 0.0\n",
    "            current_corrects = 0\n",
    "\n",
    "            for batch_idx, (inputs, labels) in enumerate(dataloaders[phase], 1):\n",
    "                inputs,labels = inputs.to(device), labels.to(device)\n",
    "                optimizer.zero_grad()\n",
    "\n",
    "                # Time to carry out the forward training poss\n",
    "                with torch.set_grad_enabled(phase == 'train'):\n",
    "                    outputs = model(inputs)\n",
    "                    _, preds = torch.max(outputs, 1)\n",
    "                    loss = criterion(outputs, labels)\n",
    "\n",
    "                    # backward + optimize only if in training phase\n",
    "                    if phase == 'train':\n",
    "                        loss.backward()\n",
    "                        optimizer.step()\n",
    "\n",
    "                # We want variables to hold the loss/acc statistics\n",
    "                current_loss += loss.item() * inputs.size(0)\n",
    "                current_corrects += torch.sum(preds == labels.data)\n",
    "            # saving variable for plottin\n",
    "            save_loss[phase] += [current_loss / len(dataloaders[phase].dataset)]\n",
    "            save_acc[phase] += [current_corrects.float() / len(dataloaders[phase].dataset)]\n",
    "            # train_loss = train_loss/len(trainloader)\n",
    "            # test_loss = test_loss/len(testloader)\n",
    "            # train_loss_history.append(train_loss)\n",
    "            # test_loss_history.append(test_loss)\n",
    "            # print('Train loss %s, Test loss %s'%(train_loss, test_loss))\n",
    "            # pretty print\n",
    "#             print(f\"Epoch:{epoch} -- Phase:{phase} -- Loss:{save_loss[phase][-1]:.2f} -- Acc:{save_acc[phase][-1]*100:.2f}\")\n",
    "    return max(save_acc['val'])*100\n"
   ]
  },
  {
   "cell_type": "code",
   "execution_count": 6,
   "metadata": {
    "gradient": {
     "editing": false,
     "id": "6b52089e-9133-4872-a3cf-3422aa258dff",
     "kernelId": "3ef28027-d2b7-4830-8fe4-836029ef52bd",
     "source_hidden": false
    }
   },
   "outputs": [],
   "source": [
    "# optuna hyperparameter tuning tool\n",
    "def objective(trial):\n",
    "\n",
    "    params = {\n",
    "              'learning_rate': trial.suggest_loguniform('learning_rate', 1e-2, 1),\n",
    "              'optimizer': trial.suggest_categorical(\"optimizer\", [\"Adam\",\"Adadelta\"]),\n",
    "              'weight_decay': trial.suggest_loguniform('weight_decay', 1e-4, 1e-3),\n",
    "              'kernel_size': trial.suggest_categorical(\"kernel_size\", [3,5]),\n",
    "              'skip_kernel_size': trial.suggest_categorical(\"skip_kernel_size\", [1,3,5])\n",
    "              }\n",
    "    # get model\n",
    "    model = ResNet(BasicBlock, [4,2], 128, params['kernel_size'],params['skip_kernel_size'])\n",
    "    model = model.to(device)\n",
    "    \n",
    "    # Define criterion\n",
    "    criterion = nn.CrossEntropyLoss()\n",
    "    \n",
    "    # Configure optimizer\n",
    "    optimizer = getattr(\n",
    "        torch.optim, params[\"optimizer\"]\n",
    "    )(model.parameters(), lr=params[\"learning_rate\"],weight_decay=params[\"weight_decay\"])\n",
    "\n",
    "    accuracy = train_and_evaluate(trial,model,criterion,optimizer,100)\n",
    "\n",
    "    return accuracy"
   ]
  },
  {
   "cell_type": "code",
   "execution_count": null,
   "metadata": {
    "gradient": {
     "editing": false,
     "id": "2d1d4a08-381c-4598-b4bf-59220e63c65a",
     "kernelId": "3ef28027-d2b7-4830-8fe4-836029ef52bd",
     "source_hidden": false
    }
   },
   "outputs": [
    {
     "name": "stderr",
     "output_type": "stream",
     "text": [
      "\u001b[32m[I 2022-03-24 02:18:43,771]\u001b[0m A new study created in memory with name: no-name-7ab41e59-f96b-4018-b861-ceace9f1c5aa\u001b[0m\n",
      "\u001b[32m[I 2022-03-24 05:36:59,897]\u001b[0m Trial 0 finished with value: 85.74999237060547 and parameters: {'learning_rate': 0.4204055980989263, 'optimizer': 'Adadelta', 'weight_decay': 0.0002027218637632411, 'kernel_size': 5, 'skip_kernel_size': 5}. Best is trial 0 with value: 85.74999237060547.\u001b[0m\n"
     ]
    }
   ],
   "source": [
    "\n",
    "study = optuna.create_study(direction=\"maximize\", sampler=optuna.samplers.TPESampler())\n",
    "study.optimize(objective, n_trials=300)"
   ]
  },
  {
   "cell_type": "code",
   "execution_count": null,
   "metadata": {
    "gradient": {
     "editing": false,
     "id": "1c1e5052-3ca1-4290-b6b7-c2af60cc10c6",
     "kernelId": "3ef28027-d2b7-4830-8fe4-836029ef52bd",
     "source_hidden": false
    }
   },
   "outputs": [],
   "source": [
    "# f, (plt1, plt2) = plt.subplots(1, 2, figsize=(20, 10))\n",
    "# plt1.plot(save_acc['train'])\n",
    "# plt1.plot(save_acc['val'])\n",
    "# plt1.legend([\"train\", \"val\"])\n",
    "# plt1.title(\"Accuracy\")\n",
    "\n",
    "# plt2.plot(save_loss['train'])\n",
    "# plt2.plot(save_loss['val'])\n",
    "# plt2.legend([\"train\", \"val\"])\n",
    "# plt2.title(\"Loss\")"
   ]
  },
  {
   "cell_type": "code",
   "execution_count": 1,
   "metadata": {
    "gradient": {
     "editing": false,
     "id": "9391b0bb-180d-465d-8cf2-ab4bb70c1588",
     "kernelId": "3ef28027-d2b7-4830-8fe4-836029ef52bd",
     "source_hidden": false
    }
   },
   "outputs": [
    {
     "data": {
      "text/plain": [
       "1"
      ]
     },
     "execution_count": 1,
     "metadata": {},
     "output_type": "execute_result"
    }
   ],
   "source": [
    "import torch\n",
    "\n",
    "torch.cuda.device_count()"
   ]
  },
  {
   "cell_type": "code",
   "execution_count": null,
   "metadata": {},
   "outputs": [],
   "source": []
  },
  {
   "cell_type": "code",
   "execution_count": null,
   "metadata": {},
   "outputs": [],
   "source": []
  }
 ],
 "metadata": {
  "kernelspec": {
   "display_name": "Python 3",
   "language": "python",
   "name": "python3"
  },
  "language_info": {
   "codemirror_mode": {
    "name": "ipython",
    "version": 3
   },
   "file_extension": ".py",
   "mimetype": "text/x-python",
   "name": "python",
   "nbconvert_exporter": "python",
   "pygments_lexer": "ipython3",
   "version": "3.8.6"
  }
 },
 "nbformat": 4,
 "nbformat_minor": 5
}
