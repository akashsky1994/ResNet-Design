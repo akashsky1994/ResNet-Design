{
 "cells": [
  {
   "cell_type": "code",
   "execution_count": 1,
   "metadata": {},
   "outputs": [],
   "source": [
    "# !pip install tqdm\n",
    "# # !pip install optuna\n",
    "# !pip install torchsummary"
   ]
  },
  {
   "cell_type": "code",
   "execution_count": 3,
   "metadata": {},
   "outputs": [],
   "source": [
    "# Importing relevant packages\n",
    "import torch\n",
    "import torch.nn as nn\n",
    "import torch.nn.functional as F\n",
    "from torchvision import datasets, models, transforms\n",
    "import matplotlib.pyplot as plt\n",
    "from tqdm import tqdm\n",
    "\n",
    "from project1_model import ResNet, BasicBlock\n"
   ]
  },
  {
   "cell_type": "code",
   "execution_count": 10,
   "metadata": {},
   "outputs": [],
   "source": [
    "# fetching device\n",
    "device = torch.device(\"cuda\" if torch.cuda.is_available() else \"cpu\")\n",
    "\n",
    "# parameters\n",
    "num_workers = 10\n",
    "batch_size = 128\n",
    "learningRate = 0.01\n",
    "weight_decay = 0.0005\n",
    "res_blocks = [2,4,4,2]\n",
    "num_res_layer = len(res_blocks)\n",
    "kernel=(3,1)\n",
    "skip_kernel=(3,1)\n",
    "channels = 32"
   ]
  },
  {
   "cell_type": "markdown",
   "metadata": {},
   "source": [
    "#### Mean and Standard Deviation for Cifar Dataset -\n",
    "\n",
    "Mean: tensor([0.4914, 0.4822, 0.4465])\n",
    "\n",
    "Standard deviation: tensor([0.2471, 0.2435, 0.2616])"
   ]
  },
  {
   "cell_type": "code",
   "execution_count": 11,
   "metadata": {},
   "outputs": [
    {
     "name": "stdout",
     "output_type": "stream",
     "text": [
      "Files already downloaded and verified\n",
      "Files already downloaded and verified\n"
     ]
    }
   ],
   "source": [
    "data_transforms = {\n",
    "    'train': transforms.Compose([\n",
    "        transforms.RandomHorizontalFlip(),\n",
    "        #transforms.RandomRotation(degrees=(90)),\n",
    "        transforms.RandomCrop(32, padding=4),\n",
    "        #transforms.ColorJitter(brightness=0.5, contrast=0.5, saturation=0.5, hue=0.5),\n",
    "        transforms.ToTensor(),\n",
    "        transforms.Normalize([0.4914, 0.4822, 0.4465], [0.2471, 0.2435, 0.2616]),\n",
    "        transforms.RandomErasing(),\n",
    "\n",
    "    ]),\n",
    "    'val': transforms.Compose([\n",
    "        # transforms.CenterCrop(224),\n",
    "        transforms.ToTensor(),\n",
    "        transforms.Normalize([0.4914, 0.4822, 0.4465], [0.2471, 0.2435, 0.2616])\n",
    "    ]),\n",
    "}\n",
    "\n",
    "\n",
    "dataloaders = {}\n",
    "for phase in ['train','val']:\n",
    "    dataset = datasets.CIFAR10(root='./data', train=(phase=='train'),download=True, transform=data_transforms[phase])\n",
    "    dataloaders[phase] = torch.utils.data.DataLoader(dataset, batch_size=batch_size,shuffle=(phase=='train'), num_workers=num_workers)"
   ]
  },
  {
   "cell_type": "code",
   "execution_count": 12,
   "metadata": {},
   "outputs": [],
   "source": [
    "model = ResNet(BasicBlock, channels, num_res_layer, res_blocks,kernel=kernel,skip_kernel=skip_kernel)\n",
    "model = model.to(device)"
   ]
  },
  {
   "cell_type": "code",
   "execution_count": 13,
   "metadata": {},
   "outputs": [],
   "source": [
    "LossFunc = torch.nn.CrossEntropyLoss()\n",
    "\n",
    "optimizer = torch.optim.Adadelta(model.parameters(), lr=learningRate, weight_decay=weight_decay)\n",
    "\n",
    "save_loss = {'train':[], 'val':[]}\n",
    "save_acc = {'train':[], 'val':[]}"
   ]
  },
  {
   "cell_type": "code",
   "execution_count": 14,
   "metadata": {},
   "outputs": [
    {
     "name": "stdout",
     "output_type": "stream",
     "text": [
      "----------------------------------------------------------------\n",
      "        Layer (type)               Output Shape         Param #\n",
      "================================================================\n",
      "            Conv2d-1           [-1, 32, 32, 32]             896\n",
      "       BatchNorm2d-2           [-1, 32, 32, 32]              64\n",
      "            Conv2d-3           [-1, 32, 32, 32]           9,248\n",
      "       BatchNorm2d-4           [-1, 32, 32, 32]              64\n",
      "            Conv2d-5           [-1, 32, 32, 32]           9,248\n",
      "       BatchNorm2d-6           [-1, 32, 32, 32]              64\n",
      "        BasicBlock-7           [-1, 32, 32, 32]               0\n",
      "            Conv2d-8           [-1, 32, 32, 32]           9,248\n",
      "       BatchNorm2d-9           [-1, 32, 32, 32]              64\n",
      "           Conv2d-10           [-1, 32, 32, 32]           9,248\n",
      "      BatchNorm2d-11           [-1, 32, 32, 32]              64\n",
      "       BasicBlock-12           [-1, 32, 32, 32]               0\n",
      "           Conv2d-13           [-1, 64, 16, 16]          18,496\n",
      "      BatchNorm2d-14           [-1, 64, 16, 16]             128\n",
      "           Conv2d-15           [-1, 64, 16, 16]          36,928\n",
      "      BatchNorm2d-16           [-1, 64, 16, 16]             128\n",
      "           Conv2d-17           [-1, 64, 16, 16]          18,496\n",
      "      BatchNorm2d-18           [-1, 64, 16, 16]             128\n",
      "       BasicBlock-19           [-1, 64, 16, 16]               0\n",
      "           Conv2d-20           [-1, 64, 16, 16]          36,928\n",
      "      BatchNorm2d-21           [-1, 64, 16, 16]             128\n",
      "           Conv2d-22           [-1, 64, 16, 16]          36,928\n",
      "      BatchNorm2d-23           [-1, 64, 16, 16]             128\n",
      "       BasicBlock-24           [-1, 64, 16, 16]               0\n",
      "           Conv2d-25           [-1, 64, 16, 16]          36,928\n",
      "      BatchNorm2d-26           [-1, 64, 16, 16]             128\n",
      "           Conv2d-27           [-1, 64, 16, 16]          36,928\n",
      "      BatchNorm2d-28           [-1, 64, 16, 16]             128\n",
      "       BasicBlock-29           [-1, 64, 16, 16]               0\n",
      "           Conv2d-30           [-1, 64, 16, 16]          36,928\n",
      "      BatchNorm2d-31           [-1, 64, 16, 16]             128\n",
      "           Conv2d-32           [-1, 64, 16, 16]          36,928\n",
      "      BatchNorm2d-33           [-1, 64, 16, 16]             128\n",
      "       BasicBlock-34           [-1, 64, 16, 16]               0\n",
      "           Conv2d-35            [-1, 128, 8, 8]          73,856\n",
      "      BatchNorm2d-36            [-1, 128, 8, 8]             256\n",
      "           Conv2d-37            [-1, 128, 8, 8]         147,584\n",
      "      BatchNorm2d-38            [-1, 128, 8, 8]             256\n",
      "           Conv2d-39            [-1, 128, 8, 8]          73,856\n",
      "      BatchNorm2d-40            [-1, 128, 8, 8]             256\n",
      "       BasicBlock-41            [-1, 128, 8, 8]               0\n",
      "           Conv2d-42            [-1, 128, 8, 8]         147,584\n",
      "      BatchNorm2d-43            [-1, 128, 8, 8]             256\n",
      "           Conv2d-44            [-1, 128, 8, 8]         147,584\n",
      "      BatchNorm2d-45            [-1, 128, 8, 8]             256\n",
      "       BasicBlock-46            [-1, 128, 8, 8]               0\n",
      "           Conv2d-47            [-1, 128, 8, 8]         147,584\n",
      "      BatchNorm2d-48            [-1, 128, 8, 8]             256\n",
      "           Conv2d-49            [-1, 128, 8, 8]         147,584\n",
      "      BatchNorm2d-50            [-1, 128, 8, 8]             256\n",
      "       BasicBlock-51            [-1, 128, 8, 8]               0\n",
      "           Conv2d-52            [-1, 128, 8, 8]         147,584\n",
      "      BatchNorm2d-53            [-1, 128, 8, 8]             256\n",
      "           Conv2d-54            [-1, 128, 8, 8]         147,584\n",
      "      BatchNorm2d-55            [-1, 128, 8, 8]             256\n",
      "       BasicBlock-56            [-1, 128, 8, 8]               0\n",
      "           Conv2d-57            [-1, 256, 4, 4]         295,168\n",
      "      BatchNorm2d-58            [-1, 256, 4, 4]             512\n",
      "           Conv2d-59            [-1, 256, 4, 4]         590,080\n",
      "      BatchNorm2d-60            [-1, 256, 4, 4]             512\n",
      "           Conv2d-61            [-1, 256, 4, 4]         295,168\n",
      "      BatchNorm2d-62            [-1, 256, 4, 4]             512\n",
      "       BasicBlock-63            [-1, 256, 4, 4]               0\n",
      "           Conv2d-64            [-1, 256, 4, 4]         590,080\n",
      "      BatchNorm2d-65            [-1, 256, 4, 4]             512\n",
      "           Conv2d-66            [-1, 256, 4, 4]         590,080\n",
      "      BatchNorm2d-67            [-1, 256, 4, 4]             512\n",
      "       BasicBlock-68            [-1, 256, 4, 4]               0\n",
      "           Linear-69                   [-1, 10]           2,570\n",
      "================================================================\n",
      "Total params: 3,883,658\n",
      "Trainable params: 3,883,658\n",
      "Non-trainable params: 0\n",
      "----------------------------------------------------------------\n",
      "Input size (MB): 0.01\n",
      "Forward/backward pass size (MB): 7.50\n",
      "Params size (MB): 14.81\n",
      "Estimated Total Size (MB): 22.33\n",
      "----------------------------------------------------------------\n",
      "None\n"
     ]
    }
   ],
   "source": [
    "from torchsummary import summary\n",
    "print(summary(model, input_size=(3, 32, 32)))"
   ]
  },
  {
   "cell_type": "code",
   "execution_count": 15,
   "metadata": {},
   "outputs": [
    {
     "name": "stderr",
     "output_type": "stream",
     "text": [
      "  0%|          | 0/200 [00:00<?, ?it/s]"
     ]
    },
    {
     "name": "stdout",
     "output_type": "stream",
     "text": [
      "Epoch:0 -- Phase:train -- Loss:1.89 -- Acc:29.52\n"
     ]
    },
    {
     "name": "stderr",
     "output_type": "stream",
     "text": [
      "  0%|          | 1/200 [00:20<1:09:13, 20.87s/it]"
     ]
    },
    {
     "name": "stdout",
     "output_type": "stream",
     "text": [
      "Epoch:0 -- Phase:val -- Loss:1.59 -- Acc:40.90\n",
      "Epoch:1 -- Phase:train -- Loss:1.57 -- Acc:41.97\n"
     ]
    },
    {
     "name": "stderr",
     "output_type": "stream",
     "text": [
      "  1%|          | 2/200 [00:41<1:08:44, 20.83s/it]"
     ]
    },
    {
     "name": "stdout",
     "output_type": "stream",
     "text": [
      "Epoch:1 -- Phase:val -- Loss:1.47 -- Acc:45.66\n",
      "Epoch:2 -- Phase:train -- Loss:1.45 -- Acc:46.91\n"
     ]
    },
    {
     "name": "stderr",
     "output_type": "stream",
     "text": [
      "  2%|▏         | 3/200 [01:02<1:08:25, 20.84s/it]"
     ]
    },
    {
     "name": "stdout",
     "output_type": "stream",
     "text": [
      "Epoch:2 -- Phase:val -- Loss:1.32 -- Acc:52.27\n",
      "Epoch:3 -- Phase:train -- Loss:1.36 -- Acc:50.33\n"
     ]
    },
    {
     "name": "stderr",
     "output_type": "stream",
     "text": [
      "  2%|▏         | 4/200 [01:23<1:08:07, 20.85s/it]"
     ]
    },
    {
     "name": "stdout",
     "output_type": "stream",
     "text": [
      "Epoch:3 -- Phase:val -- Loss:1.24 -- Acc:54.89\n",
      "Epoch:4 -- Phase:train -- Loss:1.29 -- Acc:53.28\n"
     ]
    },
    {
     "name": "stderr",
     "output_type": "stream",
     "text": [
      "  2%|▎         | 5/200 [01:44<1:07:39, 20.82s/it]"
     ]
    },
    {
     "name": "stdout",
     "output_type": "stream",
     "text": [
      "Epoch:4 -- Phase:val -- Loss:1.21 -- Acc:56.66\n",
      "Epoch:5 -- Phase:train -- Loss:1.23 -- Acc:55.43\n"
     ]
    },
    {
     "name": "stderr",
     "output_type": "stream",
     "text": [
      "  3%|▎         | 6/200 [02:04<1:07:17, 20.81s/it]"
     ]
    },
    {
     "name": "stdout",
     "output_type": "stream",
     "text": [
      "Epoch:5 -- Phase:val -- Loss:1.22 -- Acc:56.77\n",
      "Epoch:6 -- Phase:train -- Loss:1.18 -- Acc:57.40\n"
     ]
    },
    {
     "name": "stderr",
     "output_type": "stream",
     "text": [
      "  4%|▎         | 7/200 [02:25<1:06:56, 20.81s/it]"
     ]
    },
    {
     "name": "stdout",
     "output_type": "stream",
     "text": [
      "Epoch:6 -- Phase:val -- Loss:1.12 -- Acc:60.53\n",
      "Epoch:7 -- Phase:train -- Loss:1.13 -- Acc:59.60\n"
     ]
    },
    {
     "name": "stderr",
     "output_type": "stream",
     "text": [
      "  4%|▍         | 8/200 [02:46<1:06:34, 20.81s/it]"
     ]
    },
    {
     "name": "stdout",
     "output_type": "stream",
     "text": [
      "Epoch:7 -- Phase:val -- Loss:1.08 -- Acc:61.22\n",
      "Epoch:8 -- Phase:train -- Loss:1.09 -- Acc:60.81\n"
     ]
    },
    {
     "name": "stderr",
     "output_type": "stream",
     "text": [
      "  4%|▍         | 9/200 [03:07<1:06:14, 20.81s/it]"
     ]
    },
    {
     "name": "stdout",
     "output_type": "stream",
     "text": [
      "Epoch:8 -- Phase:val -- Loss:1.02 -- Acc:63.73\n",
      "Epoch:9 -- Phase:train -- Loss:1.05 -- Acc:62.42\n"
     ]
    },
    {
     "name": "stderr",
     "output_type": "stream",
     "text": [
      "  5%|▌         | 10/200 [03:28<1:05:52, 20.80s/it]"
     ]
    },
    {
     "name": "stdout",
     "output_type": "stream",
     "text": [
      "Epoch:9 -- Phase:val -- Loss:0.97 -- Acc:65.73\n",
      "Epoch:10 -- Phase:train -- Loss:1.02 -- Acc:63.54\n"
     ]
    },
    {
     "name": "stderr",
     "output_type": "stream",
     "text": [
      "  6%|▌         | 11/200 [03:48<1:05:32, 20.81s/it]"
     ]
    },
    {
     "name": "stdout",
     "output_type": "stream",
     "text": [
      "Epoch:10 -- Phase:val -- Loss:0.96 -- Acc:66.58\n",
      "Epoch:11 -- Phase:train -- Loss:0.99 -- Acc:65.11\n"
     ]
    },
    {
     "name": "stderr",
     "output_type": "stream",
     "text": [
      "  6%|▌         | 12/200 [04:09<1:05:09, 20.80s/it]"
     ]
    },
    {
     "name": "stdout",
     "output_type": "stream",
     "text": [
      "Epoch:11 -- Phase:val -- Loss:0.92 -- Acc:67.26\n",
      "Epoch:12 -- Phase:train -- Loss:0.95 -- Acc:66.28\n"
     ]
    },
    {
     "name": "stderr",
     "output_type": "stream",
     "text": [
      "  6%|▋         | 13/200 [04:30<1:04:49, 20.80s/it]"
     ]
    },
    {
     "name": "stdout",
     "output_type": "stream",
     "text": [
      "Epoch:12 -- Phase:val -- Loss:0.91 -- Acc:67.73\n",
      "Epoch:13 -- Phase:train -- Loss:0.93 -- Acc:67.00\n"
     ]
    },
    {
     "name": "stderr",
     "output_type": "stream",
     "text": [
      "  7%|▋         | 14/200 [04:51<1:04:28, 20.80s/it]"
     ]
    },
    {
     "name": "stdout",
     "output_type": "stream",
     "text": [
      "Epoch:13 -- Phase:val -- Loss:0.87 -- Acc:69.30\n",
      "Epoch:14 -- Phase:train -- Loss:0.90 -- Acc:67.98\n"
     ]
    },
    {
     "name": "stderr",
     "output_type": "stream",
     "text": [
      "  8%|▊         | 15/200 [05:12<1:04:10, 20.81s/it]"
     ]
    },
    {
     "name": "stdout",
     "output_type": "stream",
     "text": [
      "Epoch:14 -- Phase:val -- Loss:0.81 -- Acc:71.70\n",
      "Epoch:15 -- Phase:train -- Loss:0.86 -- Acc:69.34\n"
     ]
    },
    {
     "name": "stderr",
     "output_type": "stream",
     "text": [
      "  8%|▊         | 16/200 [05:33<1:03:52, 20.83s/it]"
     ]
    },
    {
     "name": "stdout",
     "output_type": "stream",
     "text": [
      "Epoch:15 -- Phase:val -- Loss:0.79 -- Acc:72.85\n",
      "Epoch:16 -- Phase:train -- Loss:0.85 -- Acc:70.14\n"
     ]
    },
    {
     "name": "stderr",
     "output_type": "stream",
     "text": [
      "  8%|▊         | 17/200 [05:53<1:03:26, 20.80s/it]"
     ]
    },
    {
     "name": "stdout",
     "output_type": "stream",
     "text": [
      "Epoch:16 -- Phase:val -- Loss:0.80 -- Acc:72.13\n",
      "Epoch:17 -- Phase:train -- Loss:0.82 -- Acc:70.85\n"
     ]
    },
    {
     "name": "stderr",
     "output_type": "stream",
     "text": [
      "  9%|▉         | 18/200 [06:14<1:03:06, 20.81s/it]"
     ]
    },
    {
     "name": "stdout",
     "output_type": "stream",
     "text": [
      "Epoch:17 -- Phase:val -- Loss:0.79 -- Acc:72.06\n",
      "Epoch:18 -- Phase:train -- Loss:0.80 -- Acc:71.70\n"
     ]
    },
    {
     "name": "stderr",
     "output_type": "stream",
     "text": [
      " 10%|▉         | 19/200 [06:35<1:02:44, 20.80s/it]"
     ]
    },
    {
     "name": "stdout",
     "output_type": "stream",
     "text": [
      "Epoch:18 -- Phase:val -- Loss:0.79 -- Acc:72.90\n",
      "Epoch:19 -- Phase:train -- Loss:0.78 -- Acc:72.63\n"
     ]
    },
    {
     "name": "stderr",
     "output_type": "stream",
     "text": [
      " 10%|█         | 20/200 [06:56<1:02:23, 20.80s/it]"
     ]
    },
    {
     "name": "stdout",
     "output_type": "stream",
     "text": [
      "Epoch:19 -- Phase:val -- Loss:0.71 -- Acc:75.38\n",
      "Epoch:20 -- Phase:train -- Loss:0.76 -- Acc:73.41\n"
     ]
    },
    {
     "name": "stderr",
     "output_type": "stream",
     "text": [
      " 10%|█         | 21/200 [07:16<1:02:00, 20.79s/it]"
     ]
    },
    {
     "name": "stdout",
     "output_type": "stream",
     "text": [
      "Epoch:20 -- Phase:val -- Loss:0.74 -- Acc:74.21\n",
      "Epoch:21 -- Phase:train -- Loss:0.73 -- Acc:74.16\n"
     ]
    },
    {
     "name": "stderr",
     "output_type": "stream",
     "text": [
      " 11%|█         | 22/200 [07:37<1:01:40, 20.79s/it]"
     ]
    },
    {
     "name": "stdout",
     "output_type": "stream",
     "text": [
      "Epoch:21 -- Phase:val -- Loss:0.70 -- Acc:76.00\n",
      "Epoch:22 -- Phase:train -- Loss:0.72 -- Acc:74.55\n"
     ]
    },
    {
     "name": "stderr",
     "output_type": "stream",
     "text": [
      " 12%|█▏        | 23/200 [07:58<1:01:18, 20.78s/it]"
     ]
    },
    {
     "name": "stdout",
     "output_type": "stream",
     "text": [
      "Epoch:22 -- Phase:val -- Loss:0.71 -- Acc:75.96\n",
      "Epoch:23 -- Phase:train -- Loss:0.70 -- Acc:75.52\n"
     ]
    },
    {
     "name": "stderr",
     "output_type": "stream",
     "text": [
      " 12%|█▏        | 24/200 [08:19<1:00:57, 20.78s/it]"
     ]
    },
    {
     "name": "stdout",
     "output_type": "stream",
     "text": [
      "Epoch:23 -- Phase:val -- Loss:0.67 -- Acc:76.87\n",
      "Epoch:24 -- Phase:train -- Loss:0.69 -- Acc:75.79\n"
     ]
    },
    {
     "name": "stderr",
     "output_type": "stream",
     "text": [
      " 12%|█▎        | 25/200 [08:40<1:00:35, 20.77s/it]"
     ]
    },
    {
     "name": "stdout",
     "output_type": "stream",
     "text": [
      "Epoch:24 -- Phase:val -- Loss:0.69 -- Acc:76.55\n",
      "Epoch:25 -- Phase:train -- Loss:0.67 -- Acc:76.24\n"
     ]
    },
    {
     "name": "stderr",
     "output_type": "stream",
     "text": [
      " 13%|█▎        | 26/200 [09:00<1:00:17, 20.79s/it]"
     ]
    },
    {
     "name": "stdout",
     "output_type": "stream",
     "text": [
      "Epoch:25 -- Phase:val -- Loss:0.64 -- Acc:77.96\n",
      "Epoch:26 -- Phase:train -- Loss:0.66 -- Acc:76.60\n"
     ]
    },
    {
     "name": "stderr",
     "output_type": "stream",
     "text": [
      " 14%|█▎        | 27/200 [09:21<59:56, 20.79s/it]  "
     ]
    },
    {
     "name": "stdout",
     "output_type": "stream",
     "text": [
      "Epoch:26 -- Phase:val -- Loss:0.64 -- Acc:78.27\n",
      "Epoch:27 -- Phase:train -- Loss:0.65 -- Acc:77.33\n"
     ]
    },
    {
     "name": "stderr",
     "output_type": "stream",
     "text": [
      " 14%|█▍        | 28/200 [09:42<59:37, 20.80s/it]"
     ]
    },
    {
     "name": "stdout",
     "output_type": "stream",
     "text": [
      "Epoch:27 -- Phase:val -- Loss:0.62 -- Acc:78.81\n",
      "Epoch:28 -- Phase:train -- Loss:0.63 -- Acc:77.72\n"
     ]
    },
    {
     "name": "stderr",
     "output_type": "stream",
     "text": [
      " 14%|█▍        | 29/200 [10:03<59:07, 20.75s/it]"
     ]
    },
    {
     "name": "stdout",
     "output_type": "stream",
     "text": [
      "Epoch:28 -- Phase:val -- Loss:0.64 -- Acc:78.45\n",
      "Epoch:29 -- Phase:train -- Loss:0.62 -- Acc:77.99\n"
     ]
    },
    {
     "name": "stderr",
     "output_type": "stream",
     "text": [
      " 15%|█▌        | 30/200 [10:23<58:47, 20.75s/it]"
     ]
    },
    {
     "name": "stdout",
     "output_type": "stream",
     "text": [
      "Epoch:29 -- Phase:val -- Loss:0.61 -- Acc:79.32\n",
      "Epoch:30 -- Phase:train -- Loss:0.61 -- Acc:78.81\n"
     ]
    },
    {
     "name": "stderr",
     "output_type": "stream",
     "text": [
      " 16%|█▌        | 31/200 [10:44<58:27, 20.76s/it]"
     ]
    },
    {
     "name": "stdout",
     "output_type": "stream",
     "text": [
      "Epoch:30 -- Phase:val -- Loss:0.61 -- Acc:79.18\n",
      "Epoch:31 -- Phase:train -- Loss:0.60 -- Acc:79.00\n"
     ]
    },
    {
     "name": "stderr",
     "output_type": "stream",
     "text": [
      " 16%|█▌        | 32/200 [11:05<58:02, 20.73s/it]"
     ]
    },
    {
     "name": "stdout",
     "output_type": "stream",
     "text": [
      "Epoch:31 -- Phase:val -- Loss:0.64 -- Acc:78.72\n",
      "Epoch:32 -- Phase:train -- Loss:0.59 -- Acc:79.42\n"
     ]
    },
    {
     "name": "stderr",
     "output_type": "stream",
     "text": [
      " 16%|█▋        | 33/200 [11:26<57:43, 20.74s/it]"
     ]
    },
    {
     "name": "stdout",
     "output_type": "stream",
     "text": [
      "Epoch:32 -- Phase:val -- Loss:0.62 -- Acc:79.49\n",
      "Epoch:33 -- Phase:train -- Loss:0.58 -- Acc:79.84\n"
     ]
    },
    {
     "name": "stderr",
     "output_type": "stream",
     "text": [
      " 17%|█▋        | 34/200 [11:46<57:25, 20.76s/it]"
     ]
    },
    {
     "name": "stdout",
     "output_type": "stream",
     "text": [
      "Epoch:33 -- Phase:val -- Loss:0.66 -- Acc:78.08\n",
      "Epoch:34 -- Phase:train -- Loss:0.57 -- Acc:79.93\n"
     ]
    },
    {
     "name": "stderr",
     "output_type": "stream",
     "text": [
      " 18%|█▊        | 35/200 [12:07<57:07, 20.77s/it]"
     ]
    },
    {
     "name": "stdout",
     "output_type": "stream",
     "text": [
      "Epoch:34 -- Phase:val -- Loss:0.59 -- Acc:80.23\n",
      "Epoch:35 -- Phase:train -- Loss:0.56 -- Acc:80.66\n"
     ]
    },
    {
     "name": "stderr",
     "output_type": "stream",
     "text": [
      " 18%|█▊        | 36/200 [12:28<56:45, 20.77s/it]"
     ]
    },
    {
     "name": "stdout",
     "output_type": "stream",
     "text": [
      "Epoch:35 -- Phase:val -- Loss:0.58 -- Acc:80.64\n",
      "Epoch:36 -- Phase:train -- Loss:0.55 -- Acc:80.62\n"
     ]
    },
    {
     "name": "stderr",
     "output_type": "stream",
     "text": [
      " 18%|█▊        | 37/200 [12:49<56:27, 20.78s/it]"
     ]
    },
    {
     "name": "stdout",
     "output_type": "stream",
     "text": [
      "Epoch:36 -- Phase:val -- Loss:0.61 -- Acc:79.65\n",
      "Epoch:37 -- Phase:train -- Loss:0.54 -- Acc:81.11\n"
     ]
    },
    {
     "name": "stderr",
     "output_type": "stream",
     "text": [
      " 19%|█▉        | 38/200 [13:10<56:05, 20.77s/it]"
     ]
    },
    {
     "name": "stdout",
     "output_type": "stream",
     "text": [
      "Epoch:37 -- Phase:val -- Loss:0.63 -- Acc:79.00\n",
      "Epoch:38 -- Phase:train -- Loss:0.53 -- Acc:81.29\n"
     ]
    },
    {
     "name": "stderr",
     "output_type": "stream",
     "text": [
      " 20%|█▉        | 39/200 [13:30<55:43, 20.77s/it]"
     ]
    },
    {
     "name": "stdout",
     "output_type": "stream",
     "text": [
      "Epoch:38 -- Phase:val -- Loss:0.56 -- Acc:81.13\n",
      "Epoch:39 -- Phase:train -- Loss:0.52 -- Acc:81.57\n"
     ]
    },
    {
     "name": "stderr",
     "output_type": "stream",
     "text": [
      " 20%|██        | 40/200 [13:51<55:22, 20.77s/it]"
     ]
    },
    {
     "name": "stdout",
     "output_type": "stream",
     "text": [
      "Epoch:39 -- Phase:val -- Loss:0.53 -- Acc:82.31\n",
      "Epoch:40 -- Phase:train -- Loss:0.51 -- Acc:82.14\n"
     ]
    },
    {
     "name": "stderr",
     "output_type": "stream",
     "text": [
      " 20%|██        | 41/200 [14:12<55:03, 20.78s/it]"
     ]
    },
    {
     "name": "stdout",
     "output_type": "stream",
     "text": [
      "Epoch:40 -- Phase:val -- Loss:0.55 -- Acc:81.92\n",
      "Epoch:41 -- Phase:train -- Loss:0.50 -- Acc:82.26\n"
     ]
    },
    {
     "name": "stderr",
     "output_type": "stream",
     "text": [
      " 21%|██        | 42/200 [14:33<54:40, 20.76s/it]"
     ]
    },
    {
     "name": "stdout",
     "output_type": "stream",
     "text": [
      "Epoch:41 -- Phase:val -- Loss:0.61 -- Acc:80.63\n",
      "Epoch:42 -- Phase:train -- Loss:0.50 -- Acc:82.79\n"
     ]
    },
    {
     "name": "stderr",
     "output_type": "stream",
     "text": [
      " 22%|██▏       | 43/200 [14:53<54:19, 20.76s/it]"
     ]
    },
    {
     "name": "stdout",
     "output_type": "stream",
     "text": [
      "Epoch:42 -- Phase:val -- Loss:0.58 -- Acc:81.22\n",
      "Epoch:43 -- Phase:train -- Loss:0.49 -- Acc:82.86\n"
     ]
    },
    {
     "name": "stderr",
     "output_type": "stream",
     "text": [
      " 22%|██▏       | 44/200 [15:14<53:56, 20.75s/it]"
     ]
    },
    {
     "name": "stdout",
     "output_type": "stream",
     "text": [
      "Epoch:43 -- Phase:val -- Loss:0.55 -- Acc:81.77\n",
      "Epoch:44 -- Phase:train -- Loss:0.48 -- Acc:83.07\n"
     ]
    },
    {
     "name": "stderr",
     "output_type": "stream",
     "text": [
      " 22%|██▎       | 45/200 [15:35<53:37, 20.76s/it]"
     ]
    },
    {
     "name": "stdout",
     "output_type": "stream",
     "text": [
      "Epoch:44 -- Phase:val -- Loss:0.54 -- Acc:82.48\n",
      "Epoch:45 -- Phase:train -- Loss:0.47 -- Acc:83.30\n"
     ]
    },
    {
     "name": "stderr",
     "output_type": "stream",
     "text": [
      " 23%|██▎       | 46/200 [15:56<53:17, 20.76s/it]"
     ]
    },
    {
     "name": "stdout",
     "output_type": "stream",
     "text": [
      "Epoch:45 -- Phase:val -- Loss:0.56 -- Acc:81.77\n",
      "Epoch:46 -- Phase:train -- Loss:0.47 -- Acc:83.63\n"
     ]
    },
    {
     "name": "stderr",
     "output_type": "stream",
     "text": [
      " 24%|██▎       | 47/200 [16:16<52:52, 20.74s/it]"
     ]
    },
    {
     "name": "stdout",
     "output_type": "stream",
     "text": [
      "Epoch:46 -- Phase:val -- Loss:0.56 -- Acc:81.85\n",
      "Epoch:47 -- Phase:train -- Loss:0.46 -- Acc:83.73\n"
     ]
    },
    {
     "name": "stderr",
     "output_type": "stream",
     "text": [
      " 24%|██▍       | 48/200 [16:37<52:34, 20.75s/it]"
     ]
    },
    {
     "name": "stdout",
     "output_type": "stream",
     "text": [
      "Epoch:47 -- Phase:val -- Loss:0.54 -- Acc:82.06\n",
      "Epoch:48 -- Phase:train -- Loss:0.46 -- Acc:84.19\n"
     ]
    },
    {
     "name": "stderr",
     "output_type": "stream",
     "text": [
      " 24%|██▍       | 49/200 [16:58<52:15, 20.76s/it]"
     ]
    },
    {
     "name": "stdout",
     "output_type": "stream",
     "text": [
      "Epoch:48 -- Phase:val -- Loss:0.56 -- Acc:81.93\n",
      "Epoch:49 -- Phase:train -- Loss:0.45 -- Acc:84.11\n"
     ]
    },
    {
     "name": "stderr",
     "output_type": "stream",
     "text": [
      " 25%|██▌       | 50/200 [17:19<51:56, 20.78s/it]"
     ]
    },
    {
     "name": "stdout",
     "output_type": "stream",
     "text": [
      "Epoch:49 -- Phase:val -- Loss:0.51 -- Acc:83.40\n",
      "Epoch:50 -- Phase:train -- Loss:0.44 -- Acc:84.72\n"
     ]
    },
    {
     "name": "stderr",
     "output_type": "stream",
     "text": [
      " 26%|██▌       | 51/200 [17:39<51:36, 20.78s/it]"
     ]
    },
    {
     "name": "stdout",
     "output_type": "stream",
     "text": [
      "Epoch:50 -- Phase:val -- Loss:0.56 -- Acc:82.12\n",
      "Epoch:51 -- Phase:train -- Loss:0.43 -- Acc:84.84\n"
     ]
    },
    {
     "name": "stderr",
     "output_type": "stream",
     "text": [
      " 26%|██▌       | 52/200 [18:00<51:14, 20.77s/it]"
     ]
    },
    {
     "name": "stdout",
     "output_type": "stream",
     "text": [
      "Epoch:51 -- Phase:val -- Loss:0.62 -- Acc:80.49\n",
      "Epoch:52 -- Phase:train -- Loss:0.43 -- Acc:85.10\n"
     ]
    },
    {
     "name": "stderr",
     "output_type": "stream",
     "text": [
      " 26%|██▋       | 53/200 [18:21<50:50, 20.75s/it]"
     ]
    },
    {
     "name": "stdout",
     "output_type": "stream",
     "text": [
      "Epoch:52 -- Phase:val -- Loss:0.56 -- Acc:81.77\n",
      "Epoch:53 -- Phase:train -- Loss:0.42 -- Acc:85.00\n"
     ]
    },
    {
     "name": "stderr",
     "output_type": "stream",
     "text": [
      " 27%|██▋       | 54/200 [18:42<50:32, 20.77s/it]"
     ]
    },
    {
     "name": "stdout",
     "output_type": "stream",
     "text": [
      "Epoch:53 -- Phase:val -- Loss:0.50 -- Acc:83.56\n",
      "Epoch:54 -- Phase:train -- Loss:0.42 -- Acc:85.39\n"
     ]
    },
    {
     "name": "stderr",
     "output_type": "stream",
     "text": [
      " 28%|██▊       | 55/200 [19:02<50:11, 20.77s/it]"
     ]
    },
    {
     "name": "stdout",
     "output_type": "stream",
     "text": [
      "Epoch:54 -- Phase:val -- Loss:0.72 -- Acc:77.92\n",
      "Epoch:55 -- Phase:train -- Loss:0.41 -- Acc:85.44\n"
     ]
    },
    {
     "name": "stderr",
     "output_type": "stream",
     "text": [
      " 28%|██▊       | 56/200 [19:23<49:49, 20.76s/it]"
     ]
    },
    {
     "name": "stdout",
     "output_type": "stream",
     "text": [
      "Epoch:55 -- Phase:val -- Loss:0.58 -- Acc:82.24\n",
      "Epoch:56 -- Phase:train -- Loss:0.40 -- Acc:85.86\n"
     ]
    },
    {
     "name": "stderr",
     "output_type": "stream",
     "text": [
      " 28%|██▊       | 57/200 [19:44<49:31, 20.78s/it]"
     ]
    },
    {
     "name": "stdout",
     "output_type": "stream",
     "text": [
      "Epoch:56 -- Phase:val -- Loss:0.55 -- Acc:82.14\n",
      "Epoch:57 -- Phase:train -- Loss:0.40 -- Acc:86.13\n"
     ]
    },
    {
     "name": "stderr",
     "output_type": "stream",
     "text": [
      " 29%|██▉       | 58/200 [20:05<49:11, 20.78s/it]"
     ]
    },
    {
     "name": "stdout",
     "output_type": "stream",
     "text": [
      "Epoch:57 -- Phase:val -- Loss:0.51 -- Acc:83.85\n",
      "Epoch:58 -- Phase:train -- Loss:0.39 -- Acc:86.19\n"
     ]
    },
    {
     "name": "stderr",
     "output_type": "stream",
     "text": [
      " 30%|██▉       | 59/200 [20:26<48:51, 20.79s/it]"
     ]
    },
    {
     "name": "stdout",
     "output_type": "stream",
     "text": [
      "Epoch:58 -- Phase:val -- Loss:0.52 -- Acc:83.36\n",
      "Epoch:59 -- Phase:train -- Loss:0.39 -- Acc:86.32\n"
     ]
    },
    {
     "name": "stderr",
     "output_type": "stream",
     "text": [
      " 30%|███       | 60/200 [20:46<48:31, 20.80s/it]"
     ]
    },
    {
     "name": "stdout",
     "output_type": "stream",
     "text": [
      "Epoch:59 -- Phase:val -- Loss:0.52 -- Acc:83.51\n",
      "Epoch:60 -- Phase:train -- Loss:0.38 -- Acc:86.68\n"
     ]
    },
    {
     "name": "stderr",
     "output_type": "stream",
     "text": [
      " 30%|███       | 61/200 [21:07<48:10, 20.80s/it]"
     ]
    },
    {
     "name": "stdout",
     "output_type": "stream",
     "text": [
      "Epoch:60 -- Phase:val -- Loss:0.52 -- Acc:83.41\n",
      "Epoch:61 -- Phase:train -- Loss:0.38 -- Acc:86.76\n"
     ]
    },
    {
     "name": "stderr",
     "output_type": "stream",
     "text": [
      " 31%|███       | 62/200 [21:28<47:50, 20.80s/it]"
     ]
    },
    {
     "name": "stdout",
     "output_type": "stream",
     "text": [
      "Epoch:61 -- Phase:val -- Loss:0.51 -- Acc:83.87\n",
      "Epoch:62 -- Phase:train -- Loss:0.38 -- Acc:87.04\n"
     ]
    },
    {
     "name": "stderr",
     "output_type": "stream",
     "text": [
      " 32%|███▏      | 63/200 [21:49<47:28, 20.79s/it]"
     ]
    },
    {
     "name": "stdout",
     "output_type": "stream",
     "text": [
      "Epoch:62 -- Phase:val -- Loss:0.49 -- Acc:84.52\n",
      "Epoch:63 -- Phase:train -- Loss:0.37 -- Acc:86.99\n"
     ]
    },
    {
     "name": "stderr",
     "output_type": "stream",
     "text": [
      " 32%|███▏      | 64/200 [22:10<47:07, 20.79s/it]"
     ]
    },
    {
     "name": "stdout",
     "output_type": "stream",
     "text": [
      "Epoch:63 -- Phase:val -- Loss:0.50 -- Acc:83.94\n",
      "Epoch:64 -- Phase:train -- Loss:0.37 -- Acc:87.04\n"
     ]
    },
    {
     "name": "stderr",
     "output_type": "stream",
     "text": [
      " 32%|███▎      | 65/200 [22:30<46:50, 20.82s/it]"
     ]
    },
    {
     "name": "stdout",
     "output_type": "stream",
     "text": [
      "Epoch:64 -- Phase:val -- Loss:0.52 -- Acc:83.88\n",
      "Epoch:65 -- Phase:train -- Loss:0.36 -- Acc:87.46\n"
     ]
    },
    {
     "name": "stderr",
     "output_type": "stream",
     "text": [
      " 33%|███▎      | 66/200 [22:51<46:29, 20.82s/it]"
     ]
    },
    {
     "name": "stdout",
     "output_type": "stream",
     "text": [
      "Epoch:65 -- Phase:val -- Loss:0.52 -- Acc:83.47\n",
      "Epoch:66 -- Phase:train -- Loss:0.36 -- Acc:87.55\n"
     ]
    },
    {
     "name": "stderr",
     "output_type": "stream",
     "text": [
      " 34%|███▎      | 67/200 [23:12<46:06, 20.80s/it]"
     ]
    },
    {
     "name": "stdout",
     "output_type": "stream",
     "text": [
      "Epoch:66 -- Phase:val -- Loss:0.49 -- Acc:84.61\n",
      "Epoch:67 -- Phase:train -- Loss:0.35 -- Acc:87.70\n"
     ]
    },
    {
     "name": "stderr",
     "output_type": "stream",
     "text": [
      " 34%|███▍      | 68/200 [23:33<45:44, 20.79s/it]"
     ]
    },
    {
     "name": "stdout",
     "output_type": "stream",
     "text": [
      "Epoch:67 -- Phase:val -- Loss:0.54 -- Acc:82.83\n",
      "Epoch:68 -- Phase:train -- Loss:0.35 -- Acc:87.64\n"
     ]
    },
    {
     "name": "stderr",
     "output_type": "stream",
     "text": [
      " 34%|███▍      | 69/200 [23:54<45:24, 20.80s/it]"
     ]
    },
    {
     "name": "stdout",
     "output_type": "stream",
     "text": [
      "Epoch:68 -- Phase:val -- Loss:0.55 -- Acc:82.64\n",
      "Epoch:69 -- Phase:train -- Loss:0.34 -- Acc:87.92\n"
     ]
    },
    {
     "name": "stderr",
     "output_type": "stream",
     "text": [
      " 35%|███▌      | 70/200 [24:14<45:05, 20.81s/it]"
     ]
    },
    {
     "name": "stdout",
     "output_type": "stream",
     "text": [
      "Epoch:69 -- Phase:val -- Loss:0.48 -- Acc:85.06\n",
      "Epoch:70 -- Phase:train -- Loss:0.34 -- Acc:88.26\n"
     ]
    },
    {
     "name": "stderr",
     "output_type": "stream",
     "text": [
      " 36%|███▌      | 71/200 [24:35<44:43, 20.80s/it]"
     ]
    },
    {
     "name": "stdout",
     "output_type": "stream",
     "text": [
      "Epoch:70 -- Phase:val -- Loss:0.48 -- Acc:84.84\n",
      "Epoch:71 -- Phase:train -- Loss:0.34 -- Acc:88.13\n"
     ]
    },
    {
     "name": "stderr",
     "output_type": "stream",
     "text": [
      " 36%|███▌      | 72/200 [24:56<44:21, 20.79s/it]"
     ]
    },
    {
     "name": "stdout",
     "output_type": "stream",
     "text": [
      "Epoch:71 -- Phase:val -- Loss:0.48 -- Acc:84.90\n",
      "Epoch:72 -- Phase:train -- Loss:0.33 -- Acc:88.45\n"
     ]
    },
    {
     "name": "stderr",
     "output_type": "stream",
     "text": [
      " 36%|███▋      | 73/200 [25:17<44:00, 20.79s/it]"
     ]
    },
    {
     "name": "stdout",
     "output_type": "stream",
     "text": [
      "Epoch:72 -- Phase:val -- Loss:0.53 -- Acc:83.99\n",
      "Epoch:73 -- Phase:train -- Loss:0.33 -- Acc:88.45\n"
     ]
    },
    {
     "name": "stderr",
     "output_type": "stream",
     "text": [
      " 37%|███▋      | 74/200 [25:38<43:39, 20.79s/it]"
     ]
    },
    {
     "name": "stdout",
     "output_type": "stream",
     "text": [
      "Epoch:73 -- Phase:val -- Loss:0.59 -- Acc:82.04\n",
      "Epoch:74 -- Phase:train -- Loss:0.32 -- Acc:88.72\n"
     ]
    },
    {
     "name": "stderr",
     "output_type": "stream",
     "text": [
      " 38%|███▊      | 75/200 [25:58<43:20, 20.80s/it]"
     ]
    },
    {
     "name": "stdout",
     "output_type": "stream",
     "text": [
      "Epoch:74 -- Phase:val -- Loss:0.51 -- Acc:84.37\n",
      "Epoch:75 -- Phase:train -- Loss:0.32 -- Acc:88.73\n"
     ]
    },
    {
     "name": "stderr",
     "output_type": "stream",
     "text": [
      " 38%|███▊      | 76/200 [26:19<43:01, 20.82s/it]"
     ]
    },
    {
     "name": "stdout",
     "output_type": "stream",
     "text": [
      "Epoch:75 -- Phase:val -- Loss:0.49 -- Acc:84.73\n",
      "Epoch:76 -- Phase:train -- Loss:0.31 -- Acc:88.91\n"
     ]
    },
    {
     "name": "stderr",
     "output_type": "stream",
     "text": [
      " 38%|███▊      | 77/200 [26:40<42:38, 20.80s/it]"
     ]
    },
    {
     "name": "stdout",
     "output_type": "stream",
     "text": [
      "Epoch:76 -- Phase:val -- Loss:0.51 -- Acc:84.02\n",
      "Epoch:77 -- Phase:train -- Loss:0.31 -- Acc:89.13\n"
     ]
    },
    {
     "name": "stderr",
     "output_type": "stream",
     "text": [
      " 39%|███▉      | 78/200 [27:01<42:16, 20.79s/it]"
     ]
    },
    {
     "name": "stdout",
     "output_type": "stream",
     "text": [
      "Epoch:77 -- Phase:val -- Loss:0.51 -- Acc:84.62\n",
      "Epoch:78 -- Phase:train -- Loss:0.32 -- Acc:88.95\n"
     ]
    },
    {
     "name": "stderr",
     "output_type": "stream",
     "text": [
      " 40%|███▉      | 79/200 [27:22<41:55, 20.79s/it]"
     ]
    },
    {
     "name": "stdout",
     "output_type": "stream",
     "text": [
      "Epoch:78 -- Phase:val -- Loss:0.53 -- Acc:84.18\n",
      "Epoch:79 -- Phase:train -- Loss:0.30 -- Acc:89.28\n"
     ]
    },
    {
     "name": "stderr",
     "output_type": "stream",
     "text": [
      " 40%|████      | 80/200 [27:42<41:35, 20.80s/it]"
     ]
    },
    {
     "name": "stdout",
     "output_type": "stream",
     "text": [
      "Epoch:79 -- Phase:val -- Loss:0.56 -- Acc:83.52\n",
      "Epoch:80 -- Phase:train -- Loss:0.30 -- Acc:89.57\n"
     ]
    },
    {
     "name": "stderr",
     "output_type": "stream",
     "text": [
      " 40%|████      | 81/200 [28:03<41:14, 20.79s/it]"
     ]
    },
    {
     "name": "stdout",
     "output_type": "stream",
     "text": [
      "Epoch:80 -- Phase:val -- Loss:0.50 -- Acc:85.02\n",
      "Epoch:81 -- Phase:train -- Loss:0.30 -- Acc:89.57\n"
     ]
    },
    {
     "name": "stderr",
     "output_type": "stream",
     "text": [
      " 41%|████      | 82/200 [28:24<40:52, 20.79s/it]"
     ]
    },
    {
     "name": "stdout",
     "output_type": "stream",
     "text": [
      "Epoch:81 -- Phase:val -- Loss:0.53 -- Acc:84.12\n",
      "Epoch:82 -- Phase:train -- Loss:0.29 -- Acc:89.81\n"
     ]
    },
    {
     "name": "stderr",
     "output_type": "stream",
     "text": [
      " 42%|████▏     | 83/200 [28:45<40:31, 20.78s/it]"
     ]
    },
    {
     "name": "stdout",
     "output_type": "stream",
     "text": [
      "Epoch:82 -- Phase:val -- Loss:0.47 -- Acc:85.77\n",
      "Epoch:83 -- Phase:train -- Loss:0.29 -- Acc:89.74\n"
     ]
    },
    {
     "name": "stderr",
     "output_type": "stream",
     "text": [
      " 42%|████▏     | 84/200 [29:06<40:12, 20.80s/it]"
     ]
    },
    {
     "name": "stdout",
     "output_type": "stream",
     "text": [
      "Epoch:83 -- Phase:val -- Loss:0.52 -- Acc:84.16\n",
      "Epoch:84 -- Phase:train -- Loss:0.29 -- Acc:89.89\n"
     ]
    },
    {
     "name": "stderr",
     "output_type": "stream",
     "text": [
      " 42%|████▎     | 85/200 [29:26<39:54, 20.82s/it]"
     ]
    },
    {
     "name": "stdout",
     "output_type": "stream",
     "text": [
      "Epoch:84 -- Phase:val -- Loss:0.57 -- Acc:83.31\n",
      "Epoch:85 -- Phase:train -- Loss:0.28 -- Acc:90.13\n"
     ]
    },
    {
     "name": "stderr",
     "output_type": "stream",
     "text": [
      " 43%|████▎     | 86/200 [29:47<39:32, 20.82s/it]"
     ]
    },
    {
     "name": "stdout",
     "output_type": "stream",
     "text": [
      "Epoch:85 -- Phase:val -- Loss:0.47 -- Acc:85.76\n",
      "Epoch:86 -- Phase:train -- Loss:0.28 -- Acc:90.19\n"
     ]
    },
    {
     "name": "stderr",
     "output_type": "stream",
     "text": [
      " 44%|████▎     | 87/200 [30:08<39:11, 20.81s/it]"
     ]
    },
    {
     "name": "stdout",
     "output_type": "stream",
     "text": [
      "Epoch:86 -- Phase:val -- Loss:0.51 -- Acc:84.85\n",
      "Epoch:87 -- Phase:train -- Loss:0.28 -- Acc:90.28\n"
     ]
    },
    {
     "name": "stderr",
     "output_type": "stream",
     "text": [
      " 44%|████▍     | 88/200 [30:29<38:48, 20.79s/it]"
     ]
    },
    {
     "name": "stdout",
     "output_type": "stream",
     "text": [
      "Epoch:87 -- Phase:val -- Loss:0.50 -- Acc:84.58\n",
      "Epoch:88 -- Phase:train -- Loss:0.28 -- Acc:90.21\n"
     ]
    },
    {
     "name": "stderr",
     "output_type": "stream",
     "text": [
      " 44%|████▍     | 89/200 [30:50<38:28, 20.80s/it]"
     ]
    },
    {
     "name": "stdout",
     "output_type": "stream",
     "text": [
      "Epoch:88 -- Phase:val -- Loss:0.48 -- Acc:85.72\n",
      "Epoch:89 -- Phase:train -- Loss:0.27 -- Acc:90.46\n"
     ]
    },
    {
     "name": "stderr",
     "output_type": "stream",
     "text": [
      " 45%|████▌     | 90/200 [31:10<38:06, 20.78s/it]"
     ]
    },
    {
     "name": "stdout",
     "output_type": "stream",
     "text": [
      "Epoch:89 -- Phase:val -- Loss:0.48 -- Acc:86.14\n",
      "Epoch:90 -- Phase:train -- Loss:0.27 -- Acc:90.48\n"
     ]
    },
    {
     "name": "stderr",
     "output_type": "stream",
     "text": [
      " 46%|████▌     | 91/200 [31:31<37:45, 20.79s/it]"
     ]
    },
    {
     "name": "stdout",
     "output_type": "stream",
     "text": [
      "Epoch:90 -- Phase:val -- Loss:0.51 -- Acc:84.90\n",
      "Epoch:91 -- Phase:train -- Loss:0.27 -- Acc:90.75\n"
     ]
    },
    {
     "name": "stderr",
     "output_type": "stream",
     "text": [
      " 46%|████▌     | 92/200 [31:52<37:23, 20.77s/it]"
     ]
    },
    {
     "name": "stdout",
     "output_type": "stream",
     "text": [
      "Epoch:91 -- Phase:val -- Loss:0.59 -- Acc:83.65\n",
      "Epoch:92 -- Phase:train -- Loss:0.27 -- Acc:90.68\n"
     ]
    },
    {
     "name": "stderr",
     "output_type": "stream",
     "text": [
      " 46%|████▋     | 93/200 [32:13<37:03, 20.78s/it]"
     ]
    },
    {
     "name": "stdout",
     "output_type": "stream",
     "text": [
      "Epoch:92 -- Phase:val -- Loss:0.47 -- Acc:85.88\n",
      "Epoch:93 -- Phase:train -- Loss:0.26 -- Acc:90.81\n"
     ]
    },
    {
     "name": "stderr",
     "output_type": "stream",
     "text": [
      " 47%|████▋     | 94/200 [32:33<36:42, 20.78s/it]"
     ]
    },
    {
     "name": "stdout",
     "output_type": "stream",
     "text": [
      "Epoch:93 -- Phase:val -- Loss:0.48 -- Acc:86.10\n",
      "Epoch:94 -- Phase:train -- Loss:0.26 -- Acc:90.98\n"
     ]
    },
    {
     "name": "stderr",
     "output_type": "stream",
     "text": [
      " 48%|████▊     | 95/200 [32:54<36:21, 20.78s/it]"
     ]
    },
    {
     "name": "stdout",
     "output_type": "stream",
     "text": [
      "Epoch:94 -- Phase:val -- Loss:0.48 -- Acc:85.69\n",
      "Epoch:95 -- Phase:train -- Loss:0.26 -- Acc:91.04\n"
     ]
    },
    {
     "name": "stderr",
     "output_type": "stream",
     "text": [
      " 48%|████▊     | 96/200 [33:15<35:59, 20.76s/it]"
     ]
    },
    {
     "name": "stdout",
     "output_type": "stream",
     "text": [
      "Epoch:95 -- Phase:val -- Loss:0.49 -- Acc:85.63\n",
      "Epoch:96 -- Phase:train -- Loss:0.25 -- Acc:91.10\n"
     ]
    },
    {
     "name": "stderr",
     "output_type": "stream",
     "text": [
      " 48%|████▊     | 97/200 [33:36<35:38, 20.77s/it]"
     ]
    },
    {
     "name": "stdout",
     "output_type": "stream",
     "text": [
      "Epoch:96 -- Phase:val -- Loss:0.49 -- Acc:85.90\n",
      "Epoch:97 -- Phase:train -- Loss:0.25 -- Acc:91.26\n"
     ]
    },
    {
     "name": "stderr",
     "output_type": "stream",
     "text": [
      " 49%|████▉     | 98/200 [33:57<35:19, 20.78s/it]"
     ]
    },
    {
     "name": "stdout",
     "output_type": "stream",
     "text": [
      "Epoch:97 -- Phase:val -- Loss:0.49 -- Acc:86.26\n",
      "Epoch:98 -- Phase:train -- Loss:0.25 -- Acc:91.35\n"
     ]
    },
    {
     "name": "stderr",
     "output_type": "stream",
     "text": [
      " 50%|████▉     | 99/200 [34:17<34:59, 20.78s/it]"
     ]
    },
    {
     "name": "stdout",
     "output_type": "stream",
     "text": [
      "Epoch:98 -- Phase:val -- Loss:0.54 -- Acc:84.75\n",
      "Epoch:99 -- Phase:train -- Loss:0.25 -- Acc:91.31\n"
     ]
    },
    {
     "name": "stderr",
     "output_type": "stream",
     "text": [
      " 50%|█████     | 100/200 [34:38<34:40, 20.80s/it]"
     ]
    },
    {
     "name": "stdout",
     "output_type": "stream",
     "text": [
      "Epoch:99 -- Phase:val -- Loss:0.48 -- Acc:86.00\n",
      "Epoch:100 -- Phase:train -- Loss:0.24 -- Acc:91.49\n"
     ]
    },
    {
     "name": "stderr",
     "output_type": "stream",
     "text": [
      " 50%|█████     | 101/200 [34:59<34:20, 20.82s/it]"
     ]
    },
    {
     "name": "stdout",
     "output_type": "stream",
     "text": [
      "Epoch:100 -- Phase:val -- Loss:0.53 -- Acc:85.18\n",
      "Epoch:101 -- Phase:train -- Loss:0.24 -- Acc:91.49\n"
     ]
    },
    {
     "name": "stderr",
     "output_type": "stream",
     "text": [
      " 51%|█████     | 102/200 [35:20<33:58, 20.80s/it]"
     ]
    },
    {
     "name": "stdout",
     "output_type": "stream",
     "text": [
      "Epoch:101 -- Phase:val -- Loss:0.53 -- Acc:85.00\n",
      "Epoch:102 -- Phase:train -- Loss:0.24 -- Acc:91.60\n"
     ]
    },
    {
     "name": "stderr",
     "output_type": "stream",
     "text": [
      " 52%|█████▏    | 103/200 [35:41<33:36, 20.79s/it]"
     ]
    },
    {
     "name": "stdout",
     "output_type": "stream",
     "text": [
      "Epoch:102 -- Phase:val -- Loss:0.57 -- Acc:84.23\n",
      "Epoch:103 -- Phase:train -- Loss:0.24 -- Acc:91.72\n"
     ]
    },
    {
     "name": "stderr",
     "output_type": "stream",
     "text": [
      " 52%|█████▏    | 104/200 [36:01<33:16, 20.80s/it]"
     ]
    },
    {
     "name": "stdout",
     "output_type": "stream",
     "text": [
      "Epoch:103 -- Phase:val -- Loss:0.45 -- Acc:86.75\n",
      "Epoch:104 -- Phase:train -- Loss:0.24 -- Acc:91.82\n"
     ]
    },
    {
     "name": "stderr",
     "output_type": "stream",
     "text": [
      " 52%|█████▎    | 105/200 [36:22<32:56, 20.81s/it]"
     ]
    },
    {
     "name": "stdout",
     "output_type": "stream",
     "text": [
      "Epoch:104 -- Phase:val -- Loss:0.50 -- Acc:85.77\n",
      "Epoch:105 -- Phase:train -- Loss:0.23 -- Acc:92.05\n"
     ]
    },
    {
     "name": "stderr",
     "output_type": "stream",
     "text": [
      " 53%|█████▎    | 106/200 [36:43<32:36, 20.81s/it]"
     ]
    },
    {
     "name": "stdout",
     "output_type": "stream",
     "text": [
      "Epoch:105 -- Phase:val -- Loss:0.51 -- Acc:85.96\n",
      "Epoch:106 -- Phase:train -- Loss:0.23 -- Acc:91.97\n"
     ]
    },
    {
     "name": "stderr",
     "output_type": "stream",
     "text": [
      " 54%|█████▎    | 107/200 [37:04<32:15, 20.81s/it]"
     ]
    },
    {
     "name": "stdout",
     "output_type": "stream",
     "text": [
      "Epoch:106 -- Phase:val -- Loss:0.57 -- Acc:84.51\n",
      "Epoch:107 -- Phase:train -- Loss:0.23 -- Acc:91.87\n"
     ]
    },
    {
     "name": "stderr",
     "output_type": "stream",
     "text": [
      " 54%|█████▍    | 108/200 [37:25<31:51, 20.78s/it]"
     ]
    },
    {
     "name": "stdout",
     "output_type": "stream",
     "text": [
      "Epoch:107 -- Phase:val -- Loss:0.47 -- Acc:86.37\n",
      "Epoch:108 -- Phase:train -- Loss:0.23 -- Acc:92.05\n"
     ]
    },
    {
     "name": "stderr",
     "output_type": "stream",
     "text": [
      " 55%|█████▍    | 109/200 [37:45<31:31, 20.78s/it]"
     ]
    },
    {
     "name": "stdout",
     "output_type": "stream",
     "text": [
      "Epoch:108 -- Phase:val -- Loss:0.58 -- Acc:84.26\n",
      "Epoch:109 -- Phase:train -- Loss:0.23 -- Acc:91.99\n"
     ]
    },
    {
     "name": "stderr",
     "output_type": "stream",
     "text": [
      " 55%|█████▌    | 110/200 [38:06<31:10, 20.78s/it]"
     ]
    },
    {
     "name": "stdout",
     "output_type": "stream",
     "text": [
      "Epoch:109 -- Phase:val -- Loss:0.56 -- Acc:85.26\n",
      "Epoch:110 -- Phase:train -- Loss:0.23 -- Acc:92.13\n"
     ]
    },
    {
     "name": "stderr",
     "output_type": "stream",
     "text": [
      " 56%|█████▌    | 111/200 [38:27<30:49, 20.78s/it]"
     ]
    },
    {
     "name": "stdout",
     "output_type": "stream",
     "text": [
      "Epoch:110 -- Phase:val -- Loss:0.52 -- Acc:85.75\n",
      "Epoch:111 -- Phase:train -- Loss:0.22 -- Acc:92.38\n"
     ]
    },
    {
     "name": "stderr",
     "output_type": "stream",
     "text": [
      " 56%|█████▌    | 112/200 [38:48<30:27, 20.77s/it]"
     ]
    },
    {
     "name": "stdout",
     "output_type": "stream",
     "text": [
      "Epoch:111 -- Phase:val -- Loss:0.50 -- Acc:86.23\n",
      "Epoch:112 -- Phase:train -- Loss:0.22 -- Acc:92.46\n"
     ]
    },
    {
     "name": "stderr",
     "output_type": "stream",
     "text": [
      " 56%|█████▋    | 113/200 [39:08<30:06, 20.77s/it]"
     ]
    },
    {
     "name": "stdout",
     "output_type": "stream",
     "text": [
      "Epoch:112 -- Phase:val -- Loss:0.50 -- Acc:86.38\n",
      "Epoch:113 -- Phase:train -- Loss:0.21 -- Acc:92.58\n"
     ]
    },
    {
     "name": "stderr",
     "output_type": "stream",
     "text": [
      " 57%|█████▋    | 114/200 [39:29<29:48, 20.80s/it]"
     ]
    },
    {
     "name": "stdout",
     "output_type": "stream",
     "text": [
      "Epoch:113 -- Phase:val -- Loss:0.51 -- Acc:86.18\n",
      "Epoch:114 -- Phase:train -- Loss:0.22 -- Acc:92.27\n"
     ]
    },
    {
     "name": "stderr",
     "output_type": "stream",
     "text": [
      " 57%|█████▊    | 115/200 [39:50<29:26, 20.78s/it]"
     ]
    },
    {
     "name": "stdout",
     "output_type": "stream",
     "text": [
      "Epoch:114 -- Phase:val -- Loss:0.53 -- Acc:85.72\n",
      "Epoch:115 -- Phase:train -- Loss:0.21 -- Acc:92.61\n"
     ]
    },
    {
     "name": "stderr",
     "output_type": "stream",
     "text": [
      " 58%|█████▊    | 116/200 [40:11<29:05, 20.78s/it]"
     ]
    },
    {
     "name": "stdout",
     "output_type": "stream",
     "text": [
      "Epoch:115 -- Phase:val -- Loss:0.51 -- Acc:85.84\n",
      "Epoch:116 -- Phase:train -- Loss:0.21 -- Acc:92.73\n"
     ]
    },
    {
     "name": "stderr",
     "output_type": "stream",
     "text": [
      " 58%|█████▊    | 117/200 [40:32<28:43, 20.77s/it]"
     ]
    },
    {
     "name": "stdout",
     "output_type": "stream",
     "text": [
      "Epoch:116 -- Phase:val -- Loss:0.49 -- Acc:86.16\n",
      "Epoch:117 -- Phase:train -- Loss:0.21 -- Acc:92.48\n"
     ]
    },
    {
     "name": "stderr",
     "output_type": "stream",
     "text": [
      " 59%|█████▉    | 118/200 [40:52<28:21, 20.75s/it]"
     ]
    },
    {
     "name": "stdout",
     "output_type": "stream",
     "text": [
      "Epoch:117 -- Phase:val -- Loss:0.47 -- Acc:87.09\n",
      "Epoch:118 -- Phase:train -- Loss:0.21 -- Acc:92.62\n"
     ]
    },
    {
     "name": "stderr",
     "output_type": "stream",
     "text": [
      " 60%|█████▉    | 119/200 [41:13<28:02, 20.77s/it]"
     ]
    },
    {
     "name": "stdout",
     "output_type": "stream",
     "text": [
      "Epoch:118 -- Phase:val -- Loss:0.54 -- Acc:85.75\n",
      "Epoch:119 -- Phase:train -- Loss:0.20 -- Acc:92.93\n"
     ]
    },
    {
     "name": "stderr",
     "output_type": "stream",
     "text": [
      " 60%|██████    | 120/200 [41:34<27:42, 20.79s/it]"
     ]
    },
    {
     "name": "stdout",
     "output_type": "stream",
     "text": [
      "Epoch:119 -- Phase:val -- Loss:0.52 -- Acc:85.87\n",
      "Epoch:120 -- Phase:train -- Loss:0.20 -- Acc:92.85\n"
     ]
    },
    {
     "name": "stderr",
     "output_type": "stream",
     "text": [
      " 60%|██████    | 121/200 [41:55<27:23, 20.80s/it]"
     ]
    },
    {
     "name": "stdout",
     "output_type": "stream",
     "text": [
      "Epoch:120 -- Phase:val -- Loss:0.49 -- Acc:86.44\n",
      "Epoch:121 -- Phase:train -- Loss:0.20 -- Acc:93.03\n"
     ]
    },
    {
     "name": "stderr",
     "output_type": "stream",
     "text": [
      " 61%|██████    | 122/200 [42:16<27:02, 20.80s/it]"
     ]
    },
    {
     "name": "stdout",
     "output_type": "stream",
     "text": [
      "Epoch:121 -- Phase:val -- Loss:0.48 -- Acc:87.03\n",
      "Epoch:122 -- Phase:train -- Loss:0.20 -- Acc:92.82\n"
     ]
    },
    {
     "name": "stderr",
     "output_type": "stream",
     "text": [
      " 62%|██████▏   | 123/200 [42:36<26:42, 20.81s/it]"
     ]
    },
    {
     "name": "stdout",
     "output_type": "stream",
     "text": [
      "Epoch:122 -- Phase:val -- Loss:0.48 -- Acc:86.77\n",
      "Epoch:123 -- Phase:train -- Loss:0.20 -- Acc:93.04\n"
     ]
    },
    {
     "name": "stderr",
     "output_type": "stream",
     "text": [
      " 62%|██████▏   | 124/200 [42:57<26:20, 20.80s/it]"
     ]
    },
    {
     "name": "stdout",
     "output_type": "stream",
     "text": [
      "Epoch:123 -- Phase:val -- Loss:0.48 -- Acc:86.96\n",
      "Epoch:124 -- Phase:train -- Loss:0.20 -- Acc:93.04\n"
     ]
    },
    {
     "name": "stderr",
     "output_type": "stream",
     "text": [
      " 62%|██████▎   | 125/200 [43:18<26:00, 20.80s/it]"
     ]
    },
    {
     "name": "stdout",
     "output_type": "stream",
     "text": [
      "Epoch:124 -- Phase:val -- Loss:0.51 -- Acc:86.03\n",
      "Epoch:125 -- Phase:train -- Loss:0.20 -- Acc:93.05\n"
     ]
    },
    {
     "name": "stderr",
     "output_type": "stream",
     "text": [
      " 63%|██████▎   | 126/200 [43:39<25:41, 20.83s/it]"
     ]
    },
    {
     "name": "stdout",
     "output_type": "stream",
     "text": [
      "Epoch:125 -- Phase:val -- Loss:0.49 -- Acc:86.87\n",
      "Epoch:126 -- Phase:train -- Loss:0.19 -- Acc:93.31\n"
     ]
    },
    {
     "name": "stderr",
     "output_type": "stream",
     "text": [
      " 64%|██████▎   | 127/200 [44:00<25:17, 20.79s/it]"
     ]
    },
    {
     "name": "stdout",
     "output_type": "stream",
     "text": [
      "Epoch:126 -- Phase:val -- Loss:0.47 -- Acc:87.17\n"
     ]
    },
    {
     "name": "stderr",
     "output_type": "stream",
     "text": [
      " 64%|██████▍   | 128/200 [44:20<24:57, 20.79s/it]"
     ]
    },
    {
     "name": "stdout",
     "output_type": "stream",
     "text": [
      "Epoch:127 -- Phase:val -- Loss:0.46 -- Acc:86.94\n",
      "Epoch:128 -- Phase:train -- Loss:0.20 -- Acc:92.99\n"
     ]
    },
    {
     "name": "stderr",
     "output_type": "stream",
     "text": [
      " 64%|██████▍   | 129/200 [44:41<24:36, 20.80s/it]"
     ]
    },
    {
     "name": "stdout",
     "output_type": "stream",
     "text": [
      "Epoch:128 -- Phase:val -- Loss:0.56 -- Acc:85.56\n",
      "Epoch:129 -- Phase:train -- Loss:0.19 -- Acc:93.52\n"
     ]
    },
    {
     "name": "stderr",
     "output_type": "stream",
     "text": [
      " 65%|██████▌   | 130/200 [45:02<24:15, 20.79s/it]"
     ]
    },
    {
     "name": "stdout",
     "output_type": "stream",
     "text": [
      "Epoch:129 -- Phase:val -- Loss:0.50 -- Acc:86.60\n",
      "Epoch:130 -- Phase:train -- Loss:0.19 -- Acc:93.40\n"
     ]
    },
    {
     "name": "stderr",
     "output_type": "stream",
     "text": [
      " 66%|██████▌   | 131/200 [45:23<23:53, 20.78s/it]"
     ]
    },
    {
     "name": "stdout",
     "output_type": "stream",
     "text": [
      "Epoch:130 -- Phase:val -- Loss:0.50 -- Acc:86.23\n",
      "Epoch:131 -- Phase:train -- Loss:0.19 -- Acc:93.45\n"
     ]
    },
    {
     "name": "stderr",
     "output_type": "stream",
     "text": [
      " 66%|██████▌   | 132/200 [45:43<23:32, 20.77s/it]"
     ]
    },
    {
     "name": "stdout",
     "output_type": "stream",
     "text": [
      "Epoch:131 -- Phase:val -- Loss:0.51 -- Acc:86.51\n",
      "Epoch:132 -- Phase:train -- Loss:0.18 -- Acc:93.56\n"
     ]
    },
    {
     "name": "stderr",
     "output_type": "stream",
     "text": [
      " 66%|██████▋   | 133/200 [46:04<23:09, 20.75s/it]"
     ]
    },
    {
     "name": "stdout",
     "output_type": "stream",
     "text": [
      "Epoch:132 -- Phase:val -- Loss:0.54 -- Acc:86.23\n",
      "Epoch:133 -- Phase:train -- Loss:0.18 -- Acc:93.77\n"
     ]
    },
    {
     "name": "stderr",
     "output_type": "stream",
     "text": [
      " 67%|██████▋   | 134/200 [46:25<22:52, 20.79s/it]"
     ]
    },
    {
     "name": "stdout",
     "output_type": "stream",
     "text": [
      "Epoch:133 -- Phase:val -- Loss:0.58 -- Acc:84.97\n",
      "Epoch:134 -- Phase:train -- Loss:0.18 -- Acc:93.59\n"
     ]
    },
    {
     "name": "stderr",
     "output_type": "stream",
     "text": [
      " 68%|██████▊   | 135/200 [46:46<22:32, 20.80s/it]"
     ]
    },
    {
     "name": "stdout",
     "output_type": "stream",
     "text": [
      "Epoch:134 -- Phase:val -- Loss:0.51 -- Acc:86.78\n",
      "Epoch:135 -- Phase:train -- Loss:0.18 -- Acc:93.83\n"
     ]
    },
    {
     "name": "stderr",
     "output_type": "stream",
     "text": [
      " 68%|██████▊   | 136/200 [47:07<22:12, 20.83s/it]"
     ]
    },
    {
     "name": "stdout",
     "output_type": "stream",
     "text": [
      "Epoch:135 -- Phase:val -- Loss:0.48 -- Acc:86.65\n",
      "Epoch:136 -- Phase:train -- Loss:0.19 -- Acc:93.56\n"
     ]
    },
    {
     "name": "stderr",
     "output_type": "stream",
     "text": [
      " 68%|██████▊   | 137/200 [47:27<21:49, 20.79s/it]"
     ]
    },
    {
     "name": "stdout",
     "output_type": "stream",
     "text": [
      "Epoch:136 -- Phase:val -- Loss:0.49 -- Acc:86.96\n",
      "Epoch:137 -- Phase:train -- Loss:0.18 -- Acc:93.83\n"
     ]
    },
    {
     "name": "stderr",
     "output_type": "stream",
     "text": [
      " 69%|██████▉   | 138/200 [47:48<21:29, 20.80s/it]"
     ]
    },
    {
     "name": "stdout",
     "output_type": "stream",
     "text": [
      "Epoch:137 -- Phase:val -- Loss:0.49 -- Acc:87.29\n",
      "Epoch:138 -- Phase:train -- Loss:0.18 -- Acc:93.75\n"
     ]
    },
    {
     "name": "stderr",
     "output_type": "stream",
     "text": [
      " 70%|██████▉   | 139/200 [48:09<21:09, 20.81s/it]"
     ]
    },
    {
     "name": "stdout",
     "output_type": "stream",
     "text": [
      "Epoch:138 -- Phase:val -- Loss:0.50 -- Acc:87.13\n",
      "Epoch:139 -- Phase:train -- Loss:0.18 -- Acc:93.73\n"
     ]
    },
    {
     "name": "stderr",
     "output_type": "stream",
     "text": [
      " 70%|███████   | 140/200 [48:30<20:48, 20.80s/it]"
     ]
    },
    {
     "name": "stdout",
     "output_type": "stream",
     "text": [
      "Epoch:139 -- Phase:val -- Loss:0.52 -- Acc:86.27\n",
      "Epoch:140 -- Phase:train -- Loss:0.18 -- Acc:93.83\n"
     ]
    },
    {
     "name": "stderr",
     "output_type": "stream",
     "text": [
      " 70%|███████   | 141/200 [48:51<20:26, 20.79s/it]"
     ]
    },
    {
     "name": "stdout",
     "output_type": "stream",
     "text": [
      "Epoch:140 -- Phase:val -- Loss:0.55 -- Acc:85.75\n",
      "Epoch:141 -- Phase:train -- Loss:0.17 -- Acc:93.89\n"
     ]
    },
    {
     "name": "stderr",
     "output_type": "stream",
     "text": [
      " 71%|███████   | 142/200 [49:11<20:06, 20.80s/it]"
     ]
    },
    {
     "name": "stdout",
     "output_type": "stream",
     "text": [
      "Epoch:141 -- Phase:val -- Loss:0.49 -- Acc:86.85\n",
      "Epoch:142 -- Phase:train -- Loss:0.17 -- Acc:93.99\n"
     ]
    },
    {
     "name": "stderr",
     "output_type": "stream",
     "text": [
      " 72%|███████▏  | 143/200 [49:32<19:45, 20.80s/it]"
     ]
    },
    {
     "name": "stdout",
     "output_type": "stream",
     "text": [
      "Epoch:142 -- Phase:val -- Loss:0.52 -- Acc:86.44\n",
      "Epoch:143 -- Phase:train -- Loss:0.18 -- Acc:93.89\n"
     ]
    },
    {
     "name": "stderr",
     "output_type": "stream",
     "text": [
      " 72%|███████▏  | 144/200 [49:53<19:23, 20.78s/it]"
     ]
    },
    {
     "name": "stdout",
     "output_type": "stream",
     "text": [
      "Epoch:143 -- Phase:val -- Loss:0.50 -- Acc:86.82\n",
      "Epoch:144 -- Phase:train -- Loss:0.17 -- Acc:93.85\n"
     ]
    },
    {
     "name": "stderr",
     "output_type": "stream",
     "text": [
      " 72%|███████▎  | 145/200 [50:14<19:04, 20.81s/it]"
     ]
    },
    {
     "name": "stdout",
     "output_type": "stream",
     "text": [
      "Epoch:144 -- Phase:val -- Loss:0.48 -- Acc:87.45\n",
      "Epoch:145 -- Phase:train -- Loss:0.17 -- Acc:94.00\n"
     ]
    },
    {
     "name": "stderr",
     "output_type": "stream",
     "text": [
      " 73%|███████▎  | 146/200 [50:35<18:44, 20.83s/it]"
     ]
    },
    {
     "name": "stdout",
     "output_type": "stream",
     "text": [
      "Epoch:145 -- Phase:val -- Loss:0.54 -- Acc:86.12\n",
      "Epoch:146 -- Phase:train -- Loss:0.17 -- Acc:94.19\n"
     ]
    },
    {
     "name": "stderr",
     "output_type": "stream",
     "text": [
      " 74%|███████▎  | 147/200 [50:56<18:23, 20.83s/it]"
     ]
    },
    {
     "name": "stdout",
     "output_type": "stream",
     "text": [
      "Epoch:146 -- Phase:val -- Loss:0.50 -- Acc:86.85\n",
      "Epoch:147 -- Phase:train -- Loss:0.17 -- Acc:94.21\n"
     ]
    },
    {
     "name": "stderr",
     "output_type": "stream",
     "text": [
      " 74%|███████▍  | 148/200 [51:16<18:02, 20.81s/it]"
     ]
    },
    {
     "name": "stdout",
     "output_type": "stream",
     "text": [
      "Epoch:147 -- Phase:val -- Loss:0.49 -- Acc:87.24\n",
      "Epoch:148 -- Phase:train -- Loss:0.17 -- Acc:94.22\n"
     ]
    },
    {
     "name": "stderr",
     "output_type": "stream",
     "text": [
      " 74%|███████▍  | 149/200 [51:37<17:40, 20.79s/it]"
     ]
    },
    {
     "name": "stdout",
     "output_type": "stream",
     "text": [
      "Epoch:148 -- Phase:val -- Loss:0.55 -- Acc:85.60\n",
      "Epoch:149 -- Phase:train -- Loss:0.17 -- Acc:94.25\n"
     ]
    },
    {
     "name": "stderr",
     "output_type": "stream",
     "text": [
      " 75%|███████▌  | 150/200 [51:58<17:18, 20.78s/it]"
     ]
    },
    {
     "name": "stdout",
     "output_type": "stream",
     "text": [
      "Epoch:149 -- Phase:val -- Loss:0.52 -- Acc:86.06\n",
      "Epoch:150 -- Phase:train -- Loss:0.16 -- Acc:94.31\n"
     ]
    },
    {
     "name": "stderr",
     "output_type": "stream",
     "text": [
      " 76%|███████▌  | 151/200 [52:19<16:59, 20.81s/it]"
     ]
    },
    {
     "name": "stdout",
     "output_type": "stream",
     "text": [
      "Epoch:150 -- Phase:val -- Loss:0.49 -- Acc:87.50\n",
      "Epoch:151 -- Phase:train -- Loss:0.16 -- Acc:94.43\n"
     ]
    },
    {
     "name": "stderr",
     "output_type": "stream",
     "text": [
      " 76%|███████▌  | 152/200 [52:40<16:38, 20.81s/it]"
     ]
    },
    {
     "name": "stdout",
     "output_type": "stream",
     "text": [
      "Epoch:151 -- Phase:val -- Loss:0.47 -- Acc:87.45\n",
      "Epoch:152 -- Phase:train -- Loss:0.16 -- Acc:94.35\n"
     ]
    },
    {
     "name": "stderr",
     "output_type": "stream",
     "text": [
      " 76%|███████▋  | 153/200 [53:00<16:17, 20.80s/it]"
     ]
    },
    {
     "name": "stdout",
     "output_type": "stream",
     "text": [
      "Epoch:152 -- Phase:val -- Loss:0.53 -- Acc:86.64\n",
      "Epoch:153 -- Phase:train -- Loss:0.16 -- Acc:94.25\n"
     ]
    },
    {
     "name": "stderr",
     "output_type": "stream",
     "text": [
      " 77%|███████▋  | 154/200 [53:21<15:56, 20.79s/it]"
     ]
    },
    {
     "name": "stdout",
     "output_type": "stream",
     "text": [
      "Epoch:153 -- Phase:val -- Loss:0.48 -- Acc:87.26\n",
      "Epoch:154 -- Phase:train -- Loss:0.16 -- Acc:94.53\n"
     ]
    },
    {
     "name": "stderr",
     "output_type": "stream",
     "text": [
      " 78%|███████▊  | 155/200 [53:42<15:35, 20.79s/it]"
     ]
    },
    {
     "name": "stdout",
     "output_type": "stream",
     "text": [
      "Epoch:154 -- Phase:val -- Loss:0.51 -- Acc:87.06\n",
      "Epoch:155 -- Phase:train -- Loss:0.16 -- Acc:94.60\n"
     ]
    },
    {
     "name": "stderr",
     "output_type": "stream",
     "text": [
      " 78%|███████▊  | 156/200 [54:03<15:15, 20.80s/it]"
     ]
    },
    {
     "name": "stdout",
     "output_type": "stream",
     "text": [
      "Epoch:155 -- Phase:val -- Loss:0.55 -- Acc:85.87\n",
      "Epoch:156 -- Phase:train -- Loss:0.16 -- Acc:94.39\n"
     ]
    },
    {
     "name": "stderr",
     "output_type": "stream",
     "text": [
      " 78%|███████▊  | 157/200 [54:24<14:55, 20.82s/it]"
     ]
    },
    {
     "name": "stdout",
     "output_type": "stream",
     "text": [
      "Epoch:156 -- Phase:val -- Loss:0.53 -- Acc:86.32\n",
      "Epoch:157 -- Phase:train -- Loss:0.16 -- Acc:94.61\n"
     ]
    },
    {
     "name": "stderr",
     "output_type": "stream",
     "text": [
      " 79%|███████▉  | 158/200 [54:44<14:34, 20.82s/it]"
     ]
    },
    {
     "name": "stdout",
     "output_type": "stream",
     "text": [
      "Epoch:157 -- Phase:val -- Loss:0.59 -- Acc:85.76\n",
      "Epoch:158 -- Phase:train -- Loss:0.15 -- Acc:94.58\n"
     ]
    },
    {
     "name": "stderr",
     "output_type": "stream",
     "text": [
      " 80%|███████▉  | 159/200 [55:05<14:13, 20.82s/it]"
     ]
    },
    {
     "name": "stdout",
     "output_type": "stream",
     "text": [
      "Epoch:158 -- Phase:val -- Loss:0.55 -- Acc:86.52\n",
      "Epoch:159 -- Phase:train -- Loss:0.15 -- Acc:94.57\n"
     ]
    },
    {
     "name": "stderr",
     "output_type": "stream",
     "text": [
      " 80%|████████  | 160/200 [55:26<13:52, 20.81s/it]"
     ]
    },
    {
     "name": "stdout",
     "output_type": "stream",
     "text": [
      "Epoch:159 -- Phase:val -- Loss:0.50 -- Acc:86.98\n",
      "Epoch:160 -- Phase:train -- Loss:0.16 -- Acc:94.56\n"
     ]
    },
    {
     "name": "stderr",
     "output_type": "stream",
     "text": [
      " 80%|████████  | 161/200 [55:47<13:30, 20.78s/it]"
     ]
    },
    {
     "name": "stdout",
     "output_type": "stream",
     "text": [
      "Epoch:160 -- Phase:val -- Loss:0.52 -- Acc:87.12\n",
      "Epoch:161 -- Phase:train -- Loss:0.16 -- Acc:94.58\n"
     ]
    },
    {
     "name": "stderr",
     "output_type": "stream",
     "text": [
      " 81%|████████  | 162/200 [56:07<13:10, 20.79s/it]"
     ]
    },
    {
     "name": "stdout",
     "output_type": "stream",
     "text": [
      "Epoch:161 -- Phase:val -- Loss:0.49 -- Acc:87.52\n",
      "Epoch:162 -- Phase:train -- Loss:0.15 -- Acc:94.79\n"
     ]
    },
    {
     "name": "stderr",
     "output_type": "stream",
     "text": [
      " 82%|████████▏ | 163/200 [56:28<12:49, 20.79s/it]"
     ]
    },
    {
     "name": "stdout",
     "output_type": "stream",
     "text": [
      "Epoch:162 -- Phase:val -- Loss:0.52 -- Acc:87.48\n",
      "Epoch:163 -- Phase:train -- Loss:0.16 -- Acc:94.67\n"
     ]
    },
    {
     "name": "stderr",
     "output_type": "stream",
     "text": [
      " 82%|████████▏ | 164/200 [56:49<12:29, 20.82s/it]"
     ]
    },
    {
     "name": "stdout",
     "output_type": "stream",
     "text": [
      "Epoch:163 -- Phase:val -- Loss:0.49 -- Acc:87.33\n",
      "Epoch:164 -- Phase:train -- Loss:0.15 -- Acc:94.72\n"
     ]
    },
    {
     "name": "stderr",
     "output_type": "stream",
     "text": [
      " 82%|████████▎ | 165/200 [57:10<12:08, 20.82s/it]"
     ]
    },
    {
     "name": "stdout",
     "output_type": "stream",
     "text": [
      "Epoch:164 -- Phase:val -- Loss:0.54 -- Acc:86.71\n",
      "Epoch:165 -- Phase:train -- Loss:0.15 -- Acc:94.79\n"
     ]
    },
    {
     "name": "stderr",
     "output_type": "stream",
     "text": [
      " 83%|████████▎ | 166/200 [57:31<11:47, 20.81s/it]"
     ]
    },
    {
     "name": "stdout",
     "output_type": "stream",
     "text": [
      "Epoch:165 -- Phase:val -- Loss:0.50 -- Acc:87.47\n",
      "Epoch:166 -- Phase:train -- Loss:0.15 -- Acc:94.82\n"
     ]
    },
    {
     "name": "stderr",
     "output_type": "stream",
     "text": [
      " 84%|████████▎ | 167/200 [57:52<11:26, 20.80s/it]"
     ]
    },
    {
     "name": "stdout",
     "output_type": "stream",
     "text": [
      "Epoch:166 -- Phase:val -- Loss:0.53 -- Acc:86.10\n",
      "Epoch:167 -- Phase:train -- Loss:0.15 -- Acc:94.80\n"
     ]
    },
    {
     "name": "stderr",
     "output_type": "stream",
     "text": [
      " 84%|████████▍ | 168/200 [58:12<11:05, 20.80s/it]"
     ]
    },
    {
     "name": "stdout",
     "output_type": "stream",
     "text": [
      "Epoch:167 -- Phase:val -- Loss:0.55 -- Acc:86.33\n",
      "Epoch:168 -- Phase:train -- Loss:0.15 -- Acc:94.85\n"
     ]
    },
    {
     "name": "stderr",
     "output_type": "stream",
     "text": [
      " 84%|████████▍ | 169/200 [58:33<10:45, 20.81s/it]"
     ]
    },
    {
     "name": "stdout",
     "output_type": "stream",
     "text": [
      "Epoch:168 -- Phase:val -- Loss:0.49 -- Acc:87.88\n",
      "Epoch:169 -- Phase:train -- Loss:0.15 -- Acc:94.96\n"
     ]
    },
    {
     "name": "stderr",
     "output_type": "stream",
     "text": [
      " 85%|████████▌ | 170/200 [58:54<10:23, 20.80s/it]"
     ]
    },
    {
     "name": "stdout",
     "output_type": "stream",
     "text": [
      "Epoch:169 -- Phase:val -- Loss:0.49 -- Acc:87.17\n",
      "Epoch:170 -- Phase:train -- Loss:0.15 -- Acc:94.90\n"
     ]
    },
    {
     "name": "stderr",
     "output_type": "stream",
     "text": [
      " 86%|████████▌ | 171/200 [59:15<10:03, 20.80s/it]"
     ]
    },
    {
     "name": "stdout",
     "output_type": "stream",
     "text": [
      "Epoch:170 -- Phase:val -- Loss:0.51 -- Acc:86.69\n",
      "Epoch:171 -- Phase:train -- Loss:0.15 -- Acc:94.94\n"
     ]
    },
    {
     "name": "stderr",
     "output_type": "stream",
     "text": [
      " 86%|████████▌ | 172/200 [59:36<09:42, 20.80s/it]"
     ]
    },
    {
     "name": "stdout",
     "output_type": "stream",
     "text": [
      "Epoch:171 -- Phase:val -- Loss:0.49 -- Acc:87.10\n",
      "Epoch:172 -- Phase:train -- Loss:0.15 -- Acc:94.85\n"
     ]
    },
    {
     "name": "stderr",
     "output_type": "stream",
     "text": [
      " 86%|████████▋ | 173/200 [59:56<09:22, 20.82s/it]"
     ]
    },
    {
     "name": "stdout",
     "output_type": "stream",
     "text": [
      "Epoch:172 -- Phase:val -- Loss:0.48 -- Acc:87.85\n",
      "Epoch:173 -- Phase:train -- Loss:0.15 -- Acc:94.99\n"
     ]
    },
    {
     "name": "stderr",
     "output_type": "stream",
     "text": [
      " 87%|████████▋ | 174/200 [1:00:17<09:01, 20.82s/it]"
     ]
    },
    {
     "name": "stdout",
     "output_type": "stream",
     "text": [
      "Epoch:173 -- Phase:val -- Loss:0.56 -- Acc:86.55\n",
      "Epoch:174 -- Phase:train -- Loss:0.14 -- Acc:95.09\n"
     ]
    },
    {
     "name": "stderr",
     "output_type": "stream",
     "text": [
      " 88%|████████▊ | 175/200 [1:00:38<08:40, 20.80s/it]"
     ]
    },
    {
     "name": "stdout",
     "output_type": "stream",
     "text": [
      "Epoch:174 -- Phase:val -- Loss:0.49 -- Acc:87.51\n",
      "Epoch:175 -- Phase:train -- Loss:0.14 -- Acc:95.11\n"
     ]
    },
    {
     "name": "stderr",
     "output_type": "stream",
     "text": [
      " 88%|████████▊ | 176/200 [1:00:59<08:18, 20.79s/it]"
     ]
    },
    {
     "name": "stdout",
     "output_type": "stream",
     "text": [
      "Epoch:175 -- Phase:val -- Loss:0.53 -- Acc:87.07\n",
      "Epoch:176 -- Phase:train -- Loss:0.15 -- Acc:94.95\n"
     ]
    },
    {
     "name": "stderr",
     "output_type": "stream",
     "text": [
      " 88%|████████▊ | 177/200 [1:01:20<07:58, 20.80s/it]"
     ]
    },
    {
     "name": "stdout",
     "output_type": "stream",
     "text": [
      "Epoch:176 -- Phase:val -- Loss:0.48 -- Acc:87.82\n",
      "Epoch:177 -- Phase:train -- Loss:0.14 -- Acc:95.14\n"
     ]
    },
    {
     "name": "stderr",
     "output_type": "stream",
     "text": [
      " 89%|████████▉ | 178/200 [1:01:40<07:36, 20.77s/it]"
     ]
    },
    {
     "name": "stdout",
     "output_type": "stream",
     "text": [
      "Epoch:177 -- Phase:val -- Loss:0.49 -- Acc:88.17\n",
      "Epoch:178 -- Phase:train -- Loss:0.14 -- Acc:94.97\n"
     ]
    },
    {
     "name": "stderr",
     "output_type": "stream",
     "text": [
      " 90%|████████▉ | 179/200 [1:02:01<07:16, 20.77s/it]"
     ]
    },
    {
     "name": "stdout",
     "output_type": "stream",
     "text": [
      "Epoch:178 -- Phase:val -- Loss:0.53 -- Acc:86.85\n",
      "Epoch:179 -- Phase:train -- Loss:0.14 -- Acc:94.96\n"
     ]
    },
    {
     "name": "stderr",
     "output_type": "stream",
     "text": [
      " 90%|█████████ | 180/200 [1:02:22<06:56, 20.81s/it]"
     ]
    },
    {
     "name": "stdout",
     "output_type": "stream",
     "text": [
      "Epoch:179 -- Phase:val -- Loss:0.50 -- Acc:87.14\n",
      "Epoch:180 -- Phase:train -- Loss:0.14 -- Acc:95.27\n"
     ]
    },
    {
     "name": "stderr",
     "output_type": "stream",
     "text": [
      " 90%|█████████ | 181/200 [1:02:43<06:35, 20.80s/it]"
     ]
    },
    {
     "name": "stdout",
     "output_type": "stream",
     "text": [
      "Epoch:180 -- Phase:val -- Loss:0.49 -- Acc:87.47\n",
      "Epoch:181 -- Phase:train -- Loss:0.14 -- Acc:95.03\n"
     ]
    },
    {
     "name": "stderr",
     "output_type": "stream",
     "text": [
      " 91%|█████████ | 182/200 [1:03:04<06:14, 20.79s/it]"
     ]
    },
    {
     "name": "stdout",
     "output_type": "stream",
     "text": [
      "Epoch:181 -- Phase:val -- Loss:0.52 -- Acc:86.89\n",
      "Epoch:182 -- Phase:train -- Loss:0.14 -- Acc:95.26\n"
     ]
    },
    {
     "name": "stderr",
     "output_type": "stream",
     "text": [
      " 92%|█████████▏| 183/200 [1:03:24<05:53, 20.80s/it]"
     ]
    },
    {
     "name": "stdout",
     "output_type": "stream",
     "text": [
      "Epoch:182 -- Phase:val -- Loss:0.57 -- Acc:86.51\n",
      "Epoch:183 -- Phase:train -- Loss:0.13 -- Acc:95.35\n"
     ]
    },
    {
     "name": "stderr",
     "output_type": "stream",
     "text": [
      " 92%|█████████▏| 184/200 [1:03:45<05:32, 20.80s/it]"
     ]
    },
    {
     "name": "stdout",
     "output_type": "stream",
     "text": [
      "Epoch:183 -- Phase:val -- Loss:0.51 -- Acc:87.18\n",
      "Epoch:184 -- Phase:train -- Loss:0.13 -- Acc:95.37\n"
     ]
    },
    {
     "name": "stderr",
     "output_type": "stream",
     "text": [
      " 92%|█████████▎| 185/200 [1:04:06<05:12, 20.83s/it]"
     ]
    },
    {
     "name": "stdout",
     "output_type": "stream",
     "text": [
      "Epoch:184 -- Phase:val -- Loss:0.54 -- Acc:86.88\n",
      "Epoch:185 -- Phase:train -- Loss:0.14 -- Acc:95.26\n"
     ]
    },
    {
     "name": "stderr",
     "output_type": "stream",
     "text": [
      " 93%|█████████▎| 186/200 [1:04:27<04:51, 20.84s/it]"
     ]
    },
    {
     "name": "stdout",
     "output_type": "stream",
     "text": [
      "Epoch:185 -- Phase:val -- Loss:0.53 -- Acc:86.88\n",
      "Epoch:186 -- Phase:train -- Loss:0.14 -- Acc:95.33\n"
     ]
    },
    {
     "name": "stderr",
     "output_type": "stream",
     "text": [
      " 94%|█████████▎| 187/200 [1:04:48<04:30, 20.84s/it]"
     ]
    },
    {
     "name": "stdout",
     "output_type": "stream",
     "text": [
      "Epoch:186 -- Phase:val -- Loss:0.49 -- Acc:87.95\n",
      "Epoch:187 -- Phase:train -- Loss:0.14 -- Acc:95.24\n"
     ]
    },
    {
     "name": "stderr",
     "output_type": "stream",
     "text": [
      " 94%|█████████▍| 188/200 [1:05:09<04:10, 20.84s/it]"
     ]
    },
    {
     "name": "stdout",
     "output_type": "stream",
     "text": [
      "Epoch:187 -- Phase:val -- Loss:0.47 -- Acc:88.06\n",
      "Epoch:188 -- Phase:train -- Loss:0.14 -- Acc:95.37\n"
     ]
    },
    {
     "name": "stderr",
     "output_type": "stream",
     "text": [
      " 94%|█████████▍| 189/200 [1:05:29<03:49, 20.85s/it]"
     ]
    },
    {
     "name": "stdout",
     "output_type": "stream",
     "text": [
      "Epoch:188 -- Phase:val -- Loss:0.53 -- Acc:86.73\n",
      "Epoch:189 -- Phase:train -- Loss:0.14 -- Acc:95.35\n"
     ]
    },
    {
     "name": "stderr",
     "output_type": "stream",
     "text": [
      " 95%|█████████▌| 190/200 [1:05:50<03:28, 20.86s/it]"
     ]
    },
    {
     "name": "stdout",
     "output_type": "stream",
     "text": [
      "Epoch:189 -- Phase:val -- Loss:0.51 -- Acc:87.41\n",
      "Epoch:190 -- Phase:train -- Loss:0.13 -- Acc:95.35\n"
     ]
    },
    {
     "name": "stderr",
     "output_type": "stream",
     "text": [
      " 96%|█████████▌| 191/200 [1:06:11<03:07, 20.86s/it]"
     ]
    },
    {
     "name": "stdout",
     "output_type": "stream",
     "text": [
      "Epoch:190 -- Phase:val -- Loss:0.50 -- Acc:87.81\n",
      "Epoch:191 -- Phase:train -- Loss:0.13 -- Acc:95.48\n"
     ]
    },
    {
     "name": "stderr",
     "output_type": "stream",
     "text": [
      " 96%|█████████▌| 192/200 [1:06:32<02:46, 20.86s/it]"
     ]
    },
    {
     "name": "stdout",
     "output_type": "stream",
     "text": [
      "Epoch:191 -- Phase:val -- Loss:0.53 -- Acc:87.07\n",
      "Epoch:192 -- Phase:train -- Loss:0.13 -- Acc:95.56\n"
     ]
    },
    {
     "name": "stderr",
     "output_type": "stream",
     "text": [
      " 96%|█████████▋| 193/200 [1:06:53<02:25, 20.82s/it]"
     ]
    },
    {
     "name": "stdout",
     "output_type": "stream",
     "text": [
      "Epoch:192 -- Phase:val -- Loss:0.47 -- Acc:88.15\n",
      "Epoch:193 -- Phase:train -- Loss:0.13 -- Acc:95.57\n"
     ]
    },
    {
     "name": "stderr",
     "output_type": "stream",
     "text": [
      " 97%|█████████▋| 194/200 [1:07:14<02:04, 20.82s/it]"
     ]
    },
    {
     "name": "stdout",
     "output_type": "stream",
     "text": [
      "Epoch:193 -- Phase:val -- Loss:0.48 -- Acc:88.01\n",
      "Epoch:194 -- Phase:train -- Loss:0.13 -- Acc:95.53\n"
     ]
    },
    {
     "name": "stderr",
     "output_type": "stream",
     "text": [
      " 98%|█████████▊| 195/200 [1:07:34<01:43, 20.78s/it]"
     ]
    },
    {
     "name": "stdout",
     "output_type": "stream",
     "text": [
      "Epoch:194 -- Phase:val -- Loss:0.49 -- Acc:87.69\n",
      "Epoch:195 -- Phase:train -- Loss:0.13 -- Acc:95.49\n"
     ]
    },
    {
     "name": "stderr",
     "output_type": "stream",
     "text": [
      " 98%|█████████▊| 196/200 [1:07:55<01:23, 20.78s/it]"
     ]
    },
    {
     "name": "stdout",
     "output_type": "stream",
     "text": [
      "Epoch:195 -- Phase:val -- Loss:0.50 -- Acc:88.22\n",
      "Epoch:196 -- Phase:train -- Loss:0.13 -- Acc:95.51\n"
     ]
    },
    {
     "name": "stderr",
     "output_type": "stream",
     "text": [
      " 98%|█████████▊| 197/200 [1:08:16<01:02, 20.80s/it]"
     ]
    },
    {
     "name": "stdout",
     "output_type": "stream",
     "text": [
      "Epoch:196 -- Phase:val -- Loss:0.51 -- Acc:87.55\n",
      "Epoch:197 -- Phase:train -- Loss:0.13 -- Acc:95.63\n"
     ]
    },
    {
     "name": "stderr",
     "output_type": "stream",
     "text": [
      " 99%|█████████▉| 198/200 [1:08:37<00:41, 20.81s/it]"
     ]
    },
    {
     "name": "stdout",
     "output_type": "stream",
     "text": [
      "Epoch:197 -- Phase:val -- Loss:0.54 -- Acc:87.40\n",
      "Epoch:198 -- Phase:train -- Loss:0.13 -- Acc:95.50\n"
     ]
    },
    {
     "name": "stderr",
     "output_type": "stream",
     "text": [
      "100%|█████████▉| 199/200 [1:08:58<00:20, 20.83s/it]"
     ]
    },
    {
     "name": "stdout",
     "output_type": "stream",
     "text": [
      "Epoch:198 -- Phase:val -- Loss:0.47 -- Acc:88.12\n",
      "Epoch:199 -- Phase:train -- Loss:0.12 -- Acc:95.73\n"
     ]
    },
    {
     "name": "stderr",
     "output_type": "stream",
     "text": [
      "100%|██████████| 200/200 [1:09:18<00:00, 20.79s/it]"
     ]
    },
    {
     "name": "stdout",
     "output_type": "stream",
     "text": [
      "Epoch:199 -- Phase:val -- Loss:0.53 -- Acc:87.25\n"
     ]
    },
    {
     "name": "stderr",
     "output_type": "stream",
     "text": [
      "\n"
     ]
    }
   ],
   "source": [
    "for epoch in tqdm(range(200)):\n",
    "    # Each epoch has a training and validation phase\n",
    "    for phase in ['train', 'val']:\n",
    "        if phase == 'train':\n",
    "            model.train()  # Set model to training mode\n",
    "        else:\n",
    "            model.eval()   # Set model to evaluate mode\n",
    "\n",
    "        current_loss = 0.0\n",
    "        current_corrects = 0\n",
    "\n",
    "        for batch_idx, (inputs, labels) in enumerate(dataloaders[phase], 1):\n",
    "            inputs,labels = inputs.to(device), labels.to(device)\n",
    "            optimizer.zero_grad()\n",
    "\n",
    "            # Time to carry out the forward training poss\n",
    "            with torch.set_grad_enabled(phase == 'train'):\n",
    "                outputs = model(inputs)\n",
    "                _, preds = torch.max(outputs, 1)\n",
    "                loss = LossFunc(outputs, labels)\n",
    "\n",
    "                # backward + optimize only if in training phase\n",
    "                if phase == 'train':\n",
    "                    loss.backward()\n",
    "                    optimizer.step()\n",
    "\n",
    "            # We want variables to hold the loss/acc statistics\n",
    "            current_loss += loss.item() * inputs.size(0)\n",
    "            current_corrects += torch.sum(preds == labels.data)\n",
    "        # saving variable for plottin\n",
    "        save_loss[phase] += [current_loss / len(dataloaders[phase].dataset)]\n",
    "        save_acc[phase] += [current_corrects.float() / len(dataloaders[phase].dataset)]\n",
    "        print(f\"Epoch:{epoch} -- Phase:{phase} -- Loss:{save_loss[phase][-1]:.2f} -- Acc:{save_acc[phase][-1]*100:.2f}\")\n"
   ]
  },
  {
   "cell_type": "code",
   "execution_count": 19,
   "metadata": {},
   "outputs": [
    {
     "name": "stdout",
     "output_type": "stream",
     "text": [
      "tensor(0.8822, device='cuda:0') 0.454971013879776\n"
     ]
    }
   ],
   "source": [
    "print(max(save_acc['val']),min(save_loss['val']))"
   ]
  },
  {
   "cell_type": "code",
   "execution_count": 21,
   "metadata": {},
   "outputs": [
    {
     "data": {
      "image/png": "[encoded data removed]",
      "text/plain": [
       "<Figure size 432x288 with 1 Axes>"
      ]
     },
     "metadata": {
      "needs_background": "light"
     },
     "output_type": "display_data"
    }
   ],
   "source": [
    "plt.plot(save_acc['train'])\n",
    "plt.plot(save_acc['val'])\n",
    "plt.legend([\"train\", \"val\"])\n",
    "plt.title(\"Accuracy\")\n",
    "plt.savefig('accuracy_regularized.png')\n"
   ]
  },
  {
   "cell_type": "code",
   "execution_count": 18,
   "metadata": {},
   "outputs": [
    {
     "data": {
      "text/plain": [
       "Text(0.5, 1.0, 'Loss')"
      ]
     },
     "execution_count": 18,
     "metadata": {},
     "output_type": "execute_result"
    },
    {
     "data": {
      "image/png": "[encoded data removed]",
      "text/plain": [
       "<Figure size 432x288 with 1 Axes>"
      ]
     },
     "metadata": {
      "needs_background": "light"
     },
     "output_type": "display_data"
    }
   ],
   "source": [
    "plt.plot(save_loss['train'])\n",
    "plt.plot(save_loss['val'])\n",
    "plt.legend([\"train\", \"val\"])\n",
    "plt.title(\"Loss\")\n"
   ]
  },
  {
   "cell_type": "code",
   "execution_count": 12,
   "metadata": {},
   "outputs": [],
   "source": [
    "# save resnet model\n",
    "PATH = './project1_model_v3.pt'\n",
    "torch.save(model.state_dict(), PATH)"
   ]
  },
  {
   "cell_type": "code",
   "execution_count": 13,
   "metadata": {},
   "outputs": [
    {
     "data": {
      "text/plain": [
       "True"
      ]
     },
     "execution_count": 13,
     "metadata": {},
     "output_type": "execute_result"
    }
   ],
   "source": [
    "torch.cuda.is_available()"
   ]
  },
  {
   "cell_type": "code",
   "execution_count": 14,
   "metadata": {},
   "outputs": [
    {
     "data": {
      "text/plain": [
       "device(type='cuda')"
      ]
     },
     "execution_count": 14,
     "metadata": {},
     "output_type": "execute_result"
    }
   ],
   "source": [
    "device"
   ]
  },
  {
   "cell_type": "code",
   "execution_count": null,
   "metadata": {},
   "outputs": [],
   "source": []
  }
 ],
 "metadata": {
  "kernelspec": {
   "display_name": "Python 3",
   "language": "python",
   "name": "python3"
  },
  "language_info": {
   "codemirror_mode": {
    "name": "ipython",
    "version": 3
   },
   "file_extension": ".py",
   "mimetype": "text/x-python",
   "name": "python",
   "nbconvert_exporter": "python",
   "pygments_lexer": "ipython3",
   "version": "3.8.6"
  }
 },
 "nbformat": 4,
 "nbformat_minor": 4
}
